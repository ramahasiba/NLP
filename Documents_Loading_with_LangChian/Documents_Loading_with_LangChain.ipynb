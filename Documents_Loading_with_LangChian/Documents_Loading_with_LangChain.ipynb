{
  "cells": [
    {
      "cell_type": "markdown",
      "metadata": {
        "colab_type": "text",
        "id": "view-in-github"
      },
      "source": [
        "<a href=\"https://colab.research.google.com/github/ramahasiba/NLP/blob/LangChain/Documents_Loading_with_LangChain.ipynb\" target=\"_parent\"><img src=\"https://colab.research.google.com/assets/colab-badge.svg\" alt=\"Open In Colab\"/></a>"
      ]
    },
    {
      "cell_type": "markdown",
      "id": "t-6y2axSfaXh",
      "metadata": {
        "id": "t-6y2axSfaXh"
      },
      "source": [
        "# RAG\n"
      ]
    },
    {
      "cell_type": "code",
      "execution_count": 13,
      "id": "yq4K7mntfdzB",
      "metadata": {
        "colab": {
          "base_uri": "https://localhost:8080/"
        },
        "collapsed": true,
        "id": "yq4K7mntfdzB",
        "outputId": "6851ce3f-92f8-4788-b669-08f3fa3eeeda"
      },
      "outputs": [
        {
          "name": "stdout",
          "output_type": "stream",
          "text": [
            "\u001b[2K   \u001b[90m━━━━━━━━━━━━━━━━━━━━━━━━━━━━━━━━━━━━━━━━\u001b[0m \u001b[32m2.5/2.5 MB\u001b[0m \u001b[31m25.7 MB/s\u001b[0m eta \u001b[36m0:00:00\u001b[0m\n",
            "\u001b[2K   \u001b[90m━━━━━━━━━━━━━━━━━━━━━━━━━━━━━━━━━━━━━━━━\u001b[0m \u001b[32m44.4/44.4 kB\u001b[0m \u001b[31m3.7 MB/s\u001b[0m eta \u001b[36m0:00:00\u001b[0m\n",
            "\u001b[2K   \u001b[90m━━━━━━━━━━━━━━━━━━━━━━━━━━━━━━━━━━━━━━━━\u001b[0m \u001b[32m50.9/50.9 kB\u001b[0m \u001b[31m4.5 MB/s\u001b[0m eta \u001b[36m0:00:00\u001b[0m\n",
            "\u001b[2K   \u001b[90m━━━━━━━━━━━━━━━━━━━━━━━━━━━━━━━━━━━━━━━━\u001b[0m \u001b[32m303.4/303.4 kB\u001b[0m \u001b[31m3.8 MB/s\u001b[0m eta \u001b[36m0:00:00\u001b[0m\n",
            "\u001b[2K     \u001b[90m━━━━━━━━━━━━━━━━━━━━━━━━━━━━━━━━━━━━━━━\u001b[0m \u001b[32m173.3/173.3 kB\u001b[0m \u001b[31m3.3 MB/s\u001b[0m eta \u001b[36m0:00:00\u001b[0m\n",
            "\u001b[2K   \u001b[90m━━━━━━━━━━━━━━━━━━━━━━━━━━━━━━━━━━━━━━━━\u001b[0m \u001b[32m3.2/3.2 MB\u001b[0m \u001b[31m37.7 MB/s\u001b[0m eta \u001b[36m0:00:00\u001b[0m\n",
            "\u001b[2K     \u001b[90m━━━━━━━━━━━━━━━━━━━━━━━━━━━━━━━━━━━━━━\u001b[0m \u001b[32m981.5/981.5 kB\u001b[0m \u001b[31m13.4 MB/s\u001b[0m eta \u001b[36m0:00:00\u001b[0m\n",
            "\u001b[?25h  Preparing metadata (setup.py) ... \u001b[?25l\u001b[?25hdone\n",
            "\u001b[2K   \u001b[90m━━━━━━━━━━━━━━━━━━━━━━━━━━━━━━━━━━━━━━━━\u001b[0m \u001b[32m1.8/1.8 MB\u001b[0m \u001b[31m39.7 MB/s\u001b[0m eta \u001b[36m0:00:00\u001b[0m\n",
            "\u001b[2K   \u001b[90m━━━━━━━━━━━━━━━━━━━━━━━━━━━━━━━━━━━━━━━━\u001b[0m \u001b[32m590.6/590.6 kB\u001b[0m \u001b[31m36.9 MB/s\u001b[0m eta \u001b[36m0:00:00\u001b[0m\n",
            "\u001b[2K   \u001b[90m━━━━━━━━━━━━━━━━━━━━━━━━━━━━━━━━━━━━━━━━\u001b[0m \u001b[32m167.6/167.6 kB\u001b[0m \u001b[31m15.2 MB/s\u001b[0m eta \u001b[36m0:00:00\u001b[0m\n",
            "\u001b[2K   \u001b[90m━━━━━━━━━━━━━━━━━━━━━━━━━━━━━━━━━━━━━━━━\u001b[0m \u001b[32m3.1/3.1 MB\u001b[0m \u001b[31m49.5 MB/s\u001b[0m eta \u001b[36m0:00:00\u001b[0m\n",
            "\u001b[2K   \u001b[90m━━━━━━━━━━━━━━━━━━━━━━━━━━━━━━━━━━━━━━━━\u001b[0m \u001b[32m192.1/192.1 kB\u001b[0m \u001b[31m18.4 MB/s\u001b[0m eta \u001b[36m0:00:00\u001b[0m\n",
            "\u001b[2K   \u001b[90m━━━━━━━━━━━━━━━━━━━━━━━━━━━━━━━━━━━━━━━━\u001b[0m \u001b[32m114.6/114.6 kB\u001b[0m \u001b[31m12.0 MB/s\u001b[0m eta \u001b[36m0:00:00\u001b[0m\n",
            "\u001b[?25h  Building wheel for langdetect (setup.py) ... \u001b[?25l\u001b[?25hdone\n"
          ]
        }
      ],
      "source": [
        "!pip install LangChain -q\n",
        "!pip install -U langchain-community -q\n",
        "!pip install pypdf -q\n",
        "!pip install yt_dlp -q\n",
        "!pip install pydub -q\n",
        "!pip install unstructured -q\n",
        "!pip install docx2txt -q\n",
        "!pip install openai -q\n",
        "!pip install python-dotenv -q\n",
        "!pip install xlrd -q"
      ]
    },
    {
      "cell_type": "code",
      "execution_count": 20,
      "id": "W-laY-iJ6DDf",
      "metadata": {
        "colab": {
          "base_uri": "https://localhost:8080/"
        },
        "collapsed": true,
        "id": "W-laY-iJ6DDf",
        "outputId": "72155698-789b-4ebd-bdc7-36a1aceb418c"
      },
      "outputs": [
        {
          "name": "stdout",
          "output_type": "stream",
          "text": [
            "Requirement already satisfied: openai in /usr/local/lib/python3.11/dist-packages (0.28.0)\n",
            "Collecting openai\n",
            "  Downloading openai-1.79.0-py3-none-any.whl.metadata (25 kB)\n",
            "Requirement already satisfied: anyio<5,>=3.5.0 in /usr/local/lib/python3.11/dist-packages (from openai) (4.9.0)\n",
            "Requirement already satisfied: distro<2,>=1.7.0 in /usr/local/lib/python3.11/dist-packages (from openai) (1.9.0)\n",
            "Requirement already satisfied: httpx<1,>=0.23.0 in /usr/local/lib/python3.11/dist-packages (from openai) (0.28.1)\n",
            "Requirement already satisfied: jiter<1,>=0.4.0 in /usr/local/lib/python3.11/dist-packages (from openai) (0.9.0)\n",
            "Requirement already satisfied: pydantic<3,>=1.9.0 in /usr/local/lib/python3.11/dist-packages (from openai) (2.11.4)\n",
            "Requirement already satisfied: sniffio in /usr/local/lib/python3.11/dist-packages (from openai) (1.3.1)\n",
            "Requirement already satisfied: tqdm>4 in /usr/local/lib/python3.11/dist-packages (from openai) (4.67.1)\n",
            "Requirement already satisfied: typing-extensions<5,>=4.11 in /usr/local/lib/python3.11/dist-packages (from openai) (4.13.2)\n",
            "Requirement already satisfied: idna>=2.8 in /usr/local/lib/python3.11/dist-packages (from anyio<5,>=3.5.0->openai) (3.10)\n",
            "Requirement already satisfied: certifi in /usr/local/lib/python3.11/dist-packages (from httpx<1,>=0.23.0->openai) (2025.4.26)\n",
            "Requirement already satisfied: httpcore==1.* in /usr/local/lib/python3.11/dist-packages (from httpx<1,>=0.23.0->openai) (1.0.9)\n",
            "Requirement already satisfied: h11>=0.16 in /usr/local/lib/python3.11/dist-packages (from httpcore==1.*->httpx<1,>=0.23.0->openai) (0.16.0)\n",
            "Requirement already satisfied: annotated-types>=0.6.0 in /usr/local/lib/python3.11/dist-packages (from pydantic<3,>=1.9.0->openai) (0.7.0)\n",
            "Requirement already satisfied: pydantic-core==2.33.2 in /usr/local/lib/python3.11/dist-packages (from pydantic<3,>=1.9.0->openai) (2.33.2)\n",
            "Requirement already satisfied: typing-inspection>=0.4.0 in /usr/local/lib/python3.11/dist-packages (from pydantic<3,>=1.9.0->openai) (0.4.0)\n",
            "Downloading openai-1.79.0-py3-none-any.whl (683 kB)\n",
            "\u001b[2K   \u001b[90m━━━━━━━━━━━━━━━━━━━━━━━━━━━━━━━━━━━━━━━━\u001b[0m \u001b[32m683.3/683.3 kB\u001b[0m \u001b[31m8.5 MB/s\u001b[0m eta \u001b[36m0:00:00\u001b[0m\n",
            "\u001b[?25hInstalling collected packages: openai\n",
            "  Attempting uninstall: openai\n",
            "    Found existing installation: openai 0.28.0\n",
            "    Uninstalling openai-0.28.0:\n",
            "      Successfully uninstalled openai-0.28.0\n",
            "Successfully installed openai-1.79.0\n"
          ]
        }
      ],
      "source": [
        "!pip install --upgrade openai"
      ]
    },
    {
      "cell_type": "code",
      "execution_count": 21,
      "id": "JqmRgcEzBI0Y",
      "metadata": {
        "id": "JqmRgcEzBI0Y"
      },
      "outputs": [],
      "source": [
        "import os\n",
        "import openai\n",
        "from dotenv import load_dotenv, find_dotenv\n",
        "from openai import OpenAI\n",
        "\n",
        "# Data Loading Libraries\n",
        "# Loading PDF\n",
        "from langchain.document_loaders import PyPDFLoader\n",
        "# Loading csv files\n",
        "from langchain.document_loaders.csv_loader import CSVLoader\n",
        "# Loading Microsoft Excel Files (xls & xlsx)\n",
        "from langchain.document_loaders import UnstructuredExcelLoader\n",
        "# Loading Microsoft Word Files (doc / docx)\n",
        "from langchain.document_loaders import Docx2txtLoader\n",
        "# Loading youtube video into text\n",
        "from langchain.document_loaders.generic import GenericLoader\n",
        "from langchain.document_loaders.parsers import OpenAIWhisperParser\n",
        "from langchain.document_loaders.blob_loaders.youtube_audio import YoutubeAudioLoader\n",
        "# Loading HTML Pages\n",
        "from langchain.document_loaders import WebBaseLoader"
      ]
    },
    {
      "cell_type": "code",
      "execution_count": 4,
      "id": "-i-9iCi6fdwC",
      "metadata": {
        "colab": {
          "base_uri": "https://localhost:8080/"
        },
        "id": "-i-9iCi6fdwC",
        "outputId": "33399f4f-61f8-4a9c-ed8a-f1a28727eed5"
      },
      "outputs": [
        {
          "name": "stdout",
          "output_type": "stream",
          "text": [
            "API key loaded successfully\n"
          ]
        }
      ],
      "source": [
        "_ = load_dotenv(find_dotenv()) # read local .env file\n",
        "openai.api_key = os.environ['OPENAI_API_KEY']\n",
        "\n",
        "# Load environment variables from a .env file\n",
        "load_dotenv()\n",
        "\n",
        "# Get the API key from the environment\n",
        "openai_api_key = os.getenv(\"OPENAI_API_KEY\")\n",
        "\n",
        "# Initialize the OpenAI client with the API key\n",
        "if openai_api_key:\n",
        "    # client = OpenAI(api_key=openai_api_key)\n",
        "    print(\"API key loaded successfully\")\n",
        "else:\n",
        "    print(\"Error: OPENAI_API_KEY not found in environment variables.\")\n",
        "\n",
        "# prompt: I need llm model that is gpt 4o mini\n",
        "\n",
        "llm_model = \"gpt-4o-mini\"\n",
        "\n",
        "client = OpenAI(\n",
        "    api_key=openai_api_key,\n",
        ")\n"
      ]
    },
    {
      "cell_type": "code",
      "execution_count": 2,
      "id": "n-zDkytC6p7Y",
      "metadata": {
        "colab": {
          "base_uri": "https://localhost:8080/"
        },
        "id": "n-zDkytC6p7Y",
        "outputId": "605b92c5-b7ae-4d6e-d09e-c5b3f58a526e"
      },
      "outputs": [
        {
          "name": "stdout",
          "output_type": "stream",
          "text": [
            "1.79.0\n"
          ]
        }
      ],
      "source": [
        "import openai\n",
        "print(openai.__version__)"
      ]
    },
    {
      "cell_type": "markdown",
      "id": "qqKf_s8j7p8o",
      "metadata": {
        "id": "qqKf_s8j7p8o"
      },
      "source": [
        "### 1. Loading PDFs"
      ]
    },
    {
      "cell_type": "code",
      "execution_count": 5,
      "id": "VGfyEgxzfdtF",
      "metadata": {
        "id": "VGfyEgxzfdtF"
      },
      "outputs": [],
      "source": [
        "pdf_file = \"/content/eBook-How-to-Build-a-Career-in-AI.pdf\"\n",
        "loader = PyPDFLoader(pdf_file)\n",
        "pages = loader.load()"
      ]
    },
    {
      "cell_type": "markdown",
      "id": "cyxl6F4A7_rg",
      "metadata": {
        "id": "cyxl6F4A7_rg"
      },
      "source": [
        "Check number of pages"
      ]
    },
    {
      "cell_type": "code",
      "execution_count": 6,
      "id": "lz7AQcDUfdp5",
      "metadata": {
        "colab": {
          "base_uri": "https://localhost:8080/"
        },
        "id": "lz7AQcDUfdp5",
        "outputId": "680d0407-926b-42ad-bc91-1438f5cf5c54"
      },
      "outputs": [
        {
          "data": {
            "text/plain": [
              "41"
            ]
          },
          "execution_count": 6,
          "metadata": {},
          "output_type": "execute_result"
        }
      ],
      "source": [
        "len(pages)"
      ]
    },
    {
      "cell_type": "markdown",
      "id": "cJ3cGrUM8xPw",
      "metadata": {
        "id": "cJ3cGrUM8xPw"
      },
      "source": [
        "check the content of the first page"
      ]
    },
    {
      "cell_type": "code",
      "execution_count": 9,
      "id": "BbX7eCaHfdnD",
      "metadata": {
        "colab": {
          "base_uri": "https://localhost:8080/"
        },
        "id": "BbX7eCaHfdnD",
        "outputId": "c64af9c3-23ac-4464-d4dc-d73c11d8f2ab"
      },
      "outputs": [
        {
          "name": "stdout",
          "output_type": "stream",
          "text": [
            "PAGE 1\n",
            "Founder, DeepLearning.AI\n",
            "Collected Insights\n",
            "from Andrew Ng\n",
            "How to \n",
            "Build\n",
            "Your\n",
            "Career\n",
            "in AI\n",
            "A Simple Guide\n"
          ]
        }
      ],
      "source": [
        "page = pages[0]\n",
        "print(page.page_content)"
      ]
    },
    {
      "cell_type": "markdown",
      "id": "UH9bBOkD9CiI",
      "metadata": {
        "id": "UH9bBOkD9CiI"
      },
      "source": [
        "check page metadata"
      ]
    },
    {
      "cell_type": "code",
      "execution_count": 10,
      "id": "bVwf8eLHfdj9",
      "metadata": {
        "colab": {
          "base_uri": "https://localhost:8080/"
        },
        "id": "bVwf8eLHfdj9",
        "outputId": "dcc0443b-2227-45cb-9093-01735d5402a3"
      },
      "outputs": [
        {
          "data": {
            "text/plain": [
              "{'producer': 'Adobe PDF Library 17.0',\n",
              " 'creator': 'Adobe InDesign 18.0 (Macintosh)',\n",
              " 'creationdate': '2022-12-13T16:08:00-05:00',\n",
              " 'moddate': '2023-01-04T20:50:56+02:00',\n",
              " 'trapped': '/False',\n",
              " 'source': '/content/eBook-How-to-Build-a-Career-in-AI.pdf',\n",
              " 'total_pages': 41,\n",
              " 'page': 0,\n",
              " 'page_label': '1'}"
            ]
          },
          "execution_count": 10,
          "metadata": {},
          "output_type": "execute_result"
        }
      ],
      "source": [
        "page.metadata"
      ]
    },
    {
      "cell_type": "markdown",
      "id": "n37E8YX29jR4",
      "metadata": {
        "id": "n37E8YX29jR4"
      },
      "source": [
        "### 2. Loading CSV files"
      ]
    },
    {
      "cell_type": "code",
      "execution_count": 14,
      "id": "ZWhryS6eAuQ9",
      "metadata": {
        "id": "ZWhryS6eAuQ9"
      },
      "outputs": [],
      "source": [
        "loader = CSVLoader(file_path = \"/content/earthquake_data.csv\")\n",
        "data = loader.load()"
      ]
    },
    {
      "cell_type": "markdown",
      "id": "al5rpeRnBiHn",
      "metadata": {
        "id": "al5rpeRnBiHn"
      },
      "source": [
        "Check loaded data"
      ]
    },
    {
      "cell_type": "code",
      "execution_count": 18,
      "id": "a_pW3uwVfdc9",
      "metadata": {
        "colab": {
          "base_uri": "https://localhost:8080/"
        },
        "id": "a_pW3uwVfdc9",
        "outputId": "c8e687a8-7910-4b40-a41b-c6a021d3b206"
      },
      "outputs": [
        {
          "name": "stdout",
          "output_type": "stream",
          "text": [
            "[Document(metadata={'source': '/content/earthquake_data.csv', 'row': 0}, page_content='title: M 7.0 - 18 km SW of Malango, Solomon Islands\\nmagnitude: 7\\ndate_time: 22-11-2022 02:03\\ncdi: 8\\nmmi: 7\\nalert: green\\ntsunami: 1\\nsig: 768\\nnet: us\\nnst: 117\\ndmin: 0.509\\ngap: 17\\nmagType: mww\\ndepth: 14\\nlatitude: -9.7963\\nlongitude: 159.596\\nlocation: Malango, Solomon Islands\\ncontinent: Oceania\\ncountry: Solomon Islands'), Document(metadata={'source': '/content/earthquake_data.csv', 'row': 1}, page_content='title: M 6.9 - 204 km SW of Bengkulu, Indonesia\\nmagnitude: 6.9\\ndate_time: 18-11-2022 13:37\\ncdi: 4\\nmmi: 4\\nalert: green\\ntsunami: 0\\nsig: 735\\nnet: us\\nnst: 99\\ndmin: 2.229\\ngap: 34\\nmagType: mww\\ndepth: 25\\nlatitude: -4.9559\\nlongitude: 100.738\\nlocation: Bengkulu, Indonesia\\ncontinent: \\ncountry: '), Document(metadata={'source': '/content/earthquake_data.csv', 'row': 2}, page_content='title: M 7.0 -\\nmagnitude: 7\\ndate_time: 12-11-2022 07:09\\ncdi: 3\\nmmi: 3\\nalert: green\\ntsunami: 1\\nsig: 755\\nnet: us\\nnst: 147\\ndmin: 3.125\\ngap: 18\\nmagType: mww\\ndepth: 579\\nlatitude: -20.0508\\nlongitude: -178.346\\nlocation: \\ncontinent: Oceania\\ncountry: Fiji'), Document(metadata={'source': '/content/earthquake_data.csv', 'row': 3}, page_content='title: M 7.3 - 205 km ESE of Neiafu, Tonga\\nmagnitude: 7.3\\ndate_time: 11-11-2022 10:48\\ncdi: 5\\nmmi: 5\\nalert: green\\ntsunami: 1\\nsig: 833\\nnet: us\\nnst: 149\\ndmin: 1.865\\ngap: 21\\nmagType: mww\\ndepth: 37\\nlatitude: -19.2918\\nlongitude: -172.129\\nlocation: Neiafu, Tonga\\ncontinent: \\ncountry: '), Document(metadata={'source': '/content/earthquake_data.csv', 'row': 4}, page_content='title: M 6.6 -\\nmagnitude: 6.6\\ndate_time: 09-11-2022 10:14\\ncdi: 0\\nmmi: 2\\nalert: green\\ntsunami: 1\\nsig: 670\\nnet: us\\nnst: 131\\ndmin: 4.998\\ngap: 27\\nmagType: mww\\ndepth: 624.464\\nlatitude: -25.5948\\nlongitude: 178.278\\nlocation: \\ncontinent: \\ncountry: '), Document(metadata={'source': '/content/earthquake_data.csv', 'row': 5}, page_content='title: M 7.0 - south of the Fiji Islands\\nmagnitude: 7\\ndate_time: 09-11-2022 09:51\\ncdi: 4\\nmmi: 3\\nalert: green\\ntsunami: 1\\nsig: 755\\nnet: us\\nnst: 142\\ndmin: 4.578\\ngap: 26\\nmagType: mwb\\ndepth: 660\\nlatitude: -26.0442\\nlongitude: 178.381\\nlocation: the Fiji Islands\\ncontinent: \\ncountry: '), Document(metadata={'source': '/content/earthquake_data.csv', 'row': 6}, page_content='title: M 6.8 - south of the Fiji Islands\\nmagnitude: 6.8\\ndate_time: 09-11-2022 09:38\\ncdi: 1\\nmmi: 3\\nalert: green\\ntsunami: 1\\nsig: 711\\nnet: us\\nnst: 136\\ndmin: 4.678\\ngap: 22\\nmagType: mww\\ndepth: 630.379\\nlatitude: -25.9678\\nlongitude: 178.363\\nlocation: the Fiji Islands\\ncontinent: \\ncountry: '), Document(metadata={'source': '/content/earthquake_data.csv', 'row': 7}, page_content='title: M 6.7 - 60 km SSW of Boca Chica, Panama\\nmagnitude: 6.7\\ndate_time: 20-10-2022 11:57\\ncdi: 7\\nmmi: 6\\nalert: green\\ntsunami: 1\\nsig: 797\\nnet: us\\nnst: 145\\ndmin: 1.151\\ngap: 37\\nmagType: mww\\ndepth: 20\\nlatitude: 7.6712\\nlongitude: -82.3396\\nlocation: Boca Chica, Panama\\ncontinent: \\ncountry: Panama'), Document(metadata={'source': '/content/earthquake_data.csv', 'row': 8}, page_content='title: M 6.8 - 55 km SSW of Aguililla, Mexico\\nmagnitude: 6.8\\ndate_time: 22-09-2022 06:16\\ncdi: 8\\nmmi: 7\\nalert: yellow\\ntsunami: 1\\nsig: 1179\\nnet: us\\nnst: 175\\ndmin: 2.137\\ngap: 92\\nmagType: mww\\ndepth: 20\\nlatitude: 18.33\\nlongitude: -102.913\\nlocation: Aguililla, Mexico\\ncontinent: North America\\ncountry: Mexico'), Document(metadata={'source': '/content/earthquake_data.csv', 'row': 9}, page_content='title: M 7.6 - 35 km SSW of Aguililla, Mexico\\nmagnitude: 7.6\\ndate_time: 19-09-2022 18:05\\ncdi: 9\\nmmi: 8\\nalert: yellow\\ntsunami: 1\\nsig: 1799\\nnet: us\\nnst: 271\\ndmin: 1.153\\ngap: 69\\nmagType: mww\\ndepth: 26.943\\nlatitude: 18.3667\\nlongitude: -103.252\\nlocation: Aguililla, Mexico\\ncontinent: North America\\ncountry: Mexico'), Document(metadata={'source': '/content/earthquake_data.csv', 'row': 10}, page_content='title: M 6.9 - 90 km E of Yujing, Taiwan\\nmagnitude: 6.9\\ndate_time: 18-09-2022 06:44\\ncdi: 9\\nmmi: 9\\nalert: yellow\\ntsunami: 1\\nsig: 887\\nnet: us\\nnst: 215\\ndmin: 0.401\\ngap: 34\\nmagType: mww\\ndepth: 10\\nlatitude: 23.1444\\nlongitude: 121.307\\nlocation: Yujing, Taiwan\\ncontinent: Asia\\ncountry: Taiwan'), Document(metadata={'source': '/content/earthquake_data.csv', 'row': 11}, page_content='title: M 6.5 - 96 km SE of Lugu, Taiwan\\nmagnitude: 6.5\\ndate_time: 17-09-2022 13:41\\ncdi: 7\\nmmi: 7\\nalert: green\\ntsunami: 1\\nsig: 756\\nnet: us\\nnst: 178\\ndmin: 0.43\\ngap: 54\\nmagType: mww\\ndepth: 10\\nlatitude: 23.029\\nlongitude: 121.348\\nlocation: Lugu, Taiwan\\ncontinent: Asia\\ncountry: Taiwan'), Document(metadata={'source': '/content/earthquake_data.csv', 'row': 12}, page_content='title: M 7.0 - 209 km SSE of Isangel, Vanuatu\\nmagnitude: 7\\ndate_time: 14-09-2022 11:04\\ncdi: 7\\nmmi: 5\\nalert: green\\ntsunami: 1\\nsig: 761\\nnet: us\\nnst: 192\\ndmin: 2.977\\ngap: 45\\nmagType: mww\\ndepth: 137\\nlatitude: -21.2077\\nlongitude: 170.239\\nlocation: Isangel, Vanuatu\\ncontinent: \\ncountry: '), Document(metadata={'source': '/content/earthquake_data.csv', 'row': 13}, page_content='title: M 7.6 - 70 km E of Kainantu, Papua New Guinea\\nmagnitude: 7.6\\ndate_time: 10-09-2022 23:47\\ncdi: 8\\nmmi: 8\\nalert: yellow\\ntsunami: 1\\nsig: 965\\nnet: us\\nnst: 272\\ndmin: 3.158\\ngap: 12\\nmagType: mww\\ndepth: 116\\nlatitude: -6.2237\\nlongitude: 146.471\\nlocation: Kainantu, Papua New Guinea\\ncontinent: Oceania\\ncountry: Papua New Guinea'), Document(metadata={'source': '/content/earthquake_data.csv', 'row': 14}, page_content=\"title: M 6.6 - 44 km SE of Kangding, China\\nmagnitude: 6.6\\ndate_time: 05-09-2022 04:52\\ncdi: 9\\nmmi: 8\\nalert: orange\\ntsunami: 0\\nsig: 1043\\nnet: us\\nnst: 141\\ndmin: 8.454\\ngap: 34\\nmagType: mww\\ndepth: 12\\nlatitude: 29.7263\\nlongitude: 102.279\\nlocation: Kangding, China\\ncontinent: Asia\\ncountry: People's Republic of China\"), Document(metadata={'source': '/content/earthquake_data.csv', 'row': 15}, page_content='title: M 6.6 - south of the Kermadec Islands\\nmagnitude: 6.6\\ndate_time: 14-08-2022 13:44\\ncdi: 7\\nmmi: 6\\nalert: green\\ntsunami: 1\\nsig: 672\\nnet: us\\nnst: 68\\ndmin: 5.293\\ngap: 34\\nmagType: mww\\ndepth: 30\\nlatitude: -32.6922\\nlongitude: -178.959\\nlocation: the Kermadec Islands\\ncontinent: \\ncountry: '), Document(metadata={'source': '/content/earthquake_data.csv', 'row': 16}, page_content='title: M 7.0 - 11 km NE of Bantay, Philippines\\nmagnitude: 7\\ndate_time: 27-07-2022 00:43\\ncdi: 9\\nmmi: 8\\nalert: yellow\\ntsunami: 1\\nsig: 1351\\nnet: us\\nnst: 152\\ndmin: 5.276\\ngap: 22\\nmagType: mww\\ndepth: 33.729\\nlatitude: 17.5978\\nlongitude: 120.809\\nlocation: Bantay, Philippines\\ncontinent: Asia\\ncountry: Philippines'), Document(metadata={'source': '/content/earthquake_data.csv', 'row': 17}, page_content='title: M 6.5 - 107 km SSW of Tarauacá, Brazil\\nmagnitude: 6.5\\ndate_time: 08-06-2022 00:55\\ncdi: 3\\nmmi: 2\\nalert: green\\ntsunami: 0\\nsig: 653\\nnet: us\\nnst: 236\\ndmin: 1.999\\ngap: 31\\nmagType: mww\\ndepth: 622.73\\nlatitude: -9.0618\\nlongitude: -71.1647\\nlocation: Tarauacá, Brazil\\ncontinent: South America\\ncountry: Brazil'), Document(metadata={'source': '/content/earthquake_data.csv', 'row': 18}, page_content='title: M 7.2 - 10 km W of Azángaro, Peru\\nmagnitude: 7.2\\ndate_time: 26-05-2022 12:02\\ncdi: 7\\nmmi: 5\\nalert: green\\ntsunami: 1\\nsig: 876\\nnet: us\\nnst: 144\\ndmin: 2.494\\ngap: 40\\nmagType: mww\\ndepth: 236\\nlatitude: -14.8628\\nlongitude: -70.3081\\nlocation: Azángaro, Peru\\ncontinent: South America\\ncountry: Peru'), Document(metadata={'source': '/content/earthquake_data.csv', 'row': 19}, page_content='title: M 6.9 -\\nmagnitude: 6.9\\ndate_time: 19-05-2022 10:13\\ncdi: 2\\nmmi: 5\\nalert: green\\ntsunami: 1\\nsig: 733\\nnet: us\\nnst: 127\\ndmin: 0.371\\ngap: 45\\nmagType: mww\\ndepth: 10\\nlatitude: -54.1325\\nlongitude: 159.027\\nlocation: \\ncontinent: \\ncountry: '), Document(metadata={'source': '/content/earthquake_data.csv', 'row': 20}, page_content='title: M 6.8 - 86 km NNW of San Antonio de los Cobres, Argentina\\nmagnitude: 6.8\\ndate_time: 10-05-2022 23:06\\ncdi: 6\\nmmi: 5\\nalert: green\\ntsunami: 1\\nsig: 762\\nnet: us\\nnst: 162\\ndmin: 1.505\\ngap: 30\\nmagType: mww\\ndepth: 220\\nlatitude: -23.6141\\nlongitude: -66.7236\\nlocation: San Antonio de los Cobres, Argentina\\ncontinent: South America\\ncountry: Argentina'), Document(metadata={'source': '/content/earthquake_data.csv', 'row': 21}, page_content='title: M 6.6 - 55 km WSW of Masachapa, Nicaragua\\nmagnitude: 6.6\\ndate_time: 21-04-2022 07:42\\ncdi: 6\\nmmi: 5\\nalert: green\\ntsunami: 1\\nsig: 762\\nnet: us\\nnst: 0\\ndmin: 0.914\\ngap: 94\\nmagType: mww\\ndepth: 27\\nlatitude: 11.5538\\nlongitude: -86.9919\\nlocation: Masachapa, Nicaragua\\ncontinent: \\ncountry: '), Document(metadata={'source': '/content/earthquake_data.csv', 'row': 22}, page_content='title: M 7.0 - southeast of the Loyalty Islands\\nmagnitude: 7\\ndate_time: 31-03-2022 05:44\\ncdi: 6\\nmmi: 4\\nalert: green\\ntsunami: 1\\nsig: 763\\nnet: us\\nnst: 0\\ndmin: 2.705\\ngap: 26\\nmagType: mww\\ndepth: 10\\nlatitude: -22.5732\\nlongitude: 170.349\\nlocation: the Loyalty Islands\\ncontinent: \\ncountry: '), Document(metadata={'source': '/content/earthquake_data.csv', 'row': 23}, page_content='title: M 6.9 - 284 km ESE of Tadine, New Caledonia\\nmagnitude: 6.9\\ndate_time: 30-03-2022 20:56\\ncdi: 6\\nmmi: 4\\nalert: green\\ntsunami: 1\\nsig: 738\\nnet: us\\nnst: 0\\ndmin: 2.697\\ngap: 42\\nmagType: mww\\ndepth: 10\\nlatitude: -22.72\\nlongitude: 170.277\\nlocation: Tadine, New Caledonia\\ncontinent: \\ncountry: '), Document(metadata={'source': '/content/earthquake_data.csv', 'row': 24}, page_content='title: M 6.7 - 65 km S of Hualien City, Taiwan\\nmagnitude: 6.7\\ndate_time: 22-03-2022 17:41\\ncdi: 8\\nmmi: 7\\nalert: green\\ntsunami: 1\\nsig: 806\\nnet: us\\nnst: 0\\ndmin: 0.289\\ngap: 32\\nmagType: mww\\ndepth: 24\\nlatitude: 23.3421\\nlongitude: 121.636\\nlocation: Hualien City, Taiwan\\ncontinent: Asia\\ncountry: Taiwan'), Document(metadata={'source': '/content/earthquake_data.csv', 'row': 25}, page_content='title: M 7.3 - 57 km ENE of Namie, Japan\\nmagnitude: 7.3\\ndate_time: 16-03-2022 14:36\\ncdi: 9\\nmmi: 8\\nalert: red\\ntsunami: 1\\nsig: 2397\\nnet: us\\nnst: 0\\ndmin: 2.936\\ngap: 29\\nmagType: mww\\ndepth: 41\\nlatitude: 37.7015\\nlongitude: 141.587\\nlocation: Namie, Japan\\ncontinent: \\ncountry: '), Document(metadata={'source': '/content/earthquake_data.csv', 'row': 26}, page_content='title: M 6.7 - 166 km W of Pariaman, Indonesia\\nmagnitude: 6.7\\ndate_time: 13-03-2022 21:09\\ncdi: 9\\nmmi: 6\\nalert: green\\ntsunami: 0\\nsig: 708\\nnet: us\\nnst: 0\\ndmin: 2.188\\ngap: 43\\nmagType: mww\\ndepth: 28\\nlatitude: -0.6831\\nlongitude: 98.6034\\nlocation: Pariaman, Indonesia\\ncontinent: Asia\\ncountry: Indonesia'), Document(metadata={'source': '/content/earthquake_data.csv', 'row': 27}, page_content='title: M 6.6 - Kermadec Islands, New Zealand\\nmagnitude: 6.6\\ndate_time: 02-03-2022 12:52\\ncdi: 2\\nmmi: 7\\nalert: green\\ntsunami: 1\\nsig: 670\\nnet: us\\nnst: 0\\ndmin: 0.827\\ngap: 46\\nmagType: mww\\ndepth: 24\\nlatitude: -30.0528\\nlongitude: -177.74\\nlocation: Kermadec Islands, New Zealand\\ncontinent: \\ncountry: '), Document(metadata={'source': '/content/earthquake_data.csv', 'row': 28}, page_content='title: M 6.8 - south of the Fiji Islands\\nmagnitude: 6.8\\ndate_time: 16-02-2022 20:21\\ncdi: 2\\nmmi: 3\\nalert: green\\ntsunami: 1\\nsig: 712\\nnet: us\\nnst: 0\\ndmin: 5.78\\ngap: 12\\nmagType: mww\\ndepth: 535\\nlatitude: -23.7852\\nlongitude: -179.968\\nlocation: the Fiji Islands\\ncontinent: \\ncountry: '), Document(metadata={'source': '/content/earthquake_data.csv', 'row': 29}, page_content='title: M 6.5 - 49 km NW of Barranca, Peru\\nmagnitude: 6.5\\ndate_time: 03-02-2022 15:58\\ncdi: 8\\nmmi: 6\\nalert: green\\ntsunami: 0\\nsig: 690\\nnet: us\\nnst: 0\\ndmin: 3.026\\ngap: 22\\nmagType: mww\\ndepth: 110\\nlatitude: -4.455\\nlongitude: -76.9395\\nlocation: Barranca, Peru\\ncontinent: South America\\ncountry: Peru'), Document(metadata={'source': '/content/earthquake_data.csv', 'row': 30}, page_content='title: M 6.5 - Kermadec Islands region\\nmagnitude: 6.5\\ndate_time: 29-01-2022 02:46\\ncdi: 7\\nmmi: 4\\nalert: green\\ntsunami: 1\\nsig: 651\\nnet: us\\nnst: 0\\ndmin: 1.088\\ngap: 57\\nmagType: mww\\ndepth: 8\\nlatitude: -29.535\\nlongitude: -176.729\\nlocation: Kermadec Islands region\\ncontinent: \\ncountry: '), Document(metadata={'source': '/content/earthquake_data.csv', 'row': 31}, page_content='title: M 6.6 - 80 km SW of Labuan, Indonesia\\nmagnitude: 6.6\\ndate_time: 14-01-2022 09:05\\ncdi: 8\\nmmi: 6\\nalert: green\\ntsunami: 0\\nsig: 785\\nnet: us\\nnst: 0\\ndmin: 2.418\\ngap: 22\\nmagType: mww\\ndepth: 33\\nlatitude: -6.9291\\nlongitude: 105.251\\nlocation: Labuan, Indonesia\\ncontinent: \\ncountry: Indonesia'), Document(metadata={'source': '/content/earthquake_data.csv', 'row': 32}, page_content='title: M 6.5 - 71 km SE of Nikolski, Alaska\\nmagnitude: 6.5\\ndate_time: 11-01-2022 12:39\\ncdi: 0\\nmmi: 3\\nalert: \\ntsunami: 1\\nsig: 650\\nnet: at\\nnst: 97\\ndmin: 1.61607\\ngap: 108\\nmagType: Mi\\ndepth: 37\\nlatitude: 52.502\\nlongitude: -168.08\\nlocation: Nikolski, Alaska\\ncontinent: \\ncountry: '), Document(metadata={'source': '/content/earthquake_data.csv', 'row': 33}, page_content='title: M 6.5 - 71 km SE of Nikolski, Alaska\\nmagnitude: 6.5\\ndate_time: 11-01-2022 12:39\\ncdi: 0\\nmmi: 3\\nalert: \\ntsunami: 1\\nsig: 650\\nnet: pt\\nnst: 23\\ndmin: 0\\ngap: 208.8\\nmagType: Mi\\ndepth: 37\\nlatitude: 52.502\\nlongitude: -168.08\\nlocation: Nikolski, Alaska\\ncontinent: \\ncountry: '), Document(metadata={'source': '/content/earthquake_data.csv', 'row': 34}, page_content='title: M 6.6 - 53 km SE of Nikolski, Alaska\\nmagnitude: 6.6\\ndate_time: 11-01-2022 12:39\\ncdi: 8\\nmmi: 5\\nalert: green\\ntsunami: 1\\nsig: 674\\nnet: us\\nnst: 0\\ndmin: 0.507\\ngap: 49\\nmagType: mww\\ndepth: 19\\nlatitude: 52.6252\\nlongitude: -168.15\\nlocation: Nikolski, Alaska\\ncontinent: \\ncountry: '), Document(metadata={'source': '/content/earthquake_data.csv', 'row': 35}, page_content='title: M 6.7 - 91 km SE of Nikolski, Alaska\\nmagnitude: 6.7\\ndate_time: 11-01-2022 11:35\\ncdi: 0\\nmmi: 4\\nalert: \\ntsunami: 1\\nsig: 691\\nnet: at\\nnst: 50\\ndmin: 0.936943\\ngap: 126\\nmagType: Mi\\ndepth: 33\\nlatitude: 52.48\\nlongitude: -167.736\\nlocation: Nikolski, Alaska\\ncontinent: \\ncountry: '), Document(metadata={'source': '/content/earthquake_data.csv', 'row': 36}, page_content='title: M 6.7 - 91 km SE of Nikolski, Alaska\\nmagnitude: 6.7\\ndate_time: 11-01-2022 11:35\\ncdi: 0\\nmmi: 4\\nalert: \\ntsunami: 1\\nsig: 691\\nnet: pt\\nnst: 20\\ndmin: 0\\ngap: 205.2\\nmagType: Mi\\ndepth: 33\\nlatitude: 52.48\\nlongitude: -167.736\\nlocation: Nikolski, Alaska\\ncontinent: \\ncountry: '), Document(metadata={'source': '/content/earthquake_data.csv', 'row': 37}, page_content='title: M 6.8 - 100 km SE of Nikolski, Alaska\\nmagnitude: 6.8\\ndate_time: 11-01-2022 11:35\\ncdi: 7\\nmmi: 6\\nalert: green\\ntsunami: 1\\nsig: 730\\nnet: us\\nnst: 0\\ndmin: 0.92\\ngap: 61\\nmagType: mww\\ndepth: 20\\nlatitude: 52.6563\\nlongitude: -167.917\\nlocation: Nikolski, Alaska\\ncontinent: \\ncountry: '), Document(metadata={'source': '/content/earthquake_data.csv', 'row': 38}, page_content='title: M 6.6 - 48 km WNW of Pólis, Cyprus\\nmagnitude: 6.6\\ndate_time: 11-01-2022 01:07\\ncdi: 6\\nmmi: 6\\nalert: green\\ntsunami: 0\\nsig: 976\\nnet: us\\nnst: 0\\ndmin: 1.168\\ngap: 21\\nmagType: mww\\ndepth: 21\\nlatitude: 35.1456\\nlongitude: 31.9095\\nlocation: Pólis, Cyprus\\ncontinent: Asia\\ncountry: '), Document(metadata={'source': '/content/earthquake_data.csv', 'row': 39}, page_content=\"title: M 6.6 - northern Qinghai, China\\nmagnitude: 6.6\\ndate_time: 07-01-2022 17:45\\ncdi: 9\\nmmi: 8\\nalert: orange\\ntsunami: 0\\nsig: 1012\\nnet: us\\nnst: 0\\ndmin: 2.685\\ngap: 13\\nmagType: mww\\ndepth: 13\\nlatitude: 37.8167\\nlongitude: 101.299\\nlocation: northern Qinghai, China\\ncontinent: Asia\\ncountry: People's Republic of China\"), Document(metadata={'source': '/content/earthquake_data.csv', 'row': 40}, page_content='title: M 7.3 - 125 km NNE of Lospalos, Timor Leste\\nmagnitude: 7.3\\ndate_time: 29-12-2021 18:25\\ncdi: 8\\nmmi: 7\\nalert: green\\ntsunami: 0\\nsig: 921\\nnet: us\\nnst: 0\\ndmin: 3.713\\ngap: 19\\nmagType: mww\\ndepth: 165.49\\nlatitude: -7.5924\\nlongitude: 127.581\\nlocation: Lospalos, Timor Leste\\ncontinent: \\ncountry: Indonesia'), Document(metadata={'source': '/content/earthquake_data.csv', 'row': 41}, page_content='title: M 7.3 - Flores Sea\\nmagnitude: 7.3\\ndate_time: 14-12-2021 03:20\\ncdi: 9\\nmmi: 5\\nalert: green\\ntsunami: 1\\nsig: 854\\nnet: us\\nnst: 0\\ndmin: 1.025\\ngap: 32\\nmagType: mww\\ndepth: 14.27\\nlatitude: -7.6033\\nlongitude: 122.2\\nlocation: Flores Sea\\ncontinent: Asia\\ncountry: Indonesia'), Document(metadata={'source': '/content/earthquake_data.csv', 'row': 42}, page_content='title: M 7.5 - 43 km NNW of Barranca, Peru\\nmagnitude: 7.5\\ndate_time: 28-11-2021 10:52\\ncdi: 8\\nmmi: 8\\nalert: yellow\\ntsunami: 1\\nsig: 1094\\nnet: us\\nnst: 0\\ndmin: 4.951\\ngap: 40\\nmagType: mww\\ndepth: 126\\nlatitude: -4.4898\\nlongitude: -76.8461\\nlocation: Barranca, Peru\\ncontinent: South America\\ncountry: Peru'), Document(metadata={'source': '/content/earthquake_data.csv', 'row': 43}, page_content='title: M 6.6 - 177 km SE of Hirara, Japan\\nmagnitude: 6.6\\ndate_time: 10-11-2021 15:45\\ncdi: 7\\nmmi: 4\\nalert: green\\ntsunami: 1\\nsig: 688\\nnet: us\\nnst: 0\\ndmin: 3.259\\ngap: 15\\nmagType: mww\\ndepth: 12\\nlatitude: 23.5414\\nlongitude: 126.48\\nlocation: Hirara, Japan\\ncontinent: \\ncountry: '), Document(metadata={'source': '/content/earthquake_data.csv', 'row': 44}, page_content='title: M 6.9 - 112 km E of Chignik, Alaska\\nmagnitude: 6.9\\ndate_time: 11-10-2021 09:10\\ncdi: 8\\nmmi: 6\\nalert: green\\ntsunami: 1\\nsig: 995\\nnet: ak\\nnst: 0\\ndmin: 0\\ngap: 0\\nmagType: mww\\ndepth: 51.6\\nlatitude: 56.2581\\nlongitude: -156.492\\nlocation: Chignik, Alaska\\ncontinent: North America\\ncountry: United States of America'), Document(metadata={'source': '/content/earthquake_data.csv', 'row': 45}, page_content='title: M 6.9 - Vanuatu region\\nmagnitude: 6.9\\ndate_time: 09-10-2021 10:58\\ncdi: 4\\nmmi: 3\\nalert: green\\ntsunami: 1\\nsig: 740\\nnet: us\\nnst: 0\\ndmin: 4.778\\ngap: 31\\nmagType: mww\\ndepth: 535\\nlatitude: -21.1704\\nlongitude: 174.54\\nlocation: Vanuatu region\\ncontinent: \\ncountry: '), Document(metadata={'source': '/content/earthquake_data.csv', 'row': 46}, page_content='title: M 7.3 - Vanuatu region\\nmagnitude: 7.3\\ndate_time: 02-10-2021 06:29\\ncdi: 4\\nmmi: 4\\nalert: green\\ntsunami: 1\\nsig: 826\\nnet: us\\nnst: 0\\ndmin: 4.493\\ngap: 32\\nmagType: mww\\ndepth: 527\\nlatitude: -21.1036\\nlongitude: 174.895\\nlocation: Vanuatu region\\ncontinent: \\ncountry: '), Document(metadata={'source': '/content/earthquake_data.csv', 'row': 47}, page_content='title: M 6.5 - 80 km SW of Jiquilillo, Nicaragua\\nmagnitude: 6.5\\ndate_time: 22-09-2021 09:57\\ncdi: 7\\nmmi: 5\\nalert: green\\ntsunami: 1\\nsig: 684\\nnet: us\\nnst: 0\\ndmin: 0.993\\ngap: 114\\nmagType: mww\\ndepth: 21\\nlatitude: 12.1598\\nlongitude: -87.8542\\nlocation: Jiquilillo, Nicaragua\\ncontinent: \\ncountry: '), Document(metadata={'source': '/content/earthquake_data.csv', 'row': 48}, page_content='title: M 7.0 - Acapulco, Mexico\\nmagnitude: 7\\ndate_time: 08-09-2021 01:47\\ncdi: 8\\nmmi: 8\\nalert: red\\ntsunami: 1\\nsig: 2504\\nnet: us\\nnst: 0\\ndmin: 0.07\\ngap: 43\\nmagType: mww\\ndepth: 20\\nlatitude: 16.9502\\nlongitude: -99.7877\\nlocation: Acapulco, Mexico\\ncontinent: North America\\ncountry: Mexico'), Document(metadata={'source': '/content/earthquake_data.csv', 'row': 49}, page_content='title: M 7.1 - South Sandwich Islands region\\nmagnitude: 7.1\\ndate_time: 22-08-2021 21:33\\ncdi: 1\\nmmi: 4\\nalert: green\\ntsunami: 1\\nsig: 776\\nnet: us\\nnst: 0\\ndmin: 9.799\\ngap: 32\\nmagType: mww\\ndepth: 6\\nlatitude: -60.3026\\nlongitude: -24.9992\\nlocation: South Sandwich Islands region\\ncontinent: \\ncountry: Antarctica'), Document(metadata={'source': '/content/earthquake_data.csv', 'row': 50}, page_content='title: M 6.6 - South Sandwich Islands region\\nmagnitude: 6.6\\ndate_time: 22-08-2021 00:45\\ncdi: 1\\nmmi: 3\\nalert: green\\ntsunami: 1\\nsig: 670\\nnet: us\\nnst: 0\\ndmin: 8.865\\ngap: 19\\nmagType: mww\\ndepth: 7\\nlatitude: -60.1023\\nlongitude: -24.4608\\nlocation: South Sandwich Islands region\\ncontinent: \\ncountry: Antarctica'), Document(metadata={'source': '/content/earthquake_data.csv', 'row': 51}, page_content='title: M 6.9 - 17 km N of Port-Olry, Vanuatu\\nmagnitude: 6.9\\ndate_time: 18-08-2021 10:10\\ncdi: 8\\nmmi: 7\\nalert: green\\ntsunami: 1\\nsig: 741\\nnet: us\\nnst: 0\\ndmin: 0.579\\ngap: 54\\nmagType: mww\\ndepth: 93\\nlatitude: -14.892\\nlongitude: 167.085\\nlocation: Port-Olry, Vanuatu\\ncontinent: Oceania\\ncountry: Vanuatu'), Document(metadata={'source': '/content/earthquake_data.csv', 'row': 52}, page_content='title: M 6.9 - South Sandwich Islands region\\nmagnitude: 6.9\\ndate_time: 16-08-2021 11:10\\ncdi: 6\\nmmi: 4\\nalert: green\\ntsunami: 1\\nsig: 734\\nnet: us\\nnst: 0\\ndmin: 8.363\\ngap: 48\\nmagType: mww\\ndepth: 16.7\\nlatitude: -58.3814\\nlongitude: -23.3318\\nlocation: South Sandwich Islands region\\ncontinent: \\ncountry: '), Document(metadata={'source': '/content/earthquake_data.csv', 'row': 53}, page_content='title: M 7.2 - Nippes, Haiti\\nmagnitude: 7.2\\ndate_time: 14-08-2021 12:29\\ncdi: 9\\nmmi: 8\\nalert: red\\ntsunami: 1\\nsig: 2331\\nnet: us\\nnst: 0\\ndmin: 1.178\\ngap: 23\\nmagType: mww\\ndepth: 10\\nlatitude: 18.3521\\nlongitude: -73.4804\\nlocation: Nippes, Haiti\\ncontinent: North America\\ncountry: Haiti'), Document(metadata={'source': '/content/earthquake_data.csv', 'row': 54}, page_content='title: M 6.9 - 136 km SE of Perryville, Alaska\\nmagnitude: 6.9\\ndate_time: 14-08-2021 11:57\\ncdi: 5\\nmmi: 4\\nalert: green\\ntsunami: 1\\nsig: 738\\nnet: ak\\nnst: 0\\ndmin: 0\\ngap: 0\\nmagType: mww\\ndepth: 33.3\\nlatitude: 55.2364\\nlongitude: -157.707\\nlocation: Perryville, Alaska\\ncontinent: \\ncountry: '), Document(metadata={'source': '/content/earthquake_data.csv', 'row': 55}, page_content='title: M 6.9 - 125 km SE of Perryville, Alaska\\nmagnitude: 6.9\\ndate_time: 14-08-2021 11:57\\ncdi: 5\\nmmi: 4\\nalert: green\\ntsunami: 1\\nsig: 738\\nnet: us\\nnst: 0\\ndmin: 1.173\\ngap: 36\\nmagType: mww\\ndepth: 20.74\\nlatitude: 55.2657\\nlongitude: -157.68\\nlocation: Perryville, Alaska\\ncontinent: \\ncountry: '), Document(metadata={'source': '/content/earthquake_data.csv', 'row': 56}, page_content='title: M 8.1 - South Sandwich Islands region\\nmagnitude: 8.1\\ndate_time: 12-08-2021 18:35\\ncdi: 0\\nmmi: 7\\nalert: green\\ntsunami: 0\\nsig: 1009\\nnet: us\\nnst: 0\\ndmin: 7.463\\ngap: 78\\nmagType: mww\\ndepth: 22.79\\nlatitude: -58.4157\\nlongitude: -25.3206\\nlocation: South Sandwich Islands region\\ncontinent: \\ncountry: '), Document(metadata={'source': '/content/earthquake_data.csv', 'row': 57}, page_content='title: M 7.5 - South Sandwich Islands region\\nmagnitude: 7.5\\ndate_time: 12-08-2021 18:32\\ncdi: 9\\nmmi: 6\\nalert: green\\ntsunami: 1\\nsig: 868\\nnet: us\\nnst: 0\\ndmin: 7.227\\ngap: 38\\nmagType: mww\\ndepth: 47.23\\nlatitude: -57.5959\\nlongitude: -25.1874\\nlocation: South Sandwich Islands region\\ncontinent: \\ncountry: '), Document(metadata={'source': '/content/earthquake_data.csv', 'row': 58}, page_content='title: M 7.1 - 60 km ENE of Pondaguitan, Philippines\\nmagnitude: 7.1\\ndate_time: 11-08-2021 17:46\\ncdi: 9\\nmmi: 7\\nalert: green\\ntsunami: 1\\nsig: 846\\nnet: us\\nnst: 0\\ndmin: 1.273\\ngap: 25\\nmagType: mww\\ndepth: 55.14\\nlatitude: 6.4547\\nlongitude: 126.742\\nlocation: Pondaguitan, Philippines\\ncontinent: \\ncountry: '), Document(metadata={'source': '/content/earthquake_data.csv', 'row': 59}, page_content='title: M 8.2 - 91 km ESE of Perryville, Alaska\\nmagnitude: 8.2\\ndate_time: 29-07-2021 06:15\\ncdi: 8\\nmmi: 6\\nalert: green\\ntsunami: 1\\nsig: 1237\\nnet: us\\nnst: 0\\ndmin: 0.875\\ngap: 66\\nmagType: mww\\ndepth: 46.66\\nlatitude: 55.4742\\nlongitude: -157.917\\nlocation: Perryville, Alaska\\ncontinent: \\ncountry: '), Document(metadata={'source': '/content/earthquake_data.csv', 'row': 60}, page_content='title: M 8.2 - 99 km SE of Perryville, Alaska\\nmagnitude: 8.2\\ndate_time: 29-07-2021 06:15\\ncdi: 8\\nmmi: 7\\nalert: yellow\\ntsunami: 1\\nsig: 1252\\nnet: ak\\nnst: 0\\ndmin: 0\\ngap: 0\\nmagType: mww\\ndepth: 35\\nlatitude: 55.3154\\nlongitude: -157.829\\nlocation: Perryville, Alaska\\ncontinent: \\ncountry: '), Document(metadata={'source': '/content/earthquake_data.csv', 'row': 61}, page_content='title: M 6.7 - 15 km S of Hukay, Philippines\\nmagnitude: 6.7\\ndate_time: 23-07-2021 20:48\\ncdi: 8\\nmmi: 5\\nalert: green\\ntsunami: 1\\nsig: 935\\nnet: us\\nnst: 0\\ndmin: 8.139\\ngap: 12\\nmagType: mww\\ndepth: 110\\nlatitude: 13.6989\\nlongitude: 120.713\\nlocation: Hukay, Philippines\\ncontinent: Asia\\ncountry: Philippines'), Document(metadata={'source': '/content/earthquake_data.csv', 'row': 62}, page_content='title: M 6.7 - 71 km S of Burica, Panama\\nmagnitude: 6.7\\ndate_time: 21-07-2021 21:15\\ncdi: 6\\nmmi: 6\\nalert: green\\ntsunami: 1\\nsig: 830\\nnet: us\\nnst: 0\\ndmin: 1.395\\ngap: 61\\nmagType: mww\\ndepth: 10\\nlatitude: 7.5904\\nlongitude: -82.8813\\nlocation: Burica, Panama\\ncontinent: \\ncountry: '), Document(metadata={'source': '/content/earthquake_data.csv', 'row': 63}, page_content='title: M 6.5 - Kermadec Islands, New Zealand\\nmagnitude: 6.5\\ndate_time: 20-06-2021 17:05\\ncdi: 0\\nmmi: 4\\nalert: green\\ntsunami: 1\\nsig: 650\\nnet: us\\nnst: 0\\ndmin: 7.994\\ngap: 24\\nmagType: mww\\ndepth: 25\\nlatitude: -30.2144\\nlongitude: -177.773\\nlocation: Kermadec Islands, New Zealand\\ncontinent: \\ncountry: '), Document(metadata={'source': '/content/earthquake_data.csv', 'row': 64}, page_content='title: M 6.5 - 265 km SSE of Alo, Wallis and Futuna\\nmagnitude: 6.5\\ndate_time: 21-05-2021 22:13\\ncdi: 5\\nmmi: 7\\nalert: green\\ntsunami: 1\\nsig: 652\\nnet: us\\nnst: 0\\ndmin: 4.518\\ngap: 44\\nmagType: mww\\ndepth: 10\\nlatitude: -16.4796\\nlongitude: -177.356\\nlocation: Alo, Wallis and Futuna\\ncontinent: \\ncountry: '), Document(metadata={'source': '/content/earthquake_data.csv', 'row': 65}, page_content=\"title: M 7.3 - Southern Qinghai, China\\nmagnitude: 7.3\\ndate_time: 21-05-2021 18:04\\ncdi: 9\\nmmi: 9\\nalert: orange\\ntsunami: 0\\nsig: 1025\\nnet: us\\nnst: 0\\ndmin: 4.655\\ngap: 9\\nmagType: mww\\ndepth: 10\\nlatitude: 34.5861\\nlongitude: 98.2551\\nlocation: Southern Qinghai, China\\ncontinent: Asia\\ncountry: People's Republic of China\"), Document(metadata={'source': '/content/earthquake_data.csv', 'row': 66}, page_content='title: M 6.7 - 260 km S of Sinabang, Indonesia\\nmagnitude: 6.7\\ndate_time: 14-05-2021 06:33\\ncdi: 8\\nmmi: 4\\nalert: green\\ntsunami: 0\\nsig: 698\\nnet: us\\nnst: 0\\ndmin: 1.487\\ngap: 37\\nmagType: mww\\ndepth: 11\\nlatitude: 0.1684\\nlongitude: 96.6475\\nlocation: Sinabang, Indonesia\\ncontinent: \\ncountry: '), Document(metadata={'source': '/content/earthquake_data.csv', 'row': 67}, page_content='title: M 6.7 - Mauritius - Reunion region\\nmagnitude: 6.7\\ndate_time: 12-05-2021 14:05\\ncdi: 9\\nmmi: 3\\nalert: green\\ntsunami: 0\\nsig: 694\\nnet: us\\nnst: 0\\ndmin: 10.669\\ngap: 45\\nmagType: mww\\ndepth: 10\\nlatitude: -17.2495\\nlongitude: 66.3745\\nlocation: Mauritius - Reunion region\\ncontinent: \\ncountry: '), Document(metadata={'source': '/content/earthquake_data.csv', 'row': 68}, page_content='title: M 6.9 -\\nmagnitude: 6.9\\ndate_time: 01-05-2021 01:27\\ncdi: 7\\nmmi: 6\\nalert: green\\ntsunami: 1\\nsig: 919\\nnet: us\\nnst: 0\\ndmin: 2.619\\ngap: 35\\nmagType: mww\\ndepth: 43\\nlatitude: 38.2296\\nlongitude: 141.665\\nlocation: \\ncontinent: Asia\\ncountry: Japan'), Document(metadata={'source': '/content/earthquake_data.csv', 'row': 69}, page_content='title: M 6.5 - 207 km WSW of Haveluloto, Tonga\\nmagnitude: 6.5\\ndate_time: 25-04-2021 22:28\\ncdi: 4\\nmmi: 4\\nalert: green\\ntsunami: 0\\nsig: 651\\nnet: us\\nnst: 0\\ndmin: 5.931\\ngap: 20\\nmagType: mww\\ndepth: 246\\nlatitude: -21.6857\\nlongitude: -177.064\\nlocation: Haveluloto, Tonga\\ncontinent: \\ncountry: '), Document(metadata={'source': '/content/earthquake_data.csv', 'row': 70}, page_content='title: M 6.5 - 225 km WNW of Pangai, Tonga\\nmagnitude: 6.5\\ndate_time: 24-04-2021 00:23\\ncdi: 6\\nmmi: 4\\nalert: green\\ntsunami: 0\\nsig: 652\\nnet: us\\nnst: 0\\ndmin: 10.405\\ngap: 19\\nmagType: mww\\ndepth: 301\\nlatitude: -18.9204\\nlongitude: -176.235\\nlocation: Pangai, Tonga\\ncontinent: \\ncountry: '), Document(metadata={'source': '/content/earthquake_data.csv', 'row': 71}, page_content='title: M 7.0 - 30 km E of Ishinomaki, Japan\\nmagnitude: 7\\ndate_time: 20-03-2021 09:09\\ncdi: 7\\nmmi: 7\\nalert: yellow\\ntsunami: 1\\nsig: 1052\\nnet: us\\nnst: 0\\ndmin: 2.378\\ngap: 35\\nmagType: mww\\ndepth: 43\\nlatitude: 38.4752\\nlongitude: 141.607\\nlocation: Ishinomaki, Japan\\ncontinent: Asia\\ncountry: Japan'), Document(metadata={'source': '/content/earthquake_data.csv', 'row': 72}, page_content='title: M 6.6 - 171 km SSE of Ust’-Kamchatsk Staryy, Russia\\nmagnitude: 6.6\\ndate_time: 16-03-2021 18:38\\ncdi: 5\\nmmi: 5\\nalert: green\\ntsunami: 1\\nsig: 672\\nnet: us\\nnst: 0\\ndmin: 3.183\\ngap: 18\\nmagType: mww\\ndepth: 13.23\\nlatitude: 54.7018\\nlongitude: 163.208\\nlocation: Ust’-Kamchatsk Staryy, Russia\\ncontinent: \\ncountry: '), Document(metadata={'source': '/content/earthquake_data.csv', 'row': 73}, page_content='title: M 6.5 - Kermadec Islands region\\nmagnitude: 6.5\\ndate_time: 04-03-2021 23:12\\ncdi: 0\\nmmi: 4\\nalert: green\\ntsunami: 0\\nsig: 650\\nnet: us\\nnst: 0\\ndmin: 11.764\\ngap: 25\\nmagType: mwb\\ndepth: 24\\nlatitude: -28.4792\\nlongitude: -176.619\\nlocation: Kermadec Islands region\\ncontinent: \\ncountry: '), Document(metadata={'source': '/content/earthquake_data.csv', 'row': 74}, page_content='title: M 8.1 - Kermadec Islands, New Zealand\\nmagnitude: 8.1\\ndate_time: 04-03-2021 19:28\\ncdi: 9\\nmmi: 8\\nalert: green\\ntsunami: 1\\nsig: 1021\\nnet: us\\nnst: 0\\ndmin: 0.739\\ngap: 21\\nmagType: mww\\ndepth: 28.93\\nlatitude: -29.7466\\nlongitude: -177.224\\nlocation: Kermadec Islands, New Zealand\\ncontinent: \\ncountry: '), Document(metadata={'source': '/content/earthquake_data.csv', 'row': 75}, page_content='title: M 7.4 - Kermadec Islands, New Zealand\\nmagnitude: 7.4\\ndate_time: 04-03-2021 17:41\\ncdi: 3\\nmmi: 7\\nalert: green\\ntsunami: 1\\nsig: 843\\nnet: us\\nnst: 0\\ndmin: 0.437\\ngap: 30\\nmagType: mww\\ndepth: 43\\nlatitude: -29.6131\\nlongitude: -177.842\\nlocation: Kermadec Islands, New Zealand\\ncontinent: \\ncountry: '), Document(metadata={'source': '/content/earthquake_data.csv', 'row': 76}, page_content='title: M 7.3 - 182 km NE of Gisborne, New Zealand\\nmagnitude: 7.3\\ndate_time: 04-03-2021 13:27\\ncdi: 7\\nmmi: 6\\nalert: green\\ntsunami: 1\\nsig: 932\\nnet: us\\nnst: 0\\ndmin: 0.918\\ngap: 24\\nmagType: mww\\ndepth: 10\\nlatitude: -37.596\\nlongitude: 179.544\\nlocation: Gisborne, New Zealand\\ncontinent: \\ncountry: '), Document(metadata={'source': '/content/earthquake_data.csv', 'row': 77}, page_content='title: M 7.1 - 73 km ENE of Namie, Japan\\nmagnitude: 7.1\\ndate_time: 13-02-2021 14:07\\ncdi: 9\\nmmi: 8\\nalert: orange\\ntsunami: 1\\nsig: 1612\\nnet: us\\nnst: 0\\ndmin: 3.085\\ngap: 11\\nmagType: mww\\ndepth: 43.98\\nlatitude: 37.6856\\nlongitude: 141.992\\nlocation: Namie, Japan\\ncontinent: \\ncountry: '), Document(metadata={'source': '/content/earthquake_data.csv', 'row': 78}, page_content='title: M 7.7 - southeast of the Loyalty Islands\\nmagnitude: 7.7\\ndate_time: 10-02-2021 13:19\\ncdi: 9\\nmmi: 4\\nalert: green\\ntsunami: 1\\nsig: 918\\nnet: us\\nnst: 0\\ndmin: 7.989\\ngap: 15\\nmagType: mww\\ndepth: 10\\nlatitude: -23.2787\\nlongitude: 171.489\\nlocation: the Loyalty Islands\\ncontinent: \\ncountry: '), Document(metadata={'source': '/content/earthquake_data.csv', 'row': 79}, page_content='title: M 6.9 - South Shetland Islands\\nmagnitude: 6.9\\ndate_time: 23-01-2021 23:36\\ncdi: 9\\nmmi: 5\\nalert: green\\ntsunami: 1\\nsig: 739\\nnet: us\\nnst: 0\\ndmin: 1.55\\ngap: 16\\nmagType: mww\\ndepth: 15\\nlatitude: -61.8484\\nlongitude: -55.559\\nlocation: South Shetland Islands\\ncontinent: \\ncountry: Antarctica'), Document(metadata={'source': '/content/earthquake_data.csv', 'row': 80}, page_content='title: M 7.0 - 211 km SE of Pondaguitan, Philippines\\nmagnitude: 7\\ndate_time: 21-01-2021 12:23\\ncdi: 7\\nmmi: 5\\nalert: green\\ntsunami: 1\\nsig: 802\\nnet: us\\nnst: 0\\ndmin: 2.821\\ngap: 15\\nmagType: mww\\ndepth: 80\\nlatitude: 5.0074\\nlongitude: 127.517\\nlocation: Pondaguitan, Philippines\\ncontinent: \\ncountry: '), Document(metadata={'source': '/content/earthquake_data.csv', 'row': 81}, page_content='title: M 6.7 - 29 km SSW of Turt, Mongolia\\nmagnitude: 6.7\\ndate_time: 11-01-2021 21:32\\ncdi: 8\\nmmi: 8\\nalert: green\\ntsunami: 0\\nsig: 776\\nnet: us\\nnst: 0\\ndmin: 2.043\\ngap: 22\\nmagType: mww\\ndepth: 10\\nlatitude: 51.2407\\nlongitude: 100.443\\nlocation: Turt, Mongolia\\ncontinent: Asia\\ncountry: Mongolia'), Document(metadata={'source': '/content/earthquake_data.csv', 'row': 82}, page_content='title: M 6.7 - 146 km WNW of Corral, Chile\\nmagnitude: 6.7\\ndate_time: 27-12-2020 21:39\\ncdi: 5\\nmmi: 5\\nalert: green\\ntsunami: 1\\nsig: 776\\nnet: us\\nnst: 0\\ndmin: 1.319\\ngap: 19\\nmagType: mww\\ndepth: 10\\nlatitude: -39.3264\\nlongitude: -74.9067\\nlocation: Corral, Chile\\ncontinent: \\ncountry: '), Document(metadata={'source': '/content/earthquake_data.csv', 'row': 83}, page_content='title: M 7.0 - 13 km NNE of Néon Karlovásion, Greece\\nmagnitude: 7\\ndate_time: 30-10-2020 11:51\\ncdi: 8\\nmmi: 7\\nalert: orange\\ntsunami: 0\\nsig: 1527\\nnet: us\\nnst: 0\\ndmin: 1.518\\ngap: 18\\nmagType: mww\\ndepth: 21\\nlatitude: 37.8973\\nlongitude: 26.7953\\nlocation: Néon Karlovásion, Greece\\ncontinent: Europe\\ncountry: Greece'), Document(metadata={'source': '/content/earthquake_data.csv', 'row': 84}, page_content='title: M 7.6 - 99 km SE of Sand Point, Alaska\\nmagnitude: 7.6\\ndate_time: 19-10-2020 20:54\\ncdi: 9\\nmmi: 7\\nalert: yellow\\ntsunami: 1\\nsig: 1165\\nnet: us\\nnst: 0\\ndmin: 0.23\\ngap: 36\\nmagType: mww\\ndepth: 28.37\\nlatitude: 54.662\\nlongitude: -159.675\\nlocation: Sand Point, Alaska\\ncontinent: North America\\ncountry: United States of America'), Document(metadata={'source': '/content/earthquake_data.csv', 'row': 85}, page_content='title: M 6.9 - central Mid-Atlantic Ridge\\nmagnitude: 6.9\\ndate_time: 18-09-2020 21:43\\ncdi: 0\\nmmi: 3\\nalert: green\\ntsunami: 1\\nsig: 732\\nnet: us\\nnst: 0\\ndmin: 11.255\\ngap: 16\\nmagType: mww\\ndepth: 10\\nlatitude: 0.9604\\nlongitude: -26.8332\\nlocation: central Mid-Atlantic Ridge\\ncontinent: \\ncountry: '), Document(metadata={'source': '/content/earthquake_data.csv', 'row': 86}, page_content='title: M 6.5 - 94 km NW of Vallenar, Chile\\nmagnitude: 6.5\\ndate_time: 01-09-2020 21:09\\ncdi: 6\\nmmi: 6\\nalert: green\\ntsunami: 0\\nsig: 674\\nnet: us\\nnst: 0\\ndmin: 0.388\\ngap: 49\\nmagType: mww\\ndepth: 16\\nlatitude: -27.9285\\nlongitude: -71.3937\\nlocation: Vallenar, Chile\\ncontinent: \\ncountry: '), Document(metadata={'source': '/content/earthquake_data.csv', 'row': 87}, page_content='title: M 6.8 - 86 km NW of Vallenar, Chile\\nmagnitude: 6.8\\ndate_time: 01-09-2020 04:09\\ncdi: 6\\nmmi: 7\\nalert: green\\ntsunami: 1\\nsig: 824\\nnet: us\\nnst: 0\\ndmin: 0.312\\ngap: 69\\nmagType: mww\\ndepth: 21\\nlatitude: -28.013\\nlongitude: -71.1958\\nlocation: Vallenar, Chile\\ncontinent: \\ncountry: Chile'), Document(metadata={'source': '/content/earthquake_data.csv', 'row': 88}, page_content='title: M 6.5 - central Mid-Atlantic Ridge\\nmagnitude: 6.5\\ndate_time: 30-08-2020 21:20\\ncdi: 4\\nmmi: 5\\nalert: green\\ntsunami: 0\\nsig: 651\\nnet: us\\nnst: 0\\ndmin: 15.394\\ngap: 31\\nmagType: mww\\ndepth: 10\\nlatitude: 0.8696\\nlongitude: -29.7046\\nlocation: central Mid-Atlantic Ridge\\ncontinent: \\ncountry: '), Document(metadata={'source': '/content/earthquake_data.csv', 'row': 89}, page_content='title: M 6.9 - 222 km SSE of Katabu, Indonesia\\nmagnitude: 6.9\\ndate_time: 21-08-2020 04:09\\ncdi: 4\\nmmi: 3\\nalert: green\\ntsunami: 0\\nsig: 749\\nnet: us\\nnst: 0\\ndmin: 2.267\\ngap: 20\\nmagType: mww\\ndepth: 624\\nlatitude: -6.6704\\nlongitude: 123.493\\nlocation: Katabu, Indonesia\\ncontinent: \\ncountry: Indonesia'), Document(metadata={'source': '/content/earthquake_data.csv', 'row': 90}, page_content='title: M 6.9 - 122 km WSW of Bengkulu, Indonesia\\nmagnitude: 6.9\\ndate_time: 18-08-2020 22:29\\ncdi: 4\\nmmi: 4\\nalert: green\\ntsunami: 0\\nsig: 735\\nnet: us\\nnst: 0\\ndmin: 1.716\\ngap: 25\\nmagType: mww\\ndepth: 26\\nlatitude: -4.2791\\nlongitude: 101.215\\nlocation: Bengkulu, Indonesia\\ncontinent: \\ncountry: Indonesia'), Document(metadata={'source': '/content/earthquake_data.csv', 'row': 91}, page_content='title: M 6.8 - 138 km WSW of Bengkulu, Indonesia\\nmagnitude: 6.8\\ndate_time: 18-08-2020 22:23\\ncdi: 5\\nmmi: 4\\nalert: green\\ntsunami: 0\\nsig: 716\\nnet: us\\nnst: 0\\ndmin: 1.816\\ngap: 34\\nmagType: mww\\ndepth: 22\\nlatitude: -4.3724\\nlongitude: 101.095\\nlocation: Bengkulu, Indonesia\\ncontinent: \\ncountry: Indonesia'), Document(metadata={'source': '/content/earthquake_data.csv', 'row': 92}, page_content='title: M 6.6 - 13 km E of San Pedro, Philippines\\nmagnitude: 6.6\\ndate_time: 18-08-2020 00:03\\ncdi: 9\\nmmi: 8\\nalert: yellow\\ntsunami: 1\\nsig: 784\\nnet: us\\nnst: 0\\ndmin: 5.128\\ngap: 14\\nmagType: mww\\ndepth: 10\\nlatitude: 12.0065\\nlongitude: 124.13\\nlocation: San Pedro, Philippines\\ncontinent: \\ncountry: Philippines'), Document(metadata={'source': '/content/earthquake_data.csv', 'row': 93}, page_content='title: M 7.8 - 99 km SSE of Perryville, Alaska\\nmagnitude: 7.8\\ndate_time: 22-07-2020 06:12\\ncdi: 9\\nmmi: 7\\nalert: green\\ntsunami: 1\\nsig: 1111\\nnet: us\\nnst: 0\\ndmin: 0.621\\ngap: 60\\nmagType: mww\\ndepth: 28\\nlatitude: 55.1079\\nlongitude: -158.477\\nlocation: Perryville, Alaska\\ncontinent: \\ncountry: '), Document(metadata={'source': '/content/earthquake_data.csv', 'row': 94}, page_content='title: M 7.0 - 114 km NNW of Popondetta, Papua New Guinea\\nmagnitude: 7\\ndate_time: 17-07-2020 02:50\\ncdi: 6\\nmmi: 7\\nalert: green\\ntsunami: 1\\nsig: 820\\nnet: us\\nnst: 0\\ndmin: 1.671\\ngap: 18\\nmagType: mww\\ndepth: 73\\nlatitude: -7.847\\nlongitude: 147.755\\nlocation: Popondetta, Papua New Guinea\\ncontinent: \\ncountry: Papua New Guinea'), Document(metadata={'source': '/content/earthquake_data.csv', 'row': 95}, page_content='title: M 6.6 - 97 km N of Batang, Indonesia\\nmagnitude: 6.6\\ndate_time: 06-07-2020 22:54\\ncdi: 4\\nmmi: 2\\nalert: green\\ntsunami: 0\\nsig: 684\\nnet: us\\nnst: 0\\ndmin: 1.458\\ngap: 14\\nmagType: mww\\ndepth: 533.76\\nlatitude: -5.6368\\nlongitude: 110.678\\nlocation: Batang, Indonesia\\ncontinent: \\ncountry: Indonesia'), Document(metadata={'source': '/content/earthquake_data.csv', 'row': 96}, page_content='title: M 7.4 - 9 km SE of Santa María Xadani, Mexico\\nmagnitude: 7.4\\ndate_time: 23-06-2020 15:29\\ncdi: 8\\nmmi: 8\\nalert: orange\\ntsunami: 1\\nsig: 1494\\nnet: us\\nnst: 0\\ndmin: 0.151\\ngap: 30\\nmagType: mww\\ndepth: 20\\nlatitude: 15.9163\\nlongitude: -95.9533\\nlocation: Santa María Xadani, Mexico\\ncontinent: North America\\ncountry: Mexico'), Document(metadata={'source': '/content/earthquake_data.csv', 'row': 97}, page_content='title: M 7.4 - south of the Kermadec Islands\\nmagnitude: 7.4\\ndate_time: 18-06-2020 12:49\\ncdi: 7\\nmmi: 7\\nalert: green\\ntsunami: 1\\nsig: 873\\nnet: us\\nnst: 0\\ndmin: 4.035\\ngap: 23\\nmagType: mww\\ndepth: 10\\nlatitude: -33.2938\\nlongitude: -177.838\\nlocation: the Kermadec Islands\\ncontinent: \\ncountry: '), Document(metadata={'source': '/content/earthquake_data.csv', 'row': 98}, page_content='title: M 6.6 - 130 km WNW of Naze, Japan\\nmagnitude: 6.6\\ndate_time: 13-06-2020 15:51\\ncdi: 5\\nmmi: 4\\nalert: green\\ntsunami: 1\\nsig: 734\\nnet: us\\nnst: 0\\ndmin: 2.015\\ngap: 18\\nmagType: mww\\ndepth: 165\\nlatitude: 28.9386\\nlongitude: 128.262\\nlocation: Naze, Japan\\ncontinent: \\ncountry: '), Document(metadata={'source': '/content/earthquake_data.csv', 'row': 99}, page_content='title: M 6.8 - 48 km SW of San Pedro de Atacama, Chile\\nmagnitude: 6.8\\ndate_time: 03-06-2020 07:35\\ncdi: 6\\nmmi: 6\\nalert: green\\ntsunami: 1\\nsig: 835\\nnet: us\\nnst: 0\\ndmin: 1.164\\ngap: 21\\nmagType: mww\\ndepth: 112\\nlatitude: -23.2966\\nlongitude: -68.4204\\nlocation: San Pedro de Atacama, Chile\\ncontinent: South America\\ncountry: Chile')]\n"
          ]
        }
      ],
      "source": [
        "print(data[0:100])"
      ]
    },
    {
      "cell_type": "markdown",
      "id": "2yMHpN-aBuZP",
      "metadata": {
        "id": "2yMHpN-aBuZP"
      },
      "source": [
        "### 3. Loading Microsoft Excel Files (xls & Xlsx)"
      ]
    },
    {
      "cell_type": "code",
      "execution_count": 25,
      "id": "5-gVbPP8fdWK",
      "metadata": {
        "id": "5-gVbPP8fdWK"
      },
      "outputs": [],
      "source": [
        "loader = UnstructuredExcelLoader(\"/content/star_schema_data2.xlsx\", mode=\"elements\")\n",
        "docs = loader.load()"
      ]
    },
    {
      "cell_type": "code",
      "execution_count": 64,
      "id": "xyoj1RAIfdTI",
      "metadata": {
        "colab": {
          "base_uri": "https://localhost:8080/"
        },
        "id": "xyoj1RAIfdTI",
        "outputId": "28ad00fb-dbc2-4ad5-b9c9-443ab28f9216"
      },
      "outputs": [
        {
          "data": {
            "text/plain": [
              "Document(metadata={'producer': 'Adobe PDF Library 17.0', 'creator': 'Adobe InDesign 18.0 (Macintosh)', 'creationdate': '2022-12-13T16:08:00-05:00', 'moddate': '2023-01-04T20:50:56+02:00', 'trapped': '/False', 'source': '/content/eBook-How-to-Build-a-Career-in-AI.pdf', 'total_pages': 41, 'page': 0, 'page_label': '1'}, page_content='PAGE 1\\nFounder, DeepLearning.AI\\nCollected Insights\\nfrom Andrew Ng\\nHow to \\nBuild\\nYour\\nCareer\\nin AI\\nA Simple Guide')"
            ]
          },
          "execution_count": 64,
          "metadata": {},
          "output_type": "execute_result"
        }
      ],
      "source": [
        "docs[0]"
      ]
    },
    {
      "cell_type": "markdown",
      "id": "SGfBAl3PECHQ",
      "metadata": {
        "id": "SGfBAl3PECHQ"
      },
      "source": [
        "### 4. Loading Microsoft Word Files (doc / docx)"
      ]
    },
    {
      "cell_type": "code",
      "execution_count": 28,
      "id": "fLfbmpq1fdQA",
      "metadata": {
        "id": "fLfbmpq1fdQA"
      },
      "outputs": [],
      "source": [
        "from langchain.document_loaders import Docx2txtLoader\n",
        "\n",
        "loader = Docx2txtLoader(\"/content/SpatialFinal (1).docx\")\n",
        "data = loader.load()"
      ]
    },
    {
      "cell_type": "code",
      "execution_count": 29,
      "id": "CAwnAf1_fdNU",
      "metadata": {
        "colab": {
          "base_uri": "https://localhost:8080/",
          "height": 192
        },
        "id": "CAwnAf1_fdNU",
        "outputId": "4a818463-7852-4416-b155-56e50d5f3225"
      },
      "outputs": [
        {
          "data": {
            "application/vnd.google.colaboratory.intrinsic+json": {
              "type": "string"
            },
            "text/plain": [
              "'Geometries\\xa0\\n\\nAfter understanding the coordinates systems, we can define how geometries can be described using these coordinate systems. Our goal now is to explain:\\xa0\\n\\n\\xa0simple features, a standard that describes point, line, and polygon geometries along with operations on them,\\xa0\\n\\noperations on geometries,\\xa0\\xa0\\xa0\\n\\ncoverages, functions of space or space-time,\\xa0\\n\\ntesselations, sub-divisions of larger regions into sub-regions, and\\xa0\\n\\nnetworks.\\xa0\\n\\n\\n\\n1. Simple feature geometries:\\n\\n\\n\\nThey are a way to describe the geometries of features. features are defined previously as things that have a geometry, potentially implicitly some time properties, and further attributes that could include labels describing the thing and/or values quantitatively measuring it.\\xa0\\n\\n\\n\\nThe main application of simple feature geometries is to describe geometries in two-dimensional space by points, lines, or polygons. The “simple” adjective refers to the fact that the line or polygon geometries are represented by sequences of points connected with straight lines that do not self-intersect.\\xa0\\n\\n\\n\\nThe seven most common simple feature geometry types used to represent a single feature are:\\xa0\\n\\n\\n\\n\\n\\n\\n\\nExample:\\xa0\\xa0\\n\\nlibrary(sf) |> suppressPackageStartupMessages() #|> symbol is called the pipe operator in R. It is used to pass the result of an expression on its left-hand side as the first #argument to the function call on its right-hand side. It\\'s a convenient way to chain function calls and enhance code #readability. IT is equivalent to >suppressPackageStartupMessages(library(sf))\\xa0\\xa0\\n\\n\\xa0\\xa0\\n\\n\\n\\nZ and M coordinates\\n\\nIn addition to X and Y coordinates, single points (vertices) of simple feature geometries may have:\\xa0\\n\\na Z coordinate, denoting altitude, and/or\\xa0\\n\\nan M value, denoting some “measure”\\xa0\\n\\nThe M attribute shall be a property of the vertex. It sounds attractive to encode a time stamp in it for instance to pack movement data (trajectories) in LINESTRINGs. These become however invalid (or “non-simple”) once the trajectory self-intersects, which happens when only X and Y are considered for self-intersections. Using only X and Y coordinates (without considering Z or M) is not helpful to represent trajectories or movement paths. Specifically, it\\'s discussing the concept of \"self-intersections\" in trajectories. In spatial analysis, a \"self-intersection\" occurs when a trajectory crosses or intersects itself. This can happen, for example, when a moving object changes direction and retraces its path. If we\\'re only considering X and Y coordinates (ignoring Z and M), our analysis may fail to detect or handle these self-intersections properly. Both Z and M are not found often, and software support to do something useful with them is (still) rare.\\xa0\\n\\n\\n\\nEmpty geometries\\n\\nA very important concept is the empty geometry. Empty geometries arise when we do geometrical operations, for instance when we want to know the intersection of POINT (0 0) and POINT (1 1):\\xa0\\n\\n# GEOMETRYCOLLECTION EMPTY\\xa0\\n\\n(e <- st_intersection(st_point(c(0,0)), st_point(c(1,1))))\\xa0\\n\\nand it represents essentially the empty set: when combining (unioning) an empty point with other non-empty geometries, it vanishes.\\xa0\\n\\n\\n\\nText and binary encodings\\xa0\\n\\nPart of the simple feature standard are two encodings: a text and a binary encoding. The well-known text encoding (WKT), is human-readable. The well-known binary encoding is machine-readable (WKB). (WKB) encodings, are lossless and typically faster to work with than text encoding (and decoding), and they are used for instance in all communications between R package sf and the GDAL, GEOS, liblwgeom, and s2geometry libraries.\\xa0\\n\\nExample :\\xa0\\n\\nlibrary(sf)\\xa0\\n\\n# Create a simple point geometry\\xa0\\n\\npoint_geometry <- st_point(c(2.0, 3.0))\\xa0\\n\\n# Obtain WKT representation\\xa0\\n\\nwkt_representation <- st_as_text(point_geometry)\\xa0\\n\\nprint(\"WKT Representation:\")\\xa0\\xa0\\xa0\\n\\nprint(wkt_representation)\\xa0\\n\\n\\n\\n# Obtain WKB representation\\xa0\\n\\nwkb_representation <- st_as_binary(point_geometry)\\xa0\\n\\nprint(\"WKB Representation:\")\\xa0\\n\\nprint(wkb_representation)\\xa0\\n\\n\\n\\nManipulating Objects Common functions to manipulate sf objects include the following:\\xa0\\n\\nst_read() reads a sf object,\\xa0\\n\\nst_write() writes a sf object,\\xa0\\n\\nst_crs() gets or sets a new coordinate reference system (CRS),\\xa0\\n\\nst_transform() transforms data to a new CRS,\\xa0\\n\\nst_coordinates() retrieves coordinates of a sf object,\\xa0\\n\\nst_as_sf() converts a foreign object to a sf object.\\xa0\\n\\nst_intersection() intersects sf objects,\\xa0\\n\\nst_union() combines several sf objects into one,\\xa0\\n\\nst_simplify() simplifies a sf object\\xa0\\n\\n\\n\\nReal-Life Application: Urban Planning and Traffic Management\\xa0\\n\\nIn urban planning and traffic management, consider that we want to analyze and optimize road intersections in a city.\\xa0\\n\\n\\n\\n1. st_intersection() - Analyzing Intersections:\\xa0\\n\\nWe have spatial data representing roads as LineString geometries.\\xa0\\n\\nWe use st_intersection() to find the points where these road geometries intersect, i.e., road intersections.\\xa0\\n\\nThis helps us analyze congested or critical intersections, plan traffic signals, and optimize traffic flow by making adjustments based on intersection data.\\xa0\\n\\n\\n\\n2. st_union() - Combining Geometries:\\xa0\\n\\nWe have multiple spatial data layers representing different aspects of the transportation system, such as roads, bus stops, and traffic signals.\\xa0\\n\\nWe use st_union() to combine these different sf objects into one, creating a comprehensive representation of the transportation network.\\xa0\\n\\nThis combined geometry allows us to perform holistic analysis, plan new routes, and design integrated transportation systems.\\xa0\\n\\n\\n\\n3. st_simplify() - Simplifying Geometries:\\xa0\\n\\nOver time, the spatial data representing road networks might become very detailed and complex.\\xa0\\n\\nWe use st_simplify() to simplify the road geometries, reducing the complexity of the data while maintaining the essential shape and structure.\\xa0\\n\\nSimplified geometries enable faster analysis and visualization without significantly compromising accuracy.\\n\\n\\n\\n\\nHandling objects :\\n\\n\\xa0\\xa0\\n\\nExample :\\xa0\\n\\nlibrary(sf)\\xa0\\n\\nlibrary(ggplot2)\\xa0\\n\\nmap <- read_sf(system.file(\"shape/nc.shp\", package = \"sf\"))\\xa0\\n\\nhead(map)\\xa0\\n\\n#Delete some of the polygons by taking a subset of the rows of map.\\xa0\\n\\nmap <- map[-which(map$FIPS %in% c(\"37125\", \"37051\")), ]\\xa0\\n\\nggplot(map) + geom_sf(aes(fill = SID79))\\xa0\\n\\n#use st_union(), argument by_feature = FALSE to combine all geometries together.\\xa0\\n\\nggplot(st_union(map, by_feature = FALSE) %>% st_sf()) + geom_sf()\\xa0\\n\\n# Simplify the boundaries of th map\\xa0\\n\\nggplot(st_simplify(map, dTolerance = 10000)) + geom_sf()\\xa0\\n\\n\\n\\nNote : In ggplot2, there are various geoms and aesthetics you can use to represent spatial data other than geom_sf(aes(col = v1)). The choice of geom and aesthetic will depend on the type of spatial data you have and how you want to visualize it. Here are a few alternatives:\\xa0\\n\\n\\n\\n1. Points:\\xa0\\n\\ngeom_point(aes(x = x_column, y = y_column, col = v1)): Plots points, where x_column and y_column are the x and y coordinates.\\xa0\\n\\n\\n\\n2. Lines:\\xa0\\n\\ngeom_line(aes(x = x_column, y = y_column, col = v1)): Plots lines connecting points, where x_column and y_column are the x and y coordinates.\\xa0\\n\\n\\n\\n3. Polygons:\\xa0\\n\\ngeom_polygon(aes(x = x_column, y = y_column, fill = v1)): Plots filled polygons, where x_column and y_column are the x and y coordinates.\\xa0\\n\\n\\n\\n4. Paths:\\xa0\\n\\ngeom_path(aes(x = x_column, y = y_column, col = v1)): Plots paths, which are lines without points.\\xa0\\n\\n\\n\\nDifference between Path and Line?\\xa0\\n\\nlibrary(ggplot2)\\xa0\\n\\n# Sample data with different order for paths\\xa0\\n\\ndata <- data.frame(\\xa0\\n\\nx = rep(1:10, 2),\\xa0\\n\\ny = c(runif(10), runif(10) + 1), # Two sets of y values for demonstration\\xa0\\n\\nv1 = rep(c(\\'A\\', \\'B\\'), each = 10) )\\xa0\\n\\n# Shuffle the data for paths\\xa0\\n\\ndata_path <- data[sample(nrow(data)),]\\xa0\\n\\n# Plot using geom_line (lines connecting points)\\xa0\\n\\nggplot(data, aes(x = x, y = y, col = v1)) + geom_line() +\\xa0\\n\\nlabs(title = \"Lines - Connecting Points\")\\xa0\\n\\n# Plot using geom_path (paths without explicit points)\\xa0\\n\\nggplot(data_path, aes(x = x, y = y, col = v1)) + geom_path() +\\xa0\\n\\nlabs(title = \"Paths - Connecting Observations (Shuffled)\")\\xa0\\n\\n\\n\\nHow to handle point data?\\xa0\\n\\nTransforming point data into Simple Feature (sf) objects ensures standardization, interoperability, and efficient storage for spatial data. It also enables advanced spatial analysis, visualization, and geospatial operations like : calculating distances, creating buffers (zones around points), conducting overlays (combining different map layers), and performing queries to extract specific information from maps.\\xa0\\n\\n\\n\\nIn order to work with point data in spatial analysis, we transform it, in R, to a sf object. The st_as_sf() function allows to convert a foreign object to a sf object.\\xa0\\n\\n\\n\\nFor example, we can have a data frame containing the coordinates of a number of locations and attributes that we wish to turn into a sf object. To do that, we use the st_as_sf() function passing the object we wish to convert and specifying in argument coords the name of the columns that contain the point coordinates.\\xa0\\n\\n\\n\\nIn the following, we use st_as_sf() to turn a data frame containing coordinates long and lat in addition to two variables : place and value to a sf object. Then, we use st_crs() to set the coordinate reference system given by the EPSG code 4326 to represent longitude and latitude coordinates.\\xa0\\n\\n\\n\\nCounting the number of points within polygons\\xa0\\n\\nCounting the number of points within polygons is a fundamental operation in spatial data analysis with a range of important applications. It allows for tasks like estimating population density in geographic areas, predicting service demands, identifying crime hotspots, analyzing retail store performance, modeling transportation demand, and managing natural resources effectively.\\xa0\\n\\n\\n\\nIn R, we can use the st_intersects() function of sf to count the number of points within the polygons of a sf object. The returned object is a list with feature ids intersected in each of the polygons, and we can use the lengths() function to calculate the number of points inside each feature\\xa0\\n\\n\\n\\nExample :\\xa0\\n\\nlibrary(sf)\\xa0\\n\\nlibrary(ggplot2)\\xa0\\n\\nmap <- read_sf(system.file(\"shape/nc.shp\", package = \"sf\")) # Points over map (simple feature geometry list-column sfc)\\xa0\\n\\npoints <- st_sample(map, size = 100) #generate a random sample of 100 points within the boundaries of the map.\\xa0\\n\\n# Map of points within polygons\\xa0\\n\\nggplot() + geom_sf(data = map) + geom_sf(data = points)\\xa0\\n\\n# Intersection (first argument map, then points)\\xa0\\n\\n#Uses st_intersects() to determine which points intersect with the polygons #(features) in the map.It returns a list where each element corresponds to a polygon and contains the IDs of intersecting points\\xa0\\n\\ninter <- st_intersects(map, points)\\xa0\\n\\n# Add point count to each polygon\\xa0\\n\\nmap$count <- lengths(inter)\\xa0\\n\\n# Map of number of points within polygons\\xa0\\n\\nggplot(map) + geom_sf(aes(fill = count))\\xa0\\n\\n\\n\\nIdentifying polygons containing points\\xa0\\n\\nIdentifying the polygons that contain points is an important operation as it supports numerous spatial operations, analytics, and visualization, providing valuable insights into the geographic distribution and relationships within the dataset.\\xa0\\n\\nGiven a sf object with points and a sf object with polygons, and we would like to identify the polygons which contain points. This can be done easily, and we can obtain the polygon which each point belongs to using, for example, the st_intersects() function.\\xa0\\n\\nFor example, the following code shows a map with the names of the polygons that contain three points over the map.\\xa0\\n\\nlibrary(sf)\\xa0\\n\\nlibrary(ggplot2)\\xa0\\n\\nmap <- read_sf(system.file(\"shape/nc.shp\", package = \"sf\"))\\n\\npoints <- st_sample(map, size = 3) %>% st_as_sf()\\xa0\\n\\ninter <- st_intersects(points, map)\\xa0\\n\\n# Adding column areaname with the name of the areas containing the points\\xa0\\n\\npoints$areaname <- map[unlist(inter), \"NAME\", drop = TRUE] # drop geometry (the spatial information) points\\xa0\\n\\n#multiple layers\\xa0\\n\\nggplot(map) + geom_sf() + geom_sf(data = points) + geom_sf_label(data = map[unlist(inter), ], aes(label = NAME), nudge_y = 0.2)\\xa0\\n\\n\\n\\nJoining map and data\\xa0\\n\\nSometimes, a map and its corresponding data are available separately and we may wish to create a sf object representing the map with the added data that we can manipulate and plot.\\xa0\\n\\n\\n\\nGenerally, it is possible to have a map and its corresponding data available separately (any additional information or attributes that are associated with the geographical features on the map). The map itself typically consists of geographical features like points, lines, or polygons that represent geographic locations, boundaries, or routes. The \"added data\" can include various attributes or properties related to these geographical features. For example, if the map represents regions like counties, the added data could include information such as population, area, demographic data, economic indicators, or any other relevant statistics associated with each county.\\xa0\\n\\nCreating an sf (simple features) object by combining the map\\'s geometry (the geographical features) with this additional data allows to have a single object that contains both the spatial information (geometry) and the associated attributes (data). This combined sf object provides a comprehensive representation of the map, making it easier to manipulate, analyze, and visualize the geographic data along with its corresponding attributes.\\xa0\\n\\n\\n\\nTo create a sf map with the data attributes by joining the map and the data, we use the left_join() function of the package dplyr.\\xa0\\n\\n\\n\\nFor example, we add air pollution data obtained with the wbstats package to a sf map obtained with the rnaturalearth package. First, use the ne_countries() function of rnaturalearth package to download the world map with the country polygons of class sf. Then, use the wbstats package to download a data frame of air pollution data from the World Bank. Specifically, we search the pollution indicators with wb_search(), and use wb_data() to download PM2.5 in year 2016 by specifying the indicator corresponding to PM2.5, and the start and end dates.\\xa0\\n\\n\\n\\ninstall.packages(\"rnaturalearth\")\\xa0\\n\\nlibrary(rnaturalearth) map <- ne_countries(returnclass = \"sf\") #return sf object\\xa0\\n\\ninstall.packages(\"wbstats\")\\xa0\\n\\nlibrary(wbstats) # wbstats package is a tool for working with World Bank data\\xa0\\n\\nindicators <- wb_search(pattern = \"pollution\") #search for indicators that have \"pollution\" in their names or descriptions\\xa0\\n\\nd <- wb_data(indicator = \"EN.ATM.PM25.MC.M3\", start_date = 2016, end_date = 2016)\\xa0\\n\\ninstall.packages(\"dplyr\")\\xa0\\n\\nlibrary(dplyr)\\xa0\\n\\nlibrary(ggplot2)\\xa0\\n\\ninstall.packages(\"viridis\")\\xa0\\n\\n#For colors\\xa0\\n\\nlibrary(viridis)\\xa0\\n\\n\\n\\nNow, use the left_join() from the package dplyr to join the map and the data specifying the argument by the variables we wish to join by. For example, use «ISO3» standard code of the countries rather than the country names, since names can be written differently in the map and the data frame.\\xa0\\n\\n\\n\\nmap1 <- left_join(map, d, by = c(\"iso_a3\" = \"iso3c\"))\\n\\n#visualize the spatial features (polygons) from map1 based on the EN.ATM.PM25.MC.M3 values, with a color scale\\xa0\\n\\n#indicating levels of PM2.5 pollution (EN.ATM.PM25.MC.M3)\\xa0\\n\\nggplot(map1) + geom_sf(aes(fill = EN.ATM.PM25.MC.M3)) + scale_fill_viridis() + labs(fill = \"PM2.5\") + theme_bw()\\xa0\\n\\n\\n\\nNote: when using left_join(), the class of the resulting object is the same as the class of the first argument. So, left_join(sf_object, data.frame_object) creates a sf object, whereas left_join(data.frame_object, sf_object) is a data.frame as :\\xa0\\n\\n\\n\\nmap1 <- left_join(map, d, by = c(\"iso_a3\" = \"iso3c\"))\\xa0\\xa0\\xa0\\xa0\\n\\n\\n\\nd1 <- left_join(d, map, by = c(\"iso3c\" = \"iso_a3\"))\\xa0\\xa0\\n\\n\\n\\nAdditionally, given that we have two data frames x and y, we can join them by using the left_join(), right_join(), inner_join() or full_join() functions.\\n\\n\\n\\nleft_join(x, y) includes all rows in x so the resulting data frame includes all observations in the left data frame x, whether or not there is a match in the right data frame y.\\xa0\\n\\n\\n\\nright_join(x, y) includes all rows in y so the resulting data frame includes all observations in y, whether or not there is a match in x.\\xa0\\n\\n\\n\\ninner_join(x, y) includes all rows in x and y so the resulting data frame includes only observations that are in both data frames.\\xa0\\n\\n\\n\\nfull_join(x, y) includes all rows in x or y so the resulting data frame includes all observations from both data frames.\\xa0\\n\\n\\n\\nAnother example,\\xa0\\n\\n\\n\\nemployees <- data.frame(\\xa0\\n\\nEmployee_ID = c(1, 2, 3, 4, 5),\\xa0\\n\\nEmployee_Name = c(\"Alice\", \"Bob\", \"Charlie\", \"David\", \"Eve\")\\xa0\\n\\n)\\xa0\\n\\nsalaries <- data.frame(\\xa0\\n\\nEmployee_ID = c(2, 4, 5),\\xa0\\n\\nSalary = c(60000, 75000, 55000)\\xa0\\n\\n)\\xa0\\n\\n# Left join employees and salaries based on Employee_ID\\xa0\\n\\nemployee_salaries <- left_join(employees, salaries, by = \"Employee_ID\")\\xa0\\xa0\\n\\n\\n\\n\\n\\n\\n\\n\\n\\n\\nRaster Data\\xa0\\n\\nAs clarified previously, it is commonly used to represent spatially continuous phenomena by dividing the study region into a grid of equally sized rectangles (referred to as cells or pixels) with the values of the variable of interest. In simple terms, raster data uses a grid of squares to measure and record information about things that change across space, like temperature or elevation, which allows us to analyze and visualize how these things vary from one place to another.\\xa0\\n\\n\\n\\nUsing softwares, ‘terra’ package in R, multilayer raster data is represented with the SpatRaster class. The SpatVector class is used to represent vector data such as points, lines and polygons, and their attributes. In this part, we will handle raster data in order to read, create, and operate it.\\xa0\\n\\n\\n\\nThe rast() function can be used to create and read raster data, and the writeRaster() function allows to write raster data.\\xa0\\n\\n\\n\\nExample : read raster data representing elevation in Luxembourg from the file ‘elev.tif’ from the terra package, and assign it to an object r of class SpatRaster.\\xa0\\n\\ninstall.packages(\"terra\")\\xa0\\n\\nlibrary(terra)\\xa0\\n\\npathraster <- system.file(\"ex/elev.tif\", package = \"terra\")\\xa0\\n\\nr <- rast(pathraster)\\xa0\\n\\nplot(r)\\xa0\\n\\n\\n\\nAdditionally, we use rast() to create a SpatRaster object r by specifying the number of columns, the number of rows, as well as the minimum and maximum x and y values.\\xa0\\n\\nr <- rast(ncol = 10, nrow = 10, xmin = -150, xmax = -80, ymin = 20, ymax = 60)\\xa0\\n\\nr\\xa0\\n\\nclass : SpatRaster\\xa0\\n\\ndimensions : 10, 10, 1 (nrow, ncol, nlyr)\\xa0\\n\\nresolution : 7, 4 (x, y)\\xa0\\n\\nextent : -150, -80, 20, 60\\xa0\\n\\n(xmin, xmax, ymin, ymax)\\xa0\\n\\ncoord. ref. : lon/lat WGS 84\\xa0\\n\\n\\n\\nNote: resolution : 7, 4 (x, y): means that each cell (or pixel) in the raster dataset represents a specific area in the geographic space. The \"7\" in the x-direction and \"4\" in the y-direction indicate the width and height of each cell in the raster, measured in the units of the coordinate reference system being used (in this case, degrees of longitude and latitude since the coordinate reference is WGS 84). In other words, this raster dataset has cells where each cell covers 7 degrees in the x-direction (longitude) and 4 degrees in the y-direction (latitude). For example, if you have a cell centered at 40 degrees longitude, it might cover the range from 37 degrees to 43 degrees longitude. In the vertical direction (latitude), each cell spans 4 degrees of latitude. For example, if you have a cell centered at 30 degrees latitude, it might cover the range from 28 degrees to 32 degrees latitude.\\xa0\\n\\n\\n\\nThis resolution defines the size of the cells and affects the level of detail in the data and the accuracy of spatial measurements and analyses.\\xa0\\n\\n\\n\\nA lower resolution (larger cell size) may result in a coarser representation of the geographic area, while a higher resolution (smaller cell size) provides a finer representation with more detail.\\xa0\\n\\n\\n\\nMoreover, to get the size of the raster :\\xa0\\n\\nnrow(r) # number of rows\\xa0\\n\\nncol(r) # number of columns\\xa0\\n\\ndim(r) # dimension\\xa0\\n\\nncell(r) # number of cells\\xa0\\n\\n\\n\\nTo set and access the values of the raster ‘grid’:\\xa0\\n\\nvalues(r) <- 1:ncell(r)\\xa0\\n\\n\\xa0\\xa0\\n\\nThe above raster consists of one layer. To create a multilayer object, we use c() as:\\n\\nr2 <- r * r\\xa0\\n\\nr2 <- r * r\\xa0\\n\\nnames(r) <- \"layer1\"\\xa0\\n\\nnames(r2) <- \"layer2\"\\xa0\\n\\ns <- c(r, r2)\\xa0\\n\\n\\n\\nthen the layers can be subsetted with [[ ]]\\xa0\\n\\nas: plot(s[[2]]) # layer 2\\xa0\\n\\n\\n\\nRaster Data Processing \"Manipulation\": Cropping, masking, and aggregating raster data\\n\\n\\n\\nTo refine and manipulate raster data in spatial analysis in order to suit the specific needs of a given analysis or visualization, we use the following operations:\\xa0\\n\\n\\n\\nCrop: the process of extracting a specific geographic region or area of interest from a larger raster dataset. It involves selecting and retaining only the portion of the raster that corresponds to the desired spatial extent, allowing you to focus on a particular region or study area.\\xa0\\n\\n\\n\\nMask: the technique of using a mask, typically in the form of another raster(a shape or pattern), to specify which areas of a raster dataset should be retained for further analysis. It involves preserving or removing specific cells or pixels based on the values or criteria in the mask raster.\\xa0\\n\\n\\n\\nAggregate: involves reducing the spatial resolution of a raster dataset by combining or summarizing multiple cells or pixels into larger cells or pixels. This process can involve various mathematical operations like averaging or summing, and it helps to simplify the data while preserving key information.\\xa0\\n\\n\\n\\nWhen to use each technique:\\xa0\\n\\nCrop: it’s required to zoom in on a particular area of interest within a larger dataset. For example, if you\\'re studying weather patterns in a specific city, you\\'d crop the data in the country to cover just that city\\'s boundaries.\\xa0\\n\\n\\n\\nMask: is useful when you have a specific criterion or condition to apply to your data. For instance, if you\\'re interested in areas with temperatures above a certain threshold, you\\'d use a mask to select those areas and exclude the rest.\\xa0\\n\\n\\n\\nAggregate: it’s needed to reduce the spatial resolution of the raster data. This technique is beneficial when you have high-resolution data that is too detailed for your analysis or when you want to create a more generalized representation of the data. Aggregating is useful for data smoothing, improving performance, data compression, generalization, visualization, and creating multi-scale representations of your data.\\xa0\\n\\n\\n\\nExample: Use the worldclim_country() function of the ‘geodata’ package to download global temperature dataset from the WorldClim database. Specifically, download the monthly average temperature in degree Celsius by specifying the country (country = \"Spain\"), the variable mean temperature (var = \"tavg\"), the resolution (res = 10), and the path where to download the data to as a temporary file (path = tempdir()).\\xa0\\n\\n\\n\\ninstall.packages(\"geodata\")\\xa0\\n\\nlibrary(geodata)\\xa0\\n\\nlibrary(terra)\\xa0\\n\\nr <- geodata::worldclim_country(country = \"Spain\", var = \"tavg\", res = 10, path = tempdir())\\xa0\\n\\nplot(r)\\xa0\\n\\n\\n\\nThen, it is possible to average the temperature raster data over months with the mean() function #reduces the temporal complexity by summarizing multiple layers into one layer\\xa0\\n\\nr <- mean(r)\\xa0\\n\\nplot(r)\\xa0\\n\\n\\n\\nFollowing, we download the map of Spain with the rnaturalearth package, and delete the Canary Islands region\\xa0\\n\\nlibrary(ggplot2)\\xa0\\n\\n#install.packages(\"rnaturalearthhires\")\\xa0\\n\\nmap <- rnaturalearth::ne_states(\"Spain\", returnclass = \"sf\")\\xa0\\n\\nggplot(map) + geom_sf()\\xa0\\n\\nmap <- map[-which(map$region == \"Canary Is.\"), ] # delete region\\xa0\\n\\nggplot(map) + geom_sf()\\xa0\\n\\nNow, we need to obtain the spatial extent of the map after removing part of it, then we use that spatial extent to crop the temperature raster. So, we keep only the temperature data that corresponds to the spatial extent of mainland Spain, and remove the part of the raster that is outside that spatial extent.\\xa0\\n\\n\\n\\n# Cropping\\xa0\\n\\nr <- geodata::worldclim_country(country = \"Spain\", var = \"tavg\", res = 10, path = tempdir())\\xa0\\n\\nr <- mean(r)\\xa0\\n\\n# ext() to obtain the spatial extent of the map\\xa0\\n\\nsextent <- terra::ext(map)\\xa0\\n\\nr <- terra::crop(r, sextent)\\xa0\\n\\nplot(r)\\xa0\\n\\n\\n\\nAdditionally, we can use the mask() function to convert all values outside the map to NA.\\xa0\\n\\n\\n\\n# Masking\\xa0\\n\\nr <- geodata::worldclim_country(country = \"Spain\", var = \"tavg\", res = 10, path = tempdir())\\xa0\\n\\nr <- mean(r)\\xa0\\n\\n# vect(map) is used to convert the map object from (sf) format into a format that the terra::mask function can work with, as the mask function expects a vector, data frame or matrix, not an sf object directly.\\n\\n\\xa0\\n\\nr <- terra::mask(r, vect(map))\\xa0\\n\\nplot(r)\\xa0\\n\\n\\n\\nFinally, to aggregate groups of cells of a raster in order to create a new raster with a lower resolution (i.e., larger cells):\\xa0\\n\\n\\n\\n# Aggregating\\xa0\\n\\nr <- geodata::worldclim_country(country = \"Spain\", var = \"tavg\", res = 10, path = tempdir())\\xa0\\n\\nr <- terra::aggregate(r, fact = 20, fun = \"mean\", na.rm = TRUE)\\xa0\\n\\nplot(r)\\xa0\\n\\n\\n\\nThe argument fact of aggregate() denotes the aggregation factor expressed as number of cells in each direction (horizontally and vertically), or two integers denoting the horizontal and vertical aggregation factor, like fact = c(10, 15), to control the horizontal and vertical aggregation factors separately. In this case, the first integer (10) determines how many cells will be combined horizontally, and the second integer (15) determines how many cells will be combined vertically.\\xa0\\n\\nIf we have 90 cell in the horizontal scale and the factor is 10 then the aggregation output will be 9 cells.\\n\\n\\n\\nArgument fun specifies the function used to aggregate values (e.g., mean).\\n\\nThe last resulted plot above shows a low resolution raster of average annual temperatures in Spain obtained using the aggregate() function.\\n\\nExtracting raster values at points\\n\\nThis technique is used in GIS and spatial analysis to retrieve information from a raster dataset (e.g., satellite imagery, elevation data, land cover) at specific point locations on the Earth\\'s surface. It is essential for various applications and is important for several reasons:\\xa0\\n\\n\\n\\n\\nData Relevance: Raster datasets often cover large areas and contain a wealth of information. However, when you have specific points of interest, such as weather stations, it\\'s important to extract data relevant to those points. This allows you to focus on the data that directly pertains to your study locations.\\xa0\\n\\nSpatial Analysis: For many spatial analyses, it\\'s essential to have data at specific point locations. For example, you might want to perform statistical analyses, geostatistical modeling, or create spatial patterns within a specific set of locations. Extracting values at points provides you with the necessary data for such analyses.\\xa0\\n\\nIntegration: Point data extracted from raster values can be integrated with other datasets, allowing you to combine information from different sources. This integration is valuable for various applications, including environmental monitoring, site suitability analysis, and geospatial modeling.\\xa0\\n\\nVisual Representation: Point data extracted from raster values can be used for creating maps or visualizations that highlight specific locations of interest. This can help in presenting your findings effectively.\\xa0\\n\\n\\n\\nIndeed, the technique typically involves matching the coordinates of point locations with the corresponding cells in the raster dataset and retrieving the values at those locations.\\xa0\\n\\n\\n\\nGiven a raster of class SpatRaster, we can extract the raster values at a set of points with the extract() function of terra. Here, is an example of the use of extract() using a raster representing the elevation of Luxembourg, and a vector file with the divisions of Luxembourg from files in the terra package.\\xa0\\n\\n\\n\\nThe R package terra allows to extract the raster values at a set of points with the extract() function from a raster of class SpatRaster.\\n\\n\\xa0\\n\\nExample : Use extract() using a raster representing the elevation of Luxembourg, and a vector file with the divisions of Luxembourg from files in the terra package.\\xa0\\n\\nlibrary(terra)\\xa0\\n\\n# Raster (SpatRaster)\\xa0\\n\\nr <- rast(system.file(\"ex/elev.tif\", package = \"terra\"))\\xa0\\n\\n# Polygons (SpatVector)\\xa0\\n\\nv <- vect(system.file(\"ex/lux.shp\", package = \"terra\"))\\xa0\\n\\npoints <- crds(centroids(v)) #centroids() to obtain the centroids of polygons, and crds() to obtain their coordinates.\\xa0\\n\\nplot(r)\\xa0\\n\\nplot(v, add = TRUE)\\xa0\\n\\npoints(points)\\xa0\\n\\nThe resulted plot shows the elevation raster, the polygons, and the points of the centroid locations.\\xa0\\n\\n\\n\\nFollowing, to obtain the values of the raster at «points» using extract(), fill as first argument the SpatVector object with the raster, and as second argument a data frame with the points.\\xa0\\n\\n\\n\\n# data frame with the coordinates\\xa0\\n\\npoints <- as.data.frame(points)\\xa0\\n\\nvaluesatpoints <- extract(r, points)\\xa0\\n\\n#r: from which you want to extract information\\xa0\\n\\n#points: the specific locations at which you want to retrieve information from the raster ‘r’ cbind(points, valuesatpoints)\\xa0\\n\\n\\n\\nExtracting and averaging raster values\\xa0\\n\\nAs presented previously, extracting raster values at points gives the values at specific locations. On the other hand, extracting and averaging raster values, provides the average values over larger areas or groups of cells within the raster.\\xa0\\n\\n\\n\\nThis process combines the values from multiple cells within the raster. Instead of focusing on individual points, you take a group of neighboring cells and compute their average value. This process effectively reduces the resolution or level of detail in the raster.\\xa0\\n\\n\\n\\nThe result of this process is a new raster layer, where each cell represents an average value based on the original raster\\'s values within a certain neighborhood.\\xa0\\n\\n\\n\\nThe function extract() also used to obtain the values of raster objects of class SpatRaster within polygons of class SpatVector. Cells extracted within each polygon are cells that have centers covered by the polygon.\\xa0\\n\\n\\n\\nFor the function extract(), set the argument weights = TRUE to get, apart from the cell values, the percentage of each cell covered by the polygon, and this can be used to compute area-weighted averages. In other words, when you want to compute averages in a way that considers the area. For example, if the average of temperatures within a polygon is calculated, it might be required to give more importance to larger portions of cells within the polygon. Using the percentage of coverage helps you do this. So, by setting weights = TRUE, you can get not only the values but also information about how much each cell contributes to the area of your polygon.\\xa0\\n\\n\\n\\nThe argument ‘fun’ can be used to specify a function (e.g., mean) that summarizes the extracted values by polygon.\\xa0\\n\\n\\n\\nFor last example, the process of extracting and averaging raster values within polygons using the extract() function:\\xa0\\n\\n# Extracted raster cells within each polygon\\xa0\\n\\nhead(extract(r, v, na.rm = TRUE))\\xa0\\n\\n#na.rm = TRUE if there NA values in the raster cells within a polygon, they will be excluded from the calculation.\\xa0\\n\\n# Extracted raster cells and percentage of area # covered within each polygon\\xa0\\n\\nhead(extract(r, v, na.rm = TRUE, weights = TRUE))\\xa0\\n\\n# Average raster values by polygon are obtained as\\xa0\\n\\nv$avg <- extract(r, v, mean, na.rm = TRUE)$elevation\\xa0\\n\\n#To obtain the area-weighted average raster values by polygon, we use extract() with weights = TRUE\\xa0\\n\\n# Area-weighted average raster values by polygon\\xa0\\n\\nv$weightedavg <- extract(r, v, mean, na.rm = TRUE, weights = TRUE)$elevation\\xa0\\n\\n# Plot average raster values within polygons\\xa0\\n\\nlibrary(ggplot2)\\xa0\\n\\nlibrary(tidyterra)\\xa0\\n\\nggplot(data = v) + geom_spatvector(aes(fill = avg)) + scale_fill_terrain_c()\\xa0\\n\\n# Plot area-weighted average raster values within polygons\\xa0\\n\\nggplot(data = v) + geom_spatvector(aes(fill = weightedavg)) + scale_fill_terrain_c()\\xa0\\n\\n\\n\\nThe resulted plot shows maps of the elevation averages and area-weighted averages in each of the Luxembourg divisions.\\n\\n\\n\\n\\n\\n\\n\\n\\n\\n\\n\\n\\n\\n\\n\\n\\n\\n\\n\\n\\n\\n\\n\\n\\n\\nAreal Data\\xa0\\n\\nAreal «or lattice» data arise when a study region is partitioned into a finite number of areas at which outcomes are aggregated. Examples of areal data are the number of individuals with a certain disease in municipalities of a country, the number of road accidents in provinces, or the average housing prices in districts of a city.\\xa0\\n\\n\\n\\nSpatial neighborhood matrices\\xa0\\n\\nThe concept of spatial neighborhood is useful for the exploration of areal data to assess spatial autocorrelation and find out whether close areas have similar or dissimilar values. Spatial neighbors can be defined in several ways depending on the variable of interest. The simplest neighborhood definition assumes that neighbors are areas that share a common border, perhaps a vertex. We can also expand the idea of neighborhood to include areas that are close, but not necessarily adjacent, by assuming neighbors are areas that are within some distance apart.\\xa0\\n\\n\\n\\nGiven a spatial neighborhood definition, we can construct a spatial neighborhood matrix which will allow us later to assess the spatial autocorrelation.\\n\\nThe elements of the spatial neighborhood matrix can be viewed as weights that spatially connect areas. In this matrix, entries corresponding to close areas will have more weight than entries corresponding to areas that are farther apart.\\xa0\\n\\n\\n\\nUsing a software, the spdep package contains a number of functions to deal with spatial dependence structures. It has functions that can be used to construct spatial neighborhood matrices and perform spatial autocorrelation analyses. For example, the functions poly2nb() and dnearneigh() can be used to create neighbor lists based on contiguity and distance criteria, respectively. Following, spatial neighborhood matrices can be built from the neighbor lists using the nb2listw() function.\\xa0\\n\\n\\n\\nExample :\\xa0\\n\\nUse the spdep package to learn how to construct several types of spatial neighborhood structures and matrices. From the package spData, read the map of the 49 neighborhoods of Columbus, Ohio, which is in the columbus shapefile.\\xa0\\n\\ninstall.packages(\"spData\")\\xa0\\n\\ninstall.packages(\"spdep\")\\xa0\\n\\nlibrary(spData)\\xa0\\n\\nlibrary(sf)\\xa0\\n\\nlibrary(spdep)\\xa0\\n\\nlibrary(ggplot2)\\xa0\\n\\nmap <- st_read(system.file(\"shapes/columbus.shp\", package = \"spData\"), quiet = TRUE) # quiet = TRUE to prevent displaying additional information or warning messages\\xa0\\n\\n\\n\\n1. Neighbors based on contiguity\\n\\n* In summary: Zone i and j are neighbors if zone i is contiguity or adjacent to zone j\\xa0\\n\\n\\n\\nNeighbors based on contiguity are constructed by assuming that neighbors of a given area are other areas that share a common boundary. The following figure shows two types of contiguity neighbors.\\xa0\\n\\na. Neighbors can be of type Queen if a single shared boundary point meets the contiguity condition.\\xa0\\n\\nb. Rook if more than one shared point is required to meet the contiguity condition.\\n\\n\\n\\n\\n\\n\\n\\n\\n\\n\\n\\n# construct a list of neighbors based on areas with contiguous boundaries using the function poly2nb()\\xa0\\n\\n# poly2nb() accepts a list of polygons and returns a list of class nb with the neighbors of each area\\xa0\\n\\n# the default type in poly2nb() is queen = TRUE\\xa0\\n\\nnb <- spdep::poly2nb(map, queen = TRUE)\\xa0\\n\\nnb\\xa0\\n\\n#Neighbour list object:\\xa0\\n\\n#Number of regions: 49\\xa0\\n\\n#Number of nonzero links: 236\\xa0\\n\\n#Each link represents a connection between two neighboring regions. A nonzero link means that there\\'s a connection\\xa0\\n\\n#between these regions. In other words, it tells us how many regions are adjacent to each other.\\xa0\\n\\n#Percentage nonzero weights: 9.829238 #indicates that around 9.83% of the possible pairs of regions are actually neighbors and share a boundary or edge = 236/(49^2 = 2,401)\\xa0\\n\\n#Average number of links: 4.816327 #This tells you how many neighboring regions, on average, each region is connected to.\\xa0\\n\\nhead(nb)\\xa0\\n\\nTo plot a map with the neighbors obtained: First plot the map, and then overlap the neighborhood structure using the function plot.nb() by passing the neighbor list and the coordinates of the map.\\xa0\\n\\nplot(st_geometry(map), border = \"lightgray\") # st_geometry() is used to extract the geometry column\\xa0\\n\\nplot.nb(nb, st_geometry(map), add = TRUE) #plot.nb() is used to visualize a neighbor list object (nb) in spatial analysis.\\n\\n\\n\\nAdditionally, it is possible to plot the neighbors of a given area by adding a new column in map representing the neighbors of the area. For example, to show the neighbors of area 20 :\\xa0\\n\\nid <- 20 # area id\\xa0\\n\\nmap$neighbors <- \"other\"\\xa0\\n\\nmap$neighbors[id] <- \"area\"\\xa0\\n\\nmap$neighbors[nb[[id]]] <- \"neighbors\"\\xa0\\n\\nggplot(map) + geom_sf(aes(fill = neighbors)) + theme_bw() + scale_fill_manual(values = c(\"gray30\", \"gray\", \"white\"))\\n\\n\\n\\nFinally, we can count the number of neighbors of each area and build a table with the areas’ ids in rows, and the number of neighbors in columns.\\xa0\\n\\nGiven a neighbor list, the cardinality function spdep::card() counts the number of neighbors of each area. We can obtain the number of neighbors of each area with lengths(nb). Then, we can use table(1:nrow(map), card(nb)) to build the table.\\xa0\\n\\n\\n\\n2. Neighbors of order k based on contiguity\\xa0\\n\\nIt might be interesting to find the kth order (1st, 2nd) neighbors based on contiguity.\\xa0\\n\\n\\n\\n\\n\\nHow to know if the polygon is hexagon:\\xa0\\n\\ngeometry_type <- st_geometry_type(map)\\xa0\\n\\n# Print the geometry type\\xa0\\n\\nprint(geometry_type)\\xa0\\n\\n\\n\\nIn R, the nblag() function of the spdep package is used to create higher order neighbor lists.\\n\\nHigher-order neighbors are neighbors of neighbors, essentially extending the concept of spatial relationships beyond immediate neighbors.\\xa0\\n\\n\\n\\nThe arguments of this function are a neighbors list of class nb, and the maximum lag considered. The returned object is a list of lagged neighbors lists each with class nb.\\xa0\\n\\nFor example, use nblag() with the maximum lag equal to maxlag = 2 to create a list containing a list of neighbors of order 1, and a list of neighbors of order 2.\\xa0\\n\\n\\n\\nlibrary(spdep)\\xa0\\n\\nnb <- poly2nb(map, queen = TRUE)\\xa0\\n\\nnblags <- spdep::nblag(neighbours = nb, maxlag = 2)\\xa0\\n\\n# Neighbors of first order\\n\\nplot(st_geometry(map), border = \"lightgray\")\\xa0\\n\\nplot.nb(nblags[[1]], st_geometry(map), add = TRUE)\\xa0\\n\\n# Neighbors of second order\\xa0\\n\\nplot(st_geometry(map), border = \"lightgray\")\\xa0\\n\\nplot.nb(nblags[[2]], st_geometry(map), add = TRUE)\\xa0\\n\\n\\n\\nAdditionally, the function nblag_cumul() of spdep cumulates a list of lagged neighbors as the output of nblag() and returns a single neighbor list of class nb containing the neighbors of order 1 until the maximum lag considered.\\xa0\\n\\n\\xa0\\xa0\\xa0\\xa0\\xa0\\xa0\\xa0\\xa0\\xa0\\n\\n# Neighbors of order 1 until order 2\\xa0\\n\\nnb <- spdep::poly2nb(map, queen = TRUE)\\xa0\\n\\nnblagsc <- spdep::nblag_cumul(nblags)\\n\\nplot(st_geometry(map), border = \"lightgray\")\\xa0\\xa0\\xa0\\n\\nplot.nb(nblagsc, st_geometry(map), add = TRUE)\\xa0\\n\\n\\n\\n3. Neighbors based on k nearest neighbors\\xa0\\n\\nIt is also possible to consider as neighbors of an area its k nearest neighbors based on the distance separating them.\\xa0\\n\\n\\n\\n\\n\\nIn R, the function knearneigh() of spdep allows to obtain a matrix with the indices of points belonging to the set of the k nearest neighbors of each area. The arguments of this function include a matrix of point coordinates and the number k of nearest neighbors to be returned.\\xa0\\n\\nThen, it is possible to use knn2nb() to convert this list into a neighbor list of class nb with the integer vectors containing the ids of the neighbors.\\xa0\\xa0\\xa0\\n\\n\\n\\n# Neighbors based on 3 nearest neighbors\\xa0\\n\\ncoo <- st_centroid(map)\\xa0\\n\\nnb <- knn2nb(knearneigh(coo, k = 3))\\xa0\\n\\n# k number nearest neighbors\\xa0\\n\\n#Euclidean distance by default\\xa0\\n\\n# if data is in geographical coordinates (latitude and longitude), use great-circle distance (haversine distance) instead of Euclidean distance, so set longlat = TRUE to use great-circle distance.\\xa0\\xa0\\xa0\\xa0\\xa0\\n\\nplot(st_geometry(map), border = \"lightgray\")\\xa0\\n\\nplot.nb(nb, st_geometry(map), add = TRUE)\\xa0\\n\\n\\n\\n4. Neighbors based on distance\\xa0\\n\\nIn summary: zone i and j are neighbors if the distance between them are less than the threshold distance. It is also possible to define neigborhood structures by considering neighbors areas that are within a given distance.\\xa0\\n\\n\\n\\n\\n\\n\\xa0\\xa0\\xa0\\n\\nThe dnearneigh() function of spdep builds a list of neighbors based on a distance between specific lower and upper bounds. The arguments of dnearneigh() include the object with the point coordinates, and the lower and upper distance bounds (d1 and d2).\\xa0\\n\\nlibrary(spData)\\xa0\\n\\nlibrary(sf)\\xa0\\n\\nlibrary(spdep)\\xa0\\n\\nlibrary(ggplot2)\\xa0\\n\\nmap <- st_read(system.file(\"shapes/columbus.shp\", package = \"spData\"), quiet = TRUE)\\xa0\\n\\n# quiet = TRUE to prevent displaying additional information or warning messages\\xa0\\n\\nnb <- dnearneigh(x = st_centroid(map), d1 = 0, d2 = 0.4) #0.4 is a distance threshold in the same units as the crs of data\\xa0\\n\\n#Euclidean distance by default, use use_s2=FALSE as recommended in the R documentation\\xa0\\n\\nplot(st_geometry(map), border = \"lightgray\")\\xa0\\n\\nplot.nb(nb, st_geometry(map), add = TRUE)\\xa0\\n\\n\\n\\nFurther, it is possible to determine an appropriate upper distance to ensure that each area has at least k neighbors. To determine an appropriate upper distance bound for a given number of neighbors k:\\xa0\\n\\nFirst, use the spdep::knearneigh() function to obtain the k nearest neighbors of each of the areas. We use this function passing a matrix of point coordinates and the number k of chosen nearest neighbors to obtain a matrix with the k nearest neighbors of each area.\\xa0\\n\\nThen, use spdep::knn2nb() to convert this list into a neighbor list of class nb with the ids of the neighbors. In the following example, we determine the upper distance bound to ensure all areas have at least one neighbor.\\xa0\\n\\ncoo <- st_centroid(map) # k is the number nearest neighbors\\xa0\\n\\nnb1 <- knn2nb(knearneigh(coo, k = 1))\\xa0\\n\\nThen, use spdep::nbdists() passing the nb list with the neighbors and the matrix of point coordinates to obtain the distances along the links. Finally, compute summaries to determine the upper distance bound.\\xa0\\n\\ndist1 <- nbdists(nb1, coo) summary(unlist(dist1))\\n\\n\\xa0Min.\\t 1st Qu.\\t Median \\tMean \\t \\xa0 3rd Qu. \\tMax.\\xa0\\n\\n0.128 \\t0.254 \\t\\t0.316 \\t\\t0.329\\xa0 \\xa0 \\xa0 0.404 \\xa0 \\xa0 \\xa0 \\xa0 \\xa0 0.619\\n\\n\\n\\nSo, in the above example, the maximum distance is 0.62 and we can consider this value as an upper bound of the distance to ensure each area has at least one neighbor.\\n\\n\\n\\nNeighborhood matrices\\xa0\\n\\nA spatial neighborhood matrix W defines a neighborhood structure over the entire study region, and its elements can be viewed as weights. The (i,j)th element of W, denoted by wij, spatially connects areas i and j in some fashion. More weight is associated with areas closer to i than those farther away from i.\\xa0\\n\\n\\n\\n\\n\\n\\n\\nAs shown above, if neighbors are based on contiguity, we can construct a binary spatial matrix with wij=1 if regions i and j share a common boundary, and wij=0 otherwise. Indeed, wii is set to 0 for i=1,…,n. Note that this choice of proximity measure results in a symmetric spatial matrix.\\n\\n\\n\\n\\n\\n\\n\\nOther spatial weight definitions could be to use wij=1 for all i and j within a specified distance, or to use wij=1 if j is one of the k nearest neighbors of i. Weights wij can also be defined as the inverse distance between areas. Note that in most situations, this matrix is not symmetric when the areas are irregularly shaped.\\xa0\\n\\nIn addition, we may want to adjust for the total number of neighbors in each area and use a standardized matrix with entries wstd,i,j= wij / ∑j=1 wij.\\xa0\\n\\n\\n\\n\\n\\n\\n\\n\\n\\n\\n\\n\\n\\n\\n\\n\\n\\n\\nGreat Circle Formula:\\n\\n\\n\\n\\n\\n\\n\\nGeneral Spatial Weights Based on Distance:\\n\\n\\n\\n\\n\\n\\n\\nSpatial weights matrix based on a binary neighbor list\\xa0\\n\\nBinary Weight Matrix:\\xa0\\n\\nIn a binary weight matrix, the weights are binary values : 0 or 1.\\xa0\\n\\n\\n\\nIt is used to represent whether a connection or relationship exists between areas:1 for \"connected\" and 0 for \"not connected\".\\xa0\\n\\n\\n\\nThis style is commonly used in network analysis to represent binary relationships in networks, such as social networks where connections between individuals are either present (1) or absent (0).\\xa0\\n\\n\\n\\nUsing R packages, the function nb2listw() of the spdep package can be used to construct a spatial neighborhood matrix containing the spatial weights corresponding to a neighbors list. The neighbors can be binary or based on inverse distance values. To compute a spatial weights matrix based on a binary neighbor list, we use the nb2listw() function with the following arguments:\\xa0\\n\\nnb: list with neighbors,\\xa0\\xa0\\n\\nstyle: indicates the coding scheme chosen. For example, style = B is the basic binary coding, and W is row standardized (1/number of neighbors),\\xa0\\n\\nzero.policy is used to take into account regions with 0 neighbors. Specifically, zero.policy = TRUE permits the weight list to contain zero-length weights vectors, and zero.policy = FALSE stops the function with an error if there are empty neighbor sets.\\xa0\\n\\n\\n\\nnb <- poly2nb(map, queen = TRUE)\\xa0\\n\\nnbw <- spdep::nb2listw(nb, style = \"W\")\\xa0\\n\\nnbw$weights[1:3]\\xa0\\n\\n\\n\\nWe can visualize the spatial weight matrix by creating a matrix with the weights with listw2mat(), and using lattice::levelplot() to create the plot.\\xa0\\n\\n\\n\\nm1 <- listw2mat(nbw)\\xa0\\n\\nlattice::levelplot(t(m1), scales = list(y = list(at = c(10, 20, 30, 40), labels = c(10, 20, 30, 40))))\\n\\n\\n\\n\\xa0\\xa0\\xa0\\n\\nSpatial weights matrix based on inverse distance values\\xa0\\n\\nWeighted Weight Matrix: In a weighted weight matrix, the weights are real-valued numbers, often representing the strength, intensity, or some measure of the relationship between entities.\\xa0\\n\\n\\n\\nIt is used to quantify the strength or degree of connection between entities, allowing for another representation.\\xa0\\n\\n\\n\\nThis style is common in applications like data analysis, where relationships between entities can vary in strength, such as representing distances, similarities, or correlation coefficients.\\xa0\\n\\n\\n\\nFor a list of neighbors in R packages, it is possible to use nbdists() to compute the distances along the links. Then, we can construct the list with spatial weights based on inverse distance values using nb2listw() where the argument glist is equal to a list of general weights corresponding to neighbors.\\xa0\\n\\n\\n\\ncoo <- st_centroid(map)\\xa0\\n\\nnb <- poly2nb(map, queen = TRUE)\\xa0\\n\\ndists <- nbdists(nb, coo) # stores in a matrix the distances between neighbors based on the coordinates of centroids.\\xa0\\n\\nids <- lapply(dists, function(x){1/x}) # to find the inverse of a distance\\xa0\\n\\nnbw <- nb2listw(nb, glist = ids, style = \"B\") #construct the list of weights as binary style nbw$weights[1:3] # see the list of neighbors for the 1st three polygons\\xa0\\n\\nm2 <- listw2mat(nbw) #levelplot to to visualize spatial patterns and the strength of connections between locations\\xa0\\n\\n#levelplot expects the matrix to be in the form of columns representing different variables or categories, so the rows of #the matrix to represent locations (polygons or points) and the columns to represent neighbors or connected\\xa0\\xa0\\xa0\\n\\nlattice::levelplot(t(m2), scales = list(y = list(at = c(10, 20, 30, 40),labels = c(10, 20, 30, 40))))\\xa0\\xa0\\n\\n\\n\\n\\nSpatial Autocorrelation\\xa0\\n\\nTobler\\'s First Law of Geography: is a fundamental principle in the field of spatial analysis. It states that: Everything is related to everything else, but near things are more related than distant things.\\xa0\\n\\n\\n\\nFrom a statistical point of view, spatial autocorrelation is used to describe the extent to which a variable is correlated with itself through space.\\xa0\\n\\n\\n\\nPositive spatial autocorrelation occurs when observations with similar values are closer together (clustered). Negative spatial autocorrelation occurs when observations with dissimilar values are closer together (dispersed). The following plot shows three configurations of areas showing different types of spatial autocorrelation :\\n\\n\\n\\n\\n\\n\\n\\nSpatial autocorrelation can be assessed using indices that summarize the degree to which similar observations tend to occur near each other over the study area.\\xa0\\n\\nTwo common indices that are used to assess spatial autocorrelation in areal data are Moran’s I and Geary’s C.\\xa0\\n\\n\\n\\nGlobal Moran’s\\xa0\\n\\nI It is defined as:\\xa0\\n\\n\\n\\n\\n\\n\\n\\nwhere n is the number of regions, Yi is the observed value of the variable of interest in region i, and Y_bar is the mean of all values. wij are spatial weights that denote the spatial proximity between regions i and j, with wii=0 and i,j=1,…,n.\\xa0\\n\\n\\n\\nThe definition of the spatial weights depends on the variable of study and the specific setting.\\xa0\\n\\n\\n\\nWe can test the presence of spatial autocorrelation using the Moran’s I, which quantifies how similar each region is with its neighbors and averages all these assessments.\\n\\n\\n\\nUnder the null hypothesis of no spatial autocorrelation, observations Yi are independent identically distributed, and I is asymptotically normally distributed with mean and variance equal to:\\n\\n\\n\\n\\n\\nS0: quantifies the overall variability in the variable across all locations without considering their spatial relationships. It is the global variance of the variable, treating all locations equally\\xa0\\n\\nS1: quantifies how the values of a location are related to the values of its neighbors. So it indicates the degree of positive or negative spatial autocorrelation.\\xa0\\n\\nS2: quantifies the sum of the spatial weights for all pairs of locations. It essentially quantifies the total strength of spatial relationships in the data\\n\\nMoran’s I values usually range from –1 to 1. Moran’s I values significantly above E[I]=−1/(n−1) indicate positive spatial autocorrelation or clustering. This occurs when neighboring regions tend to have similar values. Moran’s I values significantly below E[I] indicate negative spatial autocorrelation or dispersion. This happens when regions that are close to one another tend to have different values. Finally, Moran’s I values around E[I] indicate randomness, that is, absence of spatial pattern. When the number of regions is sufficiently large, I has a normal distribution and we can assess whether any given pattern deviates significantly from a random pattern by comparing the z-score\\n\\n\\n\\n\\n\\n\\n\\nto the standard normal distribution.\\xa0\\n\\n\\n\\nAn alternative approach to judge significance is Monte Carlo randomization. This method creates random patterns by reassigning the observed values among the areas and calculates the Moran’s I for each of the patterns, providing a randomization distribution for the Moran’s I. If the observed value of Moran’s I lies in the tails of this distribution, the assumption of independence among observations is rejected. Thus, we can test spatial autocorrelation by following these steps:\\xa0\\n\\n1. State the null and alternative hypotheses:\\xa0\\n\\nH0:I=E[I] (no spatial autocorrelation),\\xa0\\n\\nH1:I≠E[I] (spatial autocorrelation).\\xa0\\xa0\\xa0\\xa0\\xa0\\xa0\\xa0\\n\\n2. Choose the significance level α we are willing to tolerate, which represents the maximum value for the probability of incorrectly rejecting the null hypothesis when it is true (usually α=0.05).\\xa0\\n\\n3. Calculate the test statistic:\\n\\n\\n\\n\\n\\n4. Find the p-value for the observed data by comparing the z-score to the standard normal distribution or via Monte Carlo randomization.\\xa0\\n\\n5. Make one of these two decisions and state a conclusion:\\xa0\\n\\nIf p-value < α, we reject the null hypothesis. We conclude data provide evidence for the alternative hypothesis.\\xa0\\n\\nIf p-value ≥ α, we fail to reject the null hypothesis. The data do not provide evidence for the alternative hypothesis.\\xa0\\xa0\\n\\n\\n\\nUsing R packages, the function moran.test() of the spdep package can be used to test spatial autocorrelation using Moran’s I. The arguments of moran.test() are a numeric vector with the data, a list with the spatial weights, and the type of hypothesis.\\xa0\\n\\nThe argument that denotes the hypothesis is called alternative and can be set equal to greater (default), less or two.sided to represent a different alternative hypothesis.\\xa0\\n\\nExample: Use the Moran’s I to test the spatial autocorrelation of housing prices in 506 census tracts in Boston, USA, in 1978 obtained from the spData package. The data has a variable called MEDV with the median prices of owneroccupied housing in $1000 USD.\\xa0\\n\\n\\n\\nFirst, create the variable vble with the values of MEDV that will be used in the analysis.\\xa0\\n\\nFollowing, plot the map which shows with the housing prices using mapview package. library(spData)\\xa0\\n\\nlibrary(sf)\\xa0\\n\\nlibrary(mapview)\\xa0\\n\\nmap <- st_read(system.file(\"shapes/boston_tracts.shp\", package = \"spData\"), quiet = TRUE)\\xa0\\n\\nmap$vble <- map$MEDV\\xa0\\n\\nmapview(map, zcol = \"vble\")\\xa0\\n\\n\\n\\nThen, specify the null and alternative hypothesis as follows:\\xa0\\n\\nH0: I ≤ E[I] (negative spatial autocorrelation or no spatial autocorrelation),\\xa0\\n\\nH1: I > E[I] (positive spatial autocorrelation).\\xa0\\xa0\\n\\n\\n\\nThen we use moran.test() to test this hypothesis by setting alternative = \"greater\". The list with the spatial weights is calculated by first obtaining the neighbors of each area with the poly2nb() function, and then creating a list containing the neighbors with the nb2listw() function of spdep as clarified last two lectures.\\xa0\\n\\n\\n\\n# Neighbors\\xa0\\n\\nlibrary(spdep)\\xa0\\n\\nnb <- poly2nb(map, queen = TRUE)\\xa0\\n\\n# queen shares point or border\\xa0\\n\\nnbw <- nb2listw(nb, style = \"W\")\\xa0\\n\\n# Global Moran\\'s I\\xa0\\n\\ngmoran <- moran.test(map$vble, nbw, alternative = \"greater\")\\xa0\\n\\ngmoran\\xa0\\n\\nMoran I test under randomisation\\xa0\\n\\ndata: map$vble\\xa0\\n\\nweights: nbw\\xa0\\n\\n\\n\\nMoran I statistic\\xa0\\n\\nstandard deviate = 23, p-value < 2e-16\\xa0\\n\\nalternative hypothesis: greater\\xa0\\n\\nsample estimates:\\xa0\\n\\nMoran I statistic \\tExpectation \\tVariance\\xa0\\n\\n0.6266754 \\t\\t-0.0019802 \\t0.0007249\\xa0\\n\\nMoran I Statistic Standard Deviate: this value helps to assess whether there is spatial autocorrelation in data. As 23.35 is quite large, suggesting a strong indication of spatial autocorrelation.\\xa0\\n\\nP-value: (p-value < 2.2e-16). A low p-value indicates strong evidence against the null hypothesis, so we would reject Ho and conclude that there is indeed significant spatial autocorrelation in data.\\xa0\\n\\n\\n\\nAlternative Hypothesis: H1 specified is \"greater,\" suggesting that the spatial autocorrelation is in a positive direction.\\n\\n\\n\\nThe object returned by moran.test() provides the Moran’s I statistic, the z-score and the p-value. We observe the p-value obtained is lower than the significance level 0.05. Then, we reject the null hypothesis and conclude there is evidence for positive spatial autocorrelation.\\xa0\\n\\n\\xa0\\xa0\\xa0\\xa0\\xa0\\xa0\\xa0\\xa0\\xa0\\xa0\\xa0\\xa0\\xa0\\xa0\\xa0\\xa0\\xa0\\xa0\\xa0\\xa0\\xa0\\xa0\\n\\nThe same conclusion is obtained if Monte Carlo approach is used to assess significance. This approach creates random patterns by reassigning the values among the fixed areas and calculates the Moran’s I for each of these patterns and calculates the p-value.\\xa0\\n\\nFor our example, conduct a Monte Carlo randomization approach using the moran.mc() function setting the number of simulations to nsim = 999.\\xa0\\n\\ngmoranMC <- moran.mc(map$vble, nbw, nsim = 999)\\xa0\\xa0\\xa0\\xa0\\xa0\\xa0\\xa0\\n\\ngmoranMC\\xa0\\n\\nMonte-Carlo simulation of Moran I\\xa0\\n\\ndata: map$vble\\xa0\\n\\nweights: nbw\\xa0\\xa0\\xa0\\xa0\\xa0\\xa0\\xa0\\xa0\\n\\nnumber of simulations + 1: 1000\\xa0\\n\\nstatistic = 0.63, observed rank = 1000, p-value= 0.001\\xa0\\n\\n\\n\\nalternative hypothesis: greater It is observed that p-value is lower than 0.05 indicating that the data presents positive spatial autocorrelation.\\xa0\\n\\n\\xa0\\xa0\\xa0\\xa0\\n\\nAdditionally, we can plot the histogram of the Moran’s I values for each of the simulated patterns, as well as the Moran’s I obtained with the real data.\\xa0\\xa0\\xa0\\xa0\\n\\n\\n\\nhist(gmoranMC$res)\\xa0\\n\\nabline(v = gmoranMC$statistic, col = \"red\")\\xa0\\n\\n\\n\\nMoran’s I scatterplot\\xa0\\xa0\\xa0\\xa0\\xa0\\xa0\\xa0\\xa0\\xa0\\xa0\\n\\nMoran’s I scatterplot is used to visualize the spatial autocorrelation in the data. This plot displays the observations of each area against its spatially lagged values. The spatially lagged value for a given area is calculated as a weighted average of the neighboring values for that area.\\xa0\\n\\n\\n\\nThe moran.plot() function can be used to construct the scatterplot, and the spatially lagged value can be computed using the lag.listw() function of spdep by passing the values and the spatial weights corresponding to the areas.\\xa0\\xa0\\n\\nExample: Construct the Moran’s I scatterplot for the housing prices data used moran.plot() function by passing the housing prices and the spatial weights corresponding to the Boston tracts.\\xa0\\xa0\\xa0\\xa0\\n\\nmoran.plot(map$vble, nbw)\\xa0\\n\\nYou can observe a positive linear relationship between the observations and their spatially lagged values. Using this plot, we can also identify data points that have a high influence on the linear relationship between the data and the lagged values.\\xa0\\xa0\\xa0\\xa0\\xa0\\xa0\\xa0\\n\\n\\n\\nLocal Moran’s I\\xa0\\n\\nWe have used the global Moran’s I to provide an index to assess the spatial autocorrelation for the whole study region. There is often interest in providing a local measure of similarity between each area’s value and those of nearby areas.\\xa0\\n\\n\\n\\nLocal Indicators of Spatial Association (LISA) are designed to provide an indication of the extent of significant spatial clustering of similar values around each observation. A desirable property is that the sum of the LISA’s values across all regions is equal to a multiple of the global indicator of spatial association. As a result, global statistics may be decomposed into a set of local statistics and most LISAs are defined as local versions of well-known global indexes.\\xa0\\n\\n\\n\\nTypes of LISA:\\xa0\\n\\nHigh-High (HH): Locations with high values surrounded by other locations with high values.\\xa0\\n\\nLow-Low (LL): Locations with low values surrounded by other locations with low values.\\xa0\\n\\nHigh-Low (HL): Locations with high values surrounded by other locations with low values.\\xa0\\n\\nLow-High (LH): Locations with low values surrounded by other locations with high values.\\xa0\\n\\n\\n\\nInterpretation: HH and LL clusters indicate areas of positive spatial autocorrelation, while HL and LH clusters suggest areas of negative spatial autocorrelation One of the most popular LISAs is the local version of Moran’s I. For the ith region, the local Moran’s I defined as\\n\\n\\n\\n\\n\\n\\n\\nIt is important to know that the global Moran’s I is proportional to the sum of the local Moran’s I obtained for all regions:\\xa0\\n\\n\\n\\n\\n\\n\\n\\nThe values of the LISAs are mapped to indicate the location of areas with comparatively high or low local association with neighboring areas. A high value for Ii suggests that the area is surrounded by areas with similar values. Such an area is part of a cluster of high observations, low observations, or moderate observations. A low value for Ii indicates that the area is surrounded by areas with dissimilar values. Such an area is an outlier indicating that the observation of area i is different from most or all of the observations of its neighbors.\\xa0\\n\\n\\n\\nTo interpret the significance of local Moran’s I for each of the areas, it is necessary to compute a map of p-values which is calculated assuming the null hypothesis(states that there is no spatial autocorrelation) is true to know if our observations are likely due to random chance or if they\\'re statistically meaningful.\\xa0\\n\\n\\n\\nThese p-values, regardless of the presence or absence of global spatial association, may be obtained by a simulation process with a conditional randomization approach. In this approach, the observed value Yi at region i is fixed, and the remaining values are randomly reassigned over the other regions.\\xa0\\n\\n\\n\\nTo assess the local autocorrelation in R, the localmoran() function of the spdep package can be used to compute the Local Moran’s I for the given dataset. The arguments of localmoran() include a numeric vector with the values of the variable, a list with the neighbor weights, and the name of an alternative hypothesis that can be set equal to greater (default), less or two.sided. The returned object of the localmoran() function contains the following information:\\xa0\\n\\nIi: Local Moran’s I statistic for each area,\\xa0\\n\\nE.Ii: Expectation Local Moran’s I statistic,\\xa0\\xa0\\n\\nVar.Ii: Variance Local Moran’s I statistic,\\xa0\\n\\nZ.Ii: z-score,\\xa0\\n\\nPr(z > E(Ii)), Pr(z < E(Ii)) or Pr(z != E(Ii)): p-value for an alternative hypothesis greater, less or two.sided, respectively.\\xa0\\n\\n\\n\\nExample:\\xa0\\n\\nFor the housing prices data, use the localmoran() function to compute the Local Moran’s I. Set alternative = \"greater\" which corresponds to testing H0: no or negative spatial autocorrelation vs. H1: positive spatial autocorrelation.\\xa0\\n\\nlmoran <- localmoran(map$vble, nbw, alternative = \"greater\")\\xa0\\n\\nhead(lmoran)\\xa0\\n\\nIi \\t\\tE.Ii \\t\\tVar.Ii\\t Z.Ii \\t\\tPr(z > E(Ii))\\xa0\\n\\n1 -0.3457508 -5.254e-04 3.275e-02 -1.9075 \\xa0 \\xa0 \\xa0 \\xa0 \\xa0 \\xa0 9.718e-01\\xa0\\n\\n2 0.0175875 -1.627e-05 2.046e-03 0.3892 \\xa0 \\xa0 \\xa0 \\xa0 \\xa0 \\xa0 \\xa0 3.486e-01\\xa0\\n\\n3 0.0123380 -6.557e-07 4.090e-05 1.9294 \\xa0 \\xa0 \\xa0 \\xa0 \\xa0 \\xa0 \\xa0 2.684e-02\\xa0\\n\\n4 -0.0001654 -1.059e-07 1.332e-05 -0.0453\\xa0 \\xa0 \\xa0 \\xa0 \\xa0 \\xa0 5.181e-01\\xa0\\n\\n5 0.3591629 -1.428e-04 7.899e-03 4.0428\\xa0 \\xa0 \\xa0 \\xa0 \\xa0 \\xa0 \\xa0 2.641e-05\\xa0\\n\\n6 0.0545611 -1.626e-04 1.357e-02 0.4697\\xa0 \\xa0 \\xa0 \\xa0 \\xa0 \\xa0 \\xa0 3.193e-01\\n\\n\\n\\n\\n\\xa0Ii (Local Moran\\'s I): the calculated Local Moran\\'s I statistic for each region which measures the degree of spatial autocorrelation for each observation. Positive values indicate clustering of similar values, negative values indicate dispersion or dissimilarity, and values near zero suggest randomness.\\xa0\\n\\nE.Ii (Expected Local Moran\\'s I): the expected value of Local Moran\\'s I under H0. It represents what you would expect if there were no spatial autocorrelation.\\xa0\\n\\nVar.Ii (Variance of Local Moran\\'s I): the variance of the Local Moran\\'s I statistic, providing a measure of how much the observed values deviate from what would be expected under H0.\\xa0\\n\\nZ.Ii (Z-score): indicates how many standard deviations an observed Local Moran\\'s I value is from the mean of the expected values. Positive Z-scores suggest significant positive spatial autocorrelation, while negative Zscores suggest significant negative spatial autocorrelation.\\xa0\\n\\nPr(z > E(Ii)): the p-value associated with each Z-score. Smaller p-values (typically < 0.05) suggest rejection of the null hypothesis.\\xa0\\n\\n\\n\\nGenerally, significant positive Z-scores (with low p-values) indicate regions with significant positive spatial autocorrelation, while significant negative Z-scores indicate regions with significant negative spatial autocorrelation. Non-significant Z-scores suggest spatial randomness.\\xa0\\n\\n\\n\\nAccording to the example:\\xa0\\n\\n\\n\\nObservation 1: There is a negative (as Z score is negtive) spatial autocorrelation in this area, suggesting that the region is surrounded by dissimilar values. the p-value is not significant (0.9718), indicating that the observed negative spatial autocorrelation is not statistically meaningful. The lack of significance suggests that the observed dissimilarity could reasonably occur by random chance, and it\\'s not a reliable indication of a true spatial pattern.\\xa0\\n\\n\\n\\nObservation 2: positive spatial autocorrelation but not significant as P-Value (0.3486) not significant. So no significant spatial autocorrelation detected in this area.\\xa0\\n\\n\\n\\nObservation 3: Positively significant Z-score : Z-Score (1.9294) and P-Value (0.0268): Significant. Accordingly, there is a positive spatial autocorrelation in this area, indicating that the region is part of a cluster with similar values.\\xa0\\n\\n\\n\\nObservation 4: Z-Score (-0.0453): negative spatial autocorrelation and P-Value (0.5181): Not significant. So no significant spatial autocorrelation detected in this area.\\xa0\\n\\n\\n\\nObservation 5: Z-Score (4.0428): Positively spatial autocorrelation and P-Value (2.641e-05) : Highly significant, so there is a strong positive spatial autocorrelation in this area, suggesting a cluster of similar values.\\xa0\\n\\n\\nObservation 6: Z-Score (0.4697): positive spatial autocorrelation and P-Value (0.3193): Not significant, so no significant spatial autocorrelation detected in this area.\\n\\n\\n\\nFor our example, it is possible to create maps with tmap package to show the housing prices, the local Moran’s I, z-scores, and p-values. \\n\\nAreas with p-value less than the significance level 0.05 correspond to areas for which we would reject the null hypothesis H0 and conclude they present positive spatial autocorrelation. \\n\\n#install.packages(\"tmap\") \\n\\n#install.packages(\"devtools\") \\n\\n# Load the devtools package \\n\\nlibrary(devtools) \\n\\nlibrary(spdep) \\n\\nmap <- st_read(system.file(\"shapes/boston_tracts.shp\", package = \"spData\"), quiet = TRUE)\\n\\nmap$vble <- map$MEDV \\n\\nnb <- poly2nb(map, queen = TRUE) # queen shares point or border \\n\\nnbw <- nb2listw(nb, style = \"W\") \\n\\nlmoran <- localmoran(map$vble, nbw, alternative = \"greater\") \\n\\n# Install the tmap package from GitHub #devtools::install_github(\"r-tmap/tmap\") \\n\\nlibrary(tmap) #tmap_mode(\"view\") #allows you to create an interactive map \\n\\nmap$lmI <- lmoran[, \"Ii\"] # local Moran\\'s I \\n\\nmap$lmZ <- lmoran[, \"Z.Ii\"] # z-scores # p-values corresponding to alternative greater \\n\\nmap$lmp <- lmoran[, \"Pr(z > E(Ii))\"] \\n\\np1 <- tm_shape(map) + tm_polygons(\"vble\", title = \"vble\", style = \"quantile\", legend.show = TRUE) + tm_layout(legend.position = c(\"right\", \"top\")) \\n\\np2 <- tm_shape(map) + tm_polygons(\"lmI\", title = \"Local Moran\\'s I\", style = \"quantile\") + tm_layout(legend.outside = TRUE)\\n\\np3 <- tm_shape(map) + tm_polygons(\"lmZ\", title = \"Z-score\", breaks = c(-Inf, 1.65, Inf)) + tm_layout(legend.outside = TRUE) \\n\\np4 <- tm_shape(map) + tm_polygons(\"lmp\", title = \"p-value\", breaks = c(-Inf, 0.05, Inf)) + tm_layout(legend.outside = TRUE) \\n\\ntmap_arrange(p1, p2, p3, p4)\\n\\n\\n\\nFinally for the example, you can use alternative = \"two.sided\" instead of alternative = \"greater\", to test H0: no spatial autocorrelation vs. H1: positive or negative spatial autocorrelation. In this two-sided test, z-score values lower than – 1.96 indicate negative spatial autocorrelation, and z-score values greater than 1.96 indicate positive spatial autocorrelation. \\n\\nTo plot the map which shows the areas with negative, no, and positive spatial autocorrelation, obtained by breaking the legend according to these z-score values.\\n\\n\\n\\n\\n\\nClusters \\n\\nAs previously shown, Local Moran’s I allows to identify 4 types of clusters: High-High, High-Low, Low-High and Low-Low. \\n\\nTo detect clusters, we first use the localmoran() function to calculate the local Moran’s I where column 5 of the returned object contains the the p-values for the alternative hypothesis \"two.sided\".\\n\\nFollowing, identify the clusters of each type by using the information provided by the Moran’s I scatterplot obtained with the moran.plot(). Then, identify the cluster types by using the quadrants of the scaled values (mp$x) and their spatially lagged values (mp$wx), and the p-values obtained with the local Moran’s I for each of the areas (map$lmp). The classification of the clusters is as presented in the code below. \\n\\nAreas with significant local Moran’s I are classified as high-high if both the value and its corresponding spatially lagged value are positive, low-low if both the value and its spatially lagged value are negative, high-low if the the value is positive and the spatially lagged value negative, and low-high if the value is negative and the spatially lagged value is positive. \\n\\n\\n\\nTo plot, create the variable quadrant denoting the type of cluster for each of the areas using the quadrant corresponding to its value and its spatially lagged value, and the p-value. Specifically, areas with quadrant equal to 1, 2, 3, and 4 correspond to clusters of type high-high, low-low, high-low, and low-high, respectively. Areas with quadrant equal to 5 are non-significant. \\n\\nlmoran <- localmoran(map$vble, nbw, alternative = \"two.sided\") \\n\\nhead(lmoran) \\n\\nmap$lmp <- lmoran[, 5] # p-values are in column 5 \\n\\nmp <- moran.plot(as.vector(scale(map$vble)), nbw) \\n\\nhead(mp) map$quadrant <- NA \\n\\n\\n\\n# high-high \\n\\nmap[(mp$x >= 0 & mp$wx >= 0) & (map$lmp <= 0.05), \"quadrant\"]<- 1 \\n\\n\\n\\n# low-low \\n\\nmap[(mp$x <= 0 & mp$wx <= 0) & (map$lmp <= 0.05), \"quadrant\"]<- 2 \\n\\n\\n\\n# high-low \\n\\nmap[(mp$x >= 0 & mp$wx <= 0) & (map$lmp <= 0.05), \"quadrant\"]<- 3 \\n\\n\\n\\n# low-high \\n\\nmap[(mp$x <= 0 & mp$wx >= 0) & (map$lmp <= 0.05), \"quadrant\"]<- 4 \\n\\n\\n\\n# non-significant \\n\\nmap[(map$lmp > 0.05), \"quadrant\"] <- 5 \\n\\n\\n\\ntm_shape(map) + tm_fill(col = \"quadrant\", title = \"\", \\n\\nbreaks = c(1, 2, 3, 4, 5, 6), \\n\\npalette = c(\"red\", \"blue\", \"lightpink\", \"skyblue2\", \"white\"), \\n\\nlabels = c(\"High-High\", \"Low-Low\", \"High-Low\", \"Low-High\", \"Non-significant\")) + tm_legend(text.size = 1) + tm_borders(alpha = 0.5) + tm_layout(frame = FALSE, title = \"Clusters\") + tm_layout(legend.outside = TRUE)\\n\\n\\n\\n\\n\\nBayesian spatial models \\n\\nBayesian hierarchical models can be used to analyze areal data that arise when a variable is aggregated into areas that form a partition of the study region. \\n\\n\\n\\nModels can be specified to describe the variability in the response variable as a function of a number of covariates known to affect the outcome, as well as random effects to model variation not explained by the covariates. \\n\\n\\n\\nThis provides a flexible and robust approach that allows us to assess the effects of explanatory variables, accommodate spatial autocorrelation, and quantify the uncertainty in the estimates obtained. \\n\\n\\n\\nA commonly used spatial model is the Besag-York-Mollié (BYM) model, which considers the fixed effects and also includes a spatial random effect. This latter accounts for the spatial dependence between outcomes indicating that areas that are close to each other may have similar values. \\n\\n\\n\\nBayesian hierarchical models can be fitted using a number of approaches such as integrated nested Laplace approximation (INLA) and Markov chain Monte Carlo (MCMC) methods. \\n\\n\\n\\nINLA is a computational approach to perform approximate Bayesian inference. This includes a wide range of models such as generalized linear mixed models and spatial and spatio-temporal models. INLA uses a combination of analytical approximations and numerical integration to obtain approximated posterior distributions of the parameters and is very fast compared to MCMC methods. \\n\\n\\n\\nThe R-INLA package can be used to fit models using INLA. To install R-INLA, use the install.packages() function specifying the R-INLA repository since the package is not on CRAN.\\n\\ninstall.packages(\"INLA\", repos = \"https://inla.r-inla-download.org/R/stable\", dep = TRUE) \\n\\nlibrary(INLA) \\n\\n\\n\\n\\n\\nSpatial modeling of housing prices \\n\\n\\n\\nIn this part, we work on an example to learn how to specify and fit a Bayesian hierarchical model to estimate housing prices in Boston, USA, using the R-INLA package. \\n\\nlibrary(sf) \\n\\nlibrary(spData) \\n\\nmap <- st_read(system.file(\"shapes/boston_tracts.shp\",package = \"spData\"),quiet = TRUE) \\n\\n\\n\\nAs previously clarified, this dataset contains housing data of 506 Boston census tracts including median prices of owner-occupied housing in $1000 USD (MEDV), per capita crime (CRIM), and average number of rooms per dwelling (RM). \\n\\n\\n\\nWe create the variable called vble with the logarithm of the median prices, and map this variable using mapview. The map suggests that the housing prices are greater in the west, and prices are related to those in neighboring areas. \\n\\nlibrary(mapview) \\n\\nmap$vble <- log(map$MEDV) \\n\\nmapview(map, zcol = \"vble\") \\n\\n\\n\\n\\n\\nNote : Why considering the log of median price instead of the median price ? \\n\\nFor Normalization as housing prices have a wide range with some extremely high values. Taking the logarithm helps to compress this range, making the distribution more symmetrical and manageable for modeling. Additionally, the log reduces the variability in price differences, which can help meet the assumptions of linear regression models. \\n\\nFurther, the logarithm allows for more straightforward interpretation in terms of percentage changes. For example, a unit increase in the logarithm of housing price might represent a certain percentage change in the actual price. \\n\\n\\n\\nTo plot the relationships between pairs of variables, use the ggpairs() function of the GGally package. \\n\\n\\n\\ninstall.packages(\"GGally\") \\n\\nlibrary(GGally) \\n\\nggpairs(data = map, columns = c(\"vble\", \"CRIM\", \"RM\")) \\n\\n\\n\\n\\n\\nWe observe a negative relationship between the logarithm of housing price and crime, and a positive relationship between the logarithm of housing price and the average number of rooms.\\n\\n\\n\\nFollowing, we model the logarithm of the median prices using, as covariates, the per capita crime (CRIM) and the average number of rooms per dwelling (RM). Let Yi be the logarithm of housing price of area i, i=1,…,n. We fit a BYM model that considers Yi as the response variable, and crime and number of rooms as covariates: \\n\\n\\n\\n\\n\\n\\n\\n\\n\\nThe spatial random effect ui captures spatial autocorrelation or the similarity between neighboring areas. This effect assumes that areas that are geographically close to each other tend to have similar response values. It is modeled with conditional autoregressive model (CAR) that smooths the data according to a certain neighborhood structure. \\n\\n\\n\\nHowever, the unstructured effect vi accounts for the unexplained or residual variation in the data that isn\\'t captured by the structured spatial effect. It represents the random or uncorrelated variability among areas that isn\\'t related to their spatial proximity. This effect is akin to the \\'noise\\' or random fluctuations present in the data that cannot be attributed to spatial relationships. \\n\\n\\n\\nThis spatial random effect ui needs to be specified using a neighborhood structure to capture spatial dependencies among neighboring regions. For this example, assume that two areas are neighbors if they share a common boundary. So you can create a neighborhood structure using functions of the spdep package. First, use the poly2nb() function to create a neighbors list based on areas with contiguous boundaries. Explained previously, each element of the list nb represents one area and contains the indices of its neighbors. For example, nb[[1]] contains the neighbors of area 1. \\n\\n\\n\\ninstall.packages(\"INLA\") \\n\\nlibrary(spdep) \\n\\nlibrary(INLA) \\n\\nnb <- poly2nb(map) \\n\\nhead(nb) \\n\\n\\n\\nThen, we use the nb2INLA() function to convert the nb list into a file called map.adj with the representation of the neighborhood matrix as required by R-INLA. The map.adj file is saved in the working directory which can be obtained with getwd(). Then, we read the map.adj file using the inla.read.graph() function of R-INLA, and store it in the object g which we later use to specify the spatial model using R-INLA. \\n\\nnb2INLA(\"map.adj\", nb) \\n\\ng <- inla.read.graph(filename = \"map.adj\") \\n\\n\\n\\nWe specify the model formula by including the response variable, the ~ symbol, and the fixed and random effects. \\n\\n\\n\\nmap$re_u <- 1:nrow(map) # index to specify the elements of the structured spatial random effect \\n\\nmap$re_v <- 1:nrow(map) # index to specify the elements of the unstructured effect \\n\\n\\n\\nformula <- vble ~ CRIM + RM + \\n\\nf(re_u, model = \"besag\", graph = g, scale.model = TRUE) + \\n\\nf(re_v, model = \"iid\") \\n\\n\\n\\nBy default, there is an intercept so we do not need to include it in the formula. In the formula, random effects are specified with the f() function. This function includes as first argument an index vector that specifies the element of the random effect that applies to each observation, and as second argument the model name. For the spatial random effect ui, we use model = \"besag\" with neighborhood matrix given by g. The option scale.model = TRUE is used to make the precision parameter of models with different CAR priors comparable. For the unstructured effect vi, we choose model = \"iid\". The index vectors of the random effects are given by re_u and re_v created for ui and vi, respectively. These vectors are equal to 1,…,n, where n is the number of areas. Following, fit the model by calling the inla() function specifying the formula, the family, the data, and using the default priors in R-INLA. We also set control.predictor = list(compute = TRUE) and control.compute = list(return.marginals.predictor = TRUE) to compute and return the posterior means of the predictors.\\n\\n\\n\\nres <- inla(formula, family = \"gaussian\", \\n\\ndata = map, control.predictor = list(compute = TRUE), #to compute posterior means of the predictors \\n\\ncontrol.compute = list(return.marginals.predictor = TRUE)) #to return the posterior marginals of the predictors \\n\\n\\n\\nThe resulting object res contains the fit of the model. To obtain a summary of the fitted model use summary(res). res$summary.fixed contains a summary of the fixed effects. \\n\\n\\n\\nres$summary.fixed \\n\\n\\n\\n\\n\\n We observe the intercept estimate ^β0= 1.427 with a 95% credible interval equal to (1.253, 1.6). We observe the crime estimate ^β1= –0.008 with a 95% credible interval equal to (–0.01, –0.005). This indicates crime is significantly negatively related to housing price. The coefficient of rooms is ^β2= 0.26 with a 95% credible interval equal to (0.233, 0.288) indicating number of rooms is significantly positively related to housing price. Thus, the results suggest both crime and number of rooms are important in explaining the spatial pattern of housing prices. \\n\\nWhen both crime rate (CRIM) and number of rooms (RM) are zero, the estimated average housing price is approximately 1.427 units.  \\n\\nFor every unit increase in crime rate, the estimated average housing price decreases by approximately 0.008 units. \\n\\nFor every additional room, the estimated average housing price increases by approximately 0.26 units. \\n\\n\\n\\nFurther, it is possible to type res$summary.fitted.values to obtain a summary of the posterior distributions of the response μi for each of the areas. Column mean indicates the posterior mean (Provides the estimated average response (housing price) for each area based on the model.), and columns 0.025quant and 0.975quant are, respectively, the lower and upper limits of 95% credible intervals representing the uncertainty of the estimates obtained (Wider intervals indicate higher uncertainty about the predicted housing prices for that area.). \\n\\n\\n\\nsummary(res$summary.fitted.values) \\n\\n\\n\\n\\n\\nSo, we can create variables with the posterior mean (PM) and lower (LL) and upper (UL) limits of 95% credible intervals. \\n\\n\\n\\nPM represents the estimated average housing price for each area. It\\'s a point estimate showing the model\\'s best guess for housing prices in various locations. \\n\\n\\n\\nLL an UL of intervals show the range within which the true housing prices for each area are likely to fall with 95% confidence. \\n\\n\\n\\n# Posterior mean and 95% CI \\n\\n\\n\\nmap$PM <- res$summary.fitted.values[, \"mean\"] \\n\\nmap$LL <- res$summary.fitted.values[, \"0.025quant\"] \\n\\nmap$UL <- res$summary.fitted.values[, \"0.975quant\"] \\n\\n\\n\\nand we could create maps of these variables with mapview by specifying a common legend for the three maps, and using a popup table with the name, the logarithm of the housing prices, the covariates, and the posterior mean and 95% credible intervals. We use the sync() function of leafsync to plot synchronized maps. \\n\\n# common legend \\n\\nat <- seq(min(c(map$PM, map$LL, map$UL)), max(c(map$PM, map$LL, map$UL)), length.out = 8) \\n\\n\\n\\n# popup table \\n\\npopuptable <- leafpop::popupTable(dplyr::mutate_if(map, is.numeric, round, digits = 2), zcol = c(\"TOWN\", \"vble\", \"CRIM\", \"RM\", \"PM\", \"LL\", \"UL\"), row.numbers = FALSE, feature.id = FALSE)\\n\\nm1 <- mapview(map, zcol = \"PM\", map.types = \"CartoDB.Positron\", at = at, popup = popuptable) \\n\\nm2 <- mapview(map, zcol = \"LL\", map.types = \"CartoDB.Positron\", at = at, popup = popuptable)\\n\\nm3 <- mapview(map, zcol = \"UL\", map.types = \"CartoDB.Positron\", at = at, popup = popuptable) #install.packages(\\'leafsync\\') l\\n\\nibrary(leafsync) \\n\\nm <- leafsync::sync(m1, m2, m3, ncol = 3) \\n\\nm'"
            ]
          },
          "execution_count": 29,
          "metadata": {},
          "output_type": "execute_result"
        }
      ],
      "source": [
        "data[0].page_content"
      ]
    },
    {
      "cell_type": "markdown",
      "id": "hTJcTSSoJRgm",
      "metadata": {
        "id": "hTJcTSSoJRgm"
      },
      "source": [
        "### 5. Loading Youtube Videos into Text"
      ]
    },
    {
      "cell_type": "markdown",
      "id": "A10ScIbBLjVC",
      "metadata": {
        "id": "A10ScIbBLjVC"
      },
      "source": [
        "load the video, then convert the audio into text"
      ]
    },
    {
      "cell_type": "code",
      "execution_count": 31,
      "id": "x2tjW89ZfdHn",
      "metadata": {
        "colab": {
          "base_uri": "https://localhost:8080/"
        },
        "id": "x2tjW89ZfdHn",
        "outputId": "bf66bc63-8f59-4f9c-cc2f-0e74c3f8309f"
      },
      "outputs": [
        {
          "name": "stdout",
          "output_type": "stream",
          "text": [
            "[youtube] Extracting URL: https://www.youtube.com/watch?v=TSjGRbk3l28&t=32s\n",
            "[youtube] TSjGRbk3l28: Downloading webpage\n",
            "[youtube] TSjGRbk3l28: Downloading tv client config\n",
            "[youtube] TSjGRbk3l28: Downloading player b2858d36-main\n",
            "[youtube] TSjGRbk3l28: Downloading tv player API JSON\n",
            "[youtube] TSjGRbk3l28: Downloading ios player API JSON\n",
            "[youtube] TSjGRbk3l28: Downloading m3u8 information\n",
            "[info] TSjGRbk3l28: Downloading 1 format(s): 140\n",
            "[download] Destination: /content/data/LangChain in 2 minutes.m4a\n",
            "[download] 100% of    2.41MiB in 00:00:00 at 3.24MiB/s   \n",
            "[FixupM4a] Correcting container of \"/content/data/LangChain in 2 minutes.m4a\"\n",
            "[ExtractAudio] Not converting audio /content/data/LangChain in 2 minutes.m4a; file is already in target format m4a\n",
            "Transcribing part 1!\n"
          ]
        }
      ],
      "source": [
        "from langchain.document_loaders.generic import GenericLoader\n",
        "from langchain.document_loaders.parsers import OpenAIWhisperParser\n",
        "from langchain.document_loaders.blob_loaders.youtube_audio import YoutubeAudioLoader\n",
        "\n",
        "url = \"https://www.youtube.com/watch?v=TSjGRbk3l28&t=32s\"\n",
        "save_dir = \"/content/data\"\n",
        "loader = GenericLoader(\n",
        "    YoutubeAudioLoader([url], save_dir),\n",
        "    OpenAIWhisperParser(api_key=openai_api_key)\n",
        ")\n",
        "\n",
        "docs = loader.load()"
      ]
    },
    {
      "cell_type": "code",
      "execution_count": 63,
      "id": "rPL7K3DNPJpI",
      "metadata": {
        "id": "rPL7K3DNPJpI"
      },
      "outputs": [],
      "source": [
        "# !pip install python-docx"
      ]
    },
    {
      "cell_type": "code",
      "execution_count": 40,
      "id": "ny4HuSy-fdCI",
      "metadata": {
        "colab": {
          "base_uri": "https://localhost:8080/",
          "height": 17
        },
        "id": "ny4HuSy-fdCI",
        "outputId": "284a4a64-1b6b-4dab-83dd-b2d2aa03cf8f"
      },
      "outputs": [
        {
          "data": {
            "application/javascript": "\n    async function download(id, filename, size) {\n      if (!google.colab.kernel.accessAllowed) {\n        return;\n      }\n      const div = document.createElement('div');\n      const label = document.createElement('label');\n      label.textContent = `Downloading \"${filename}\": `;\n      div.appendChild(label);\n      const progress = document.createElement('progress');\n      progress.max = size;\n      div.appendChild(progress);\n      document.body.appendChild(div);\n\n      const buffers = [];\n      let downloaded = 0;\n\n      const channel = await google.colab.kernel.comms.open(id);\n      // Send a message to notify the kernel that we're ready.\n      channel.send({})\n\n      for await (const message of channel.messages) {\n        // Send a message to notify the kernel that we're ready.\n        channel.send({})\n        if (message.buffers) {\n          for (const buffer of message.buffers) {\n            buffers.push(buffer);\n            downloaded += buffer.byteLength;\n            progress.value = downloaded;\n          }\n        }\n      }\n      const blob = new Blob(buffers, {type: 'application/binary'});\n      const a = document.createElement('a');\n      a.href = window.URL.createObjectURL(blob);\n      a.download = filename;\n      div.appendChild(a);\n      a.click();\n      div.remove();\n    }\n  ",
            "text/plain": [
              "<IPython.core.display.Javascript object>"
            ]
          },
          "metadata": {},
          "output_type": "display_data"
        },
        {
          "data": {
            "application/javascript": "download(\"download_aea47253-5c17-47a7-b24d-3eacbb8ec38a\", \"output_document.docx\", 37736)",
            "text/plain": [
              "<IPython.core.display.Javascript object>"
            ]
          },
          "metadata": {},
          "output_type": "display_data"
        }
      ],
      "source": [
        "from docx import Document\n",
        "from google.colab import files\n",
        "\n",
        "# Assuming 'data' from the previous cell contains the loaded Word document content\n",
        "if 'data' in globals() and docs:\n",
        "    doc = Document()\n",
        "    # Assuming data is a list of Document objects, take the content from the first one\n",
        "    # Adjust this logic if 'data' has a different structure or if you want to combine contents\n",
        "    for page in docs:\n",
        "        doc.add_paragraph(page.page_content)\n",
        "\n",
        "    word_filename = \"output_document.docx\"\n",
        "    doc.save(word_filename)\n",
        "\n",
        "    # Download the created Word file|\n",
        "    files.download(word_filename)\n",
        "else:\n",
        "    print(\"No document data found in the variable 'data'.\")\n"
      ]
    },
    {
      "cell_type": "markdown",
      "id": "khwF6D_ZUf5a",
      "metadata": {
        "id": "khwF6D_ZUf5a"
      },
      "source": [
        "### 6. Loading HTML Pages"
      ]
    },
    {
      "cell_type": "code",
      "execution_count": 51,
      "id": "TYEdkASdfc_Y",
      "metadata": {
        "id": "TYEdkASdfc_Y"
      },
      "outputs": [],
      "source": [
        "from langchain.document_loaders import WebBaseLoader\n",
        "\n",
        "loader = WebBaseLoader(\"https://github.com/ramahasiba/Clustering_Analysis\")\n",
        "docs = loader.load()"
      ]
    },
    {
      "cell_type": "code",
      "execution_count": 53,
      "id": "_6GZ53njfc84",
      "metadata": {
        "colab": {
          "base_uri": "https://localhost:8080/"
        },
        "id": "_6GZ53njfc84",
        "outputId": "fd86196e-3ea1-4b35-c28c-dc65d0b8be77"
      },
      "outputs": [
        {
          "name": "stdout",
          "output_type": "stream",
          "text": [
            "nder of the participating family members.\n",
            "As indicated in Table (1), the data comprises two categories of missing data: natural missing data (NaN) and missing data due to particular reasons, with each category having a label that we processed differently. We maintained all columns except those that were eliminated following discussion:\n",
            "Columns with more than 75% missing data\n",
            "Columns with 65% missing data for a specified cause.\n",
            "\n",
            "\n",
            "\n",
            "\n",
            "Label\n",
            "Description\n",
            "\n",
            "\n",
            "\n",
            "\n",
            "Not required under the circumstances\n",
            "995\n",
            "\n",
            "\n",
            "\n"
          ]
        }
      ],
      "source": [
        "print(docs[0].page_content[6500:7000])"
      ]
    },
    {
      "cell_type": "markdown",
      "id": "ro5QN9YOZMW7",
      "metadata": {
        "id": "ro5QN9YOZMW7"
      },
      "source": [
        "### storing different file extensions that the application can expect to handle and the corresponding data handler, this is for being able to work with all different file types that LangChain can use.\n"
      ]
    },
    {
      "cell_type": "code",
      "execution_count": 60,
      "id": "Abl7AxqgXPLF",
      "metadata": {
        "id": "Abl7AxqgXPLF"
      },
      "outputs": [],
      "source": [
        "DOCUMENT_MAP = {\n",
        "    \".csv\": CSVLoader,\n",
        "    \".xls\": UnstructuredExcelLoader,\n",
        "    \".xlsx\": UnstructuredExcelLoader,\n",
        "    \".docx\": Docx2txtLoader,\n",
        "    \".doc\": Docx2txtLoader,\n",
        "    \".pdf\": PyPDFLoader,\n",
        "    }"
      ]
    },
    {
      "cell_type": "markdown",
      "id": "g3yBL9aVbCnz",
      "metadata": {
        "id": "g3yBL9aVbCnz"
      },
      "source": [
        "### This code is used to detect the extension of the file and based on this, I can use the right data loader from langchain:"
      ]
    },
    {
      "cell_type": "code",
      "execution_count": 62,
      "id": "WkliQXqQXPIp",
      "metadata": {
        "id": "WkliQXqQXPIp"
      },
      "outputs": [],
      "source": [
        "docx_file_path = \"/content/eBook-How-to-Build-a-Career-in-AI.pdf\"\n",
        "file_extension = os.path.splitext(docx_file_path)[1]\n",
        "loader_class = DOCUMENT_MAP.get(file_extension)\n",
        "\n",
        "loader = loader_class(docx_file_path)\n",
        "docs = loader.load()"
      ]
    }
  ],
  "metadata": {
    "colab": {
      "include_colab_link": true,
      "provenance": []
    },
    "kernelspec": {
      "display_name": "Python 3 (ipykernel)",
      "language": "python",
      "name": "python3"
    },
    "language_info": {
      "codemirror_mode": {
        "name": "ipython",
        "version": 3
      },
      "file_extension": ".py",
      "mimetype": "text/x-python",
      "name": "python",
      "nbconvert_exporter": "python",
      "pygments_lexer": "ipython3",
      "version": "3.9.19"
    }
  },
  "nbformat": 4,
  "nbformat_minor": 5
}
