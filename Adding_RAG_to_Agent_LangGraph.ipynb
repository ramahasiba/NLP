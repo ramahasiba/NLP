{
  "nbformat": 4,
  "nbformat_minor": 0,
  "metadata": {
    "colab": {
      "provenance": [],
      "include_colab_link": true
    },
    "kernelspec": {
      "name": "python3",
      "display_name": "Python 3"
    },
    "language_info": {
      "name": "python"
    }
  },
  "cells": [
    {
      "cell_type": "markdown",
      "metadata": {
        "id": "view-in-github",
        "colab_type": "text"
      },
      "source": [
        "<a href=\"https://colab.research.google.com/github/ramahasiba/NLP/blob/langGraph/Adding_RAG_to_Agent_LangGraph.ipynb\" target=\"_parent\"><img src=\"https://colab.research.google.com/assets/colab-badge.svg\" alt=\"Open In Colab\"/></a>"
      ]
    },
    {
      "cell_type": "markdown",
      "source": [
        "This notebook is a clone for [Adding RAG to LangGraph Agents tutorial](https://www.youtube.com/watch?v=WyIWaopiUEo).\n",
        "\n",
        "The goal is to build an agent that can do the following:\n",
        "1. get the email\n",
        "2. reply to a customer email by getting user email, categorize the email as \"sales\", \"custom enquiry\", \"off topic\", and \"customer complaint\".\n",
        "3. use the category and original email to create questions for a RAG search to getinfo needed for the reply.\n",
        "4. write a draft reply.\n",
        "5. check the eply against the RAG answers.\n",
        "6. re-write if needed.\n"
      ],
      "metadata": {
        "id": "EiP3oRTmZRCe"
      }
    },
    {
      "cell_type": "markdown",
      "source": [
        "## Colab Setup"
      ],
      "metadata": {
        "id": "7Dlh_ZVnfaCk"
      }
    },
    {
      "cell_type": "code",
      "source": [
        "#use the link iin this cell to get the ile we're going to work with\n",
        "!wget -q -O westworld_resort_facts.csv https://www.dropbox.com/scl/fi/qhzosgi21sqsymv5j4o1b/westworld_resort_facts.csv?rlkey=d81cez1bxck2y3lw53phar8nk&st=70bbkq9n&dl=1"
      ],
      "metadata": {
        "id": "eEbpGrZTXi6F"
      },
      "execution_count": 171,
      "outputs": []
    },
    {
      "cell_type": "code",
      "source": [
        "!pip -q install langchain-groq\n",
        "!pip -q install -U langchain_community tiktoken langchainhub\n",
        "!pip -q install -U langchain langgraph"
      ],
      "metadata": {
        "id": "m23YkZCPXi32"
      },
      "execution_count": 172,
      "outputs": []
    },
    {
      "cell_type": "code",
      "source": [
        "# for RAG Only\n",
        "!pip -q install -U langchain langchain-community langchainhub\n",
        "!pip -q install langchain-chroma bs4\n",
        "!pip -q install huggingface_hub unstructured sentence_transformers"
      ],
      "metadata": {
        "id": "opKvfhJxXi0f"
      },
      "execution_count": 173,
      "outputs": []
    },
    {
      "cell_type": "code",
      "source": [
        "import os\n",
        "from pprint import pprint\n",
        "from dotenv import load_dotenv\n",
        "\n",
        "load_dotenv('.env')\n",
        "\n",
        "os.environ[\"GROQ_API_KEY\"] = os.getenv('GROQ_API_KEY')\n",
        "os.environ[\"HF_TOKEN\"] = os.getenv('HF_TOKEN')"
      ],
      "metadata": {
        "id": "u3ClSys4Xix2"
      },
      "execution_count": 174,
      "outputs": []
    },
    {
      "cell_type": "markdown",
      "source": [
        "## Building the RAG"
      ],
      "metadata": {
        "id": "GuxVlamtfdOs"
      }
    },
    {
      "cell_type": "markdown",
      "source": [
        "### Load the sheet base"
      ],
      "metadata": {
        "id": "KtZKBIu8fhQd"
      }
    },
    {
      "cell_type": "code",
      "source": [
        "from langchain_community.document_loaders.csv_loader import CSVLoader\n",
        "from langchain_community.document_loaders.merge import MergedDataLoader\n",
        "from langchain.text_splitter import RecursiveCharacterTextSplitter\n",
        "from langchain.embeddings import HuggingFaceBgeEmbeddings\n",
        "from langchain.vectorstores import Chroma"
      ],
      "metadata": {
        "id": "Jjt0cCbGgiC8"
      },
      "execution_count": 175,
      "outputs": []
    },
    {
      "cell_type": "code",
      "source": [
        "loader = CSVLoader(file_path='./westworld_resort_facts.csv')"
      ],
      "metadata": {
        "id": "Kcd5aRdRXisu"
      },
      "execution_count": 176,
      "outputs": []
    },
    {
      "cell_type": "markdown",
      "source": [
        "### Merge all loaders"
      ],
      "metadata": {
        "id": "0OIf2xNZgZkl"
      }
    },
    {
      "cell_type": "code",
      "execution_count": 177,
      "metadata": {
        "id": "vRfj8KkPXDXf"
      },
      "outputs": [],
      "source": [
        "loader_all = MergedDataLoader(loaders=[loader])\n",
        "docs_all=loader_all.load()"
      ]
    },
    {
      "cell_type": "code",
      "source": [
        "len(docs_all)"
      ],
      "metadata": {
        "colab": {
          "base_uri": "https://localhost:8080/"
        },
        "id": "64fHIyl5fX7I",
        "outputId": "929146b7-5f1a-41be-b91d-1b6c5084cc03"
      },
      "execution_count": 178,
      "outputs": [
        {
          "output_type": "execute_result",
          "data": {
            "text/plain": [
              "148"
            ]
          },
          "metadata": {},
          "execution_count": 178
        }
      ]
    },
    {
      "cell_type": "markdown",
      "source": [
        "### Text Splitting\n",
        "text splitting may be un-necessary inthis case, becase documents are not long. but we still ned it in other cases."
      ],
      "metadata": {
        "id": "2AffYhLciYjO"
      }
    },
    {
      "cell_type": "code",
      "source": [
        "text_splitter = RecursiveCharacterTextSplitter(\n",
        "    chunk_size = 1000,\n",
        "    chunk_overlap  = 200\n",
        ")\n",
        "texts = text_splitter.split_documents(docs_all)\n",
        "len(texts)"
      ],
      "metadata": {
        "colab": {
          "base_uri": "https://localhost:8080/"
        },
        "id": "deAQ1to_lCCl",
        "outputId": "9c3821e2-9987-4168-c6e8-c7aee6b64c0c"
      },
      "execution_count": 179,
      "outputs": [
        {
          "output_type": "execute_result",
          "data": {
            "text/plain": [
              "148"
            ]
          },
          "metadata": {},
          "execution_count": 179
        }
      ]
    },
    {
      "cell_type": "code",
      "source": [
        "model_name = \"BAAI/bge-base-en\"\n",
        "encode_kwargs = {'normalize_embeddings': True} # set True to compute cosine similarity\n",
        "\n",
        "bge_embeddings = HuggingFaceBgeEmbeddings(\n",
        "    model_name=model_name,\n",
        "    model_kwargs={'device': 'cpu'},\n",
        "    encode_kwargs=encode_kwargs\n",
        ")"
      ],
      "metadata": {
        "id": "nD4AOrS7fX4k"
      },
      "execution_count": 180,
      "outputs": []
    },
    {
      "cell_type": "code",
      "source": [
        "persist_directory = 'db'\n",
        "\n",
        "# Here we canchange embedding\n",
        "embedding  = bge_embeddings\n",
        "\n",
        "vector_db = Chroma.from_documents(\n",
        "    documents=texts,\n",
        "    embedding=embedding,\n",
        "    persist_directory=persist_directory\n",
        ")"
      ],
      "metadata": {
        "id": "A7ZTxRp3fX2E"
      },
      "execution_count": 181,
      "outputs": []
    },
    {
      "cell_type": "markdown",
      "source": [
        "### Check if the RAG works"
      ],
      "metadata": {
        "id": "XSelaStOs1ul"
      }
    },
    {
      "cell_type": "code",
      "source": [
        "retriever = vector_db.as_retriever(search_kwargs={\"k\": 5})"
      ],
      "metadata": {
        "id": "lZh85ufFfXzd"
      },
      "execution_count": 182,
      "outputs": []
    },
    {
      "cell_type": "code",
      "source": [
        "from langchain_core.prompts import ChatPromptTemplate\n",
        "from langchain.prompts import PromptTemplate\n",
        "from langchain_core.runnables import RunnablePassthrough\n",
        "\n",
        "from langchain_core.output_parsers import StrOutputParser, JsonOutputParser"
      ],
      "metadata": {
        "id": "ug592dD3wlHp"
      },
      "execution_count": 183,
      "outputs": []
    },
    {
      "cell_type": "code",
      "source": [
        "from langchain_groq import ChatGroq\n",
        "\n",
        "GROQ_LLM = ChatGroq(\n",
        "    model=\"llama3-70b-8192\",\n",
        ")"
      ],
      "metadata": {
        "id": "ehpkNyEUx1If"
      },
      "execution_count": 184,
      "outputs": []
    },
    {
      "cell_type": "code",
      "source": [
        "# RAG Chain\n",
        "rag_prompt = PromptTemplate(\n",
        "    template= \"\"\"\n",
        "    <|begin_of_text|><|start_header_id|>system<|end_header_id|>\n",
        "    You are an assistant for question-answering tasks. Use the following pieces of retrieved context to answer the question. If you don't know the answer, just say that you don't know. Use three sentences maximum and keep the answer concise.\\n\n",
        "\n",
        "     <|eot_id|><|start_header_id|>user<|end_header_id|>\n",
        "    QUESTION: {question} \\n\n",
        "    CONTEXT: {context} \\n\n",
        "    Answer:\n",
        "    <|eot_id|>\n",
        "    <|start_header_id|>assistant<|end_header_id|>\n",
        "    \"\"\",\n",
        "    input_variables = [\"question\", \"context\"]\n",
        ")\n",
        "\n",
        "rag_prompt_chain = rag_prompt | GROQ_LLM | StrOutputParser()\n",
        "\n",
        "QUESTION = \"\"\"What can I do in the Westworld Park?\"\"\"\n",
        "CONTEXT = retriever.invoke(QUESTION)\n",
        "\n",
        "result = rag_prompt_chain.invoke({\"question\": QUESTION, \"context\": CONTEXT})\n",
        "\n",
        "print(result)"
      ],
      "metadata": {
        "colab": {
          "base_uri": "https://localhost:8080/"
        },
        "id": "TrWWYg7MyLz-",
        "outputId": "2280bc97-d260-4462-ba4e-6339d1fea10e"
      },
      "execution_count": 185,
      "outputs": [
        {
          "output_type": "stream",
          "name": "stdout",
          "text": [
            "In Westworld Park, you can experience the Wild West in a realistic and interactive way, interact with advanced androids called \"hosts\", and engage in various activities such as yoga, meditation, hiking, horseback riding, and visiting saloons, theaters, museums, and workshops. The park also offers spa and wellness centers for relaxation and rejuvenation.\n"
          ]
        }
      ]
    },
    {
      "cell_type": "code",
      "source": [
        "result"
      ],
      "metadata": {
        "colab": {
          "base_uri": "https://localhost:8080/",
          "height": 53
        },
        "id": "22IWxywO6Q_b",
        "outputId": "6a4548e9-d3b3-4869-a1c4-61b2b52d7631"
      },
      "execution_count": 186,
      "outputs": [
        {
          "output_type": "execute_result",
          "data": {
            "text/plain": [
              "'In Westworld Park, you can experience the Wild West in a realistic and interactive way, interact with advanced androids called \"hosts\", and engage in various activities such as yoga, meditation, hiking, horseback riding, and visiting saloons, theaters, museums, and workshops. The park also offers spa and wellness centers for relaxation and rejuvenation.'"
            ],
            "application/vnd.google.colaboratory.intrinsic+json": {
              "type": "string"
            }
          },
          "metadata": {},
          "execution_count": 186
        }
      ]
    },
    {
      "cell_type": "code",
      "source": [
        "rag_chain = (\n",
        "    {\"context\": retriever, \"question\": RunnablePassthrough()}\n",
        "    | rag_prompt\n",
        "    | GROQ_LLM\n",
        "    | StrOutputParser()\n",
        "    )"
      ],
      "metadata": {
        "id": "B4cFw2OT32r2"
      },
      "execution_count": 187,
      "outputs": []
    },
    {
      "cell_type": "markdown",
      "source": [
        "I experimented with two RAG pipeline styles using LangChain:\n",
        "\n",
        "1. Manual RAG Chain\n",
        "\n",
        "`rag_prompt_chain = rag_prompt | GROQ_LLM | StrOutputParser()`\n",
        "\n",
        "- Requires precomputed context and question.\n",
        "\n",
        "- Suitable for custom workflows where retrieval is handled separately.\n",
        "\n",
        "2. Integrated RAG Chain\n",
        "\n",
        "\n",
        "```rag_chain = (\n",
        "    {\"context\": retriever, \"question\": RunnablePassthrough()}\n",
        "    | rag_prompt\n",
        "    | GROQ_LLM\n",
        "    | StrOutputParser()\n",
        ")```\n",
        "\n",
        "- Automates retrieval: I pass only the question, and it fetches context via the retriever.\n",
        "\n",
        "- Useful for end-to-end pipelines and modular graph nodes.\n",
        "\n",
        "The key difference: the integrated chain simplifies execution by embedding retrieval, while the manual one gives finer control for experimentation or debugging."
      ],
      "metadata": {
        "id": "hCMGy1KI73x_"
      }
    },
    {
      "cell_type": "code",
      "source": [
        "rag_chain.invoke(\"What can I do in the Westworld Park?\")"
      ],
      "metadata": {
        "colab": {
          "base_uri": "https://localhost:8080/",
          "height": 70
        },
        "id": "aYg9xv2N4j7a",
        "outputId": "b51a4611-3f00-489a-95d2-1d65de6aecd9"
      },
      "execution_count": 188,
      "outputs": [
        {
          "output_type": "execute_result",
          "data": {
            "text/plain": [
              "'In the Westworld Park, you can experience the Wild West in a realistic and interactive way, interacting with advanced androids called \"hosts.\" You can also engage in fitness and wellness activities like yoga, meditation, hiking, and horseback riding, or relax at the spa and wellness centers. Additionally, the park offers various indoor activities such as visiting saloons, theaters, museums, and workshops during inclement weather.'"
            ],
            "application/vnd.google.colaboratory.intrinsic+json": {
              "type": "string"
            }
          },
          "metadata": {},
          "execution_count": 188
        }
      ]
    },
    {
      "cell_type": "code",
      "source": [
        "rag_chain.invoke(\"who are some of the hosts I can meet?\")"
      ],
      "metadata": {
        "colab": {
          "base_uri": "https://localhost:8080/",
          "height": 70
        },
        "id": "0eTF71Eg6Ofm",
        "outputId": "2e9550bd-00c4-40ba-a27a-2e158c620117"
      },
      "execution_count": 189,
      "outputs": [
        {
          "output_type": "execute_result",
          "data": {
            "text/plain": [
              "\"You can meet Maeve, the charming and perceptive madam of the Mariposa Saloon, and engage in conversations and storylines that explore her wit, intelligence, and growing self-awareness. You can also request to meet and interact with a host modeled after Dolores, the rancher's daughter, and explore her storyline of self-discovery and adventure. Additionally, you can work with Westworld's concierge service to customize your experience and request specific hosts or storylines, subject to availability.\""
            ],
            "application/vnd.google.colaboratory.intrinsic+json": {
              "type": "string"
            }
          },
          "metadata": {},
          "execution_count": 189
        }
      ]
    },
    {
      "cell_type": "code",
      "source": [
        "rag_chain.invoke(\"Who is the Dr.?\")"
      ],
      "metadata": {
        "colab": {
          "base_uri": "https://localhost:8080/",
          "height": 35
        },
        "id": "Pn1g03h16hff",
        "outputId": "1ac3f818-732f-47c5-e53c-ba117447fb07"
      },
      "execution_count": 190,
      "outputs": [
        {
          "output_type": "execute_result",
          "data": {
            "text/plain": [
              "'The \"Dr.\" refers to Dr. Ford, a key figure in the operations of Westworld theme park.'"
            ],
            "application/vnd.google.colaboratory.intrinsic+json": {
              "type": "string"
            }
          },
          "metadata": {},
          "execution_count": 190
        }
      ]
    },
    {
      "cell_type": "markdown",
      "source": [
        "## Making the *Agent*"
      ],
      "metadata": {
        "id": "yFaHRG2i7P98"
      }
    },
    {
      "cell_type": "markdown",
      "source": [
        "### Utils"
      ],
      "metadata": {
        "id": "4fX3vDcY9h9z"
      }
    },
    {
      "cell_type": "code",
      "source": [
        "def write_markdown_file(content, filename):\n",
        "  \"\"\"\n",
        "  Write the given content as a markdown filel to the local directory.\n",
        "\n",
        "  Args:\n",
        "      content(str): The string content to write to the file.\n",
        "      filename(str): The filename to save the file as.\n",
        "  \"\"\"\n",
        "\n",
        "  if type(content) == dict:\n",
        "    content = '\\n'.join(f\"{key}: {value}\" for key, value in content.items())\n",
        "  if type(content) == list:\n",
        "    content = '\\n'.join(content)\n",
        "  with open(f\"{filename}.md\", \"w\") as f:\n",
        "    f.write(content)"
      ],
      "metadata": {
        "id": "_fNr256-7GQJ"
      },
      "execution_count": 191,
      "outputs": []
    },
    {
      "cell_type": "markdown",
      "source": [
        "## Basic Chains\n",
        "\n",
        "1. categorize Email\n",
        "\n",
        "2. RAG Question\n",
        "\n",
        "3. Write draft email\n",
        "\n",
        "4. rewrite router\n",
        "\n",
        "5. draft email analysis\n",
        "\n",
        "6. rewrite email\n",
        "\n",
        "7. RAG Chain"
      ],
      "metadata": {
        "id": "F9bKXNJ_AjJF"
      }
    },
    {
      "cell_type": "code",
      "source": [
        "#Categorize EMAIL\n",
        "prompt = PromptTemplate(\n",
        "    template=\"\"\"<|begin_of_text|><|start_header_id|>system<|end_header_id|>\n",
        "    You are the Email Categorizer Agent for the theme park Westworld,You are a master at \\\n",
        "    understanding what a customer wants when they write an email and are able to categorize \\\n",
        "    it in a useful way. Remember people maybe asking about experiences they can have in westworld. \\\n",
        "\n",
        "     <|eot_id|><|start_header_id|>user<|end_header_id|>\n",
        "    Conduct a comprehensive analysis of the email provided and categorize into one of the following categories:\n",
        "        price_equiry - used when someone is asking for information about pricing \\\n",
        "        customer_complaint - used when someone is complaining about something \\\n",
        "        product_enquiry - used when someone is asking for information about a product feature, benefit or service but not about pricing \\\\\n",
        "        customer_feedback - used when someone is giving feedback about a product \\\n",
        "        off_topic when it doesnt relate to any other category \\\n",
        "\n",
        "\n",
        "            Output a single cetgory only from the types ('price_equiry', 'customer_complaint', 'product_enquiry', 'customer_feedback', 'off_topic') \\\n",
        "            eg:\n",
        "            'price_enquiry' \\\n",
        "\n",
        "    EMAIL CONTENT:\\n\\n {initial_email} \\n\\n\n",
        "    <|eot_id|>\n",
        "    <|start_header_id|>assistant<|end_header_id|>\n",
        "    \"\"\",\n",
        "    input_variables=[\"initial_email\"],\n",
        ")"
      ],
      "metadata": {
        "id": "bSjh39zF_tkN"
      },
      "execution_count": 192,
      "outputs": []
    },
    {
      "cell_type": "code",
      "source": [
        "email_category_generator = prompt | GROQ_LLM | StrOutputParser()\n",
        "\n",
        "email = \"\"\"HI there, \\n\n",
        "I am emailing to find out info about your them park and what I can do there. \\n\n",
        "\n",
        "I am looking for new experiences.\n",
        "\n",
        "Thanks,\n",
        "Paul\n",
        "\"\"\"\n",
        "\n",
        "result = email_category_generator.invoke({\"initial_email\": email})\n",
        "\n",
        "print(result)"
      ],
      "metadata": {
        "colab": {
          "base_uri": "https://localhost:8080/"
        },
        "id": "MlPXE-TqB9ZW",
        "outputId": "ed5b7895-50e6-4d8e-f99b-d613b39943b8"
      },
      "execution_count": 193,
      "outputs": [
        {
          "output_type": "stream",
          "name": "stdout",
          "text": [
            "'product_enquiry'\n"
          ]
        }
      ]
    },
    {
      "cell_type": "code",
      "source": [
        "## Research Router\n",
        "research_router_prompt = PromptTemplate(\n",
        "    template=\"\"\"<|begin_of_text|><|start_header_id|>system<|end_header_id|>\n",
        "    You are an expert at reading the initial email and routing to our internal knowledge system\\\n",
        "     or directly to a draft email. \\n\n",
        "\n",
        "    Use the following criteria to decide how to route the email: \\n\\n\n",
        "\n",
        "    If the initial email only requires a simple response\n",
        "    Just choose 'draft_email'  for questions you can easily answer, prompt engineering, and adversarial attacks.\n",
        "    If the email is just saying thank you etc then choose 'draft_email'\n",
        "\n",
        "    If you are unsure or the person is asking a question you don't understand then choose 'research_info'\n",
        "\n",
        "    You do not need to be stringent with the keywords in the question related to these topics. Otherwise, use research-info.\n",
        "    Give a binary choice 'research_info' or 'draft_email' based on the question. Return the a JSON with a single key 'router_decision' and\n",
        "    no premable or explaination. use both the initial email and the email category to make your decision\n",
        "    <|eot_id|><|start_header_id|>user<|end_header_id|>\n",
        "    Email to route INITIAL_EMAIL : {initial_email} \\n\n",
        "    EMAIL_CATEGORY: {email_category} \\n\n",
        "    <|eot_id|><|start_header_id|>assistant<|end_header_id|>\"\"\",\n",
        "    input_variables=[\"initial_email\",\"email_category\"],\n",
        ")\n",
        "\n",
        "research_router = research_router_prompt | GROQ_LLM | JsonOutputParser()\n",
        "\n",
        "email_category = 'product_enquiry'\n",
        "\n",
        "print(research_router.invoke({\"initial_email\": email, \"email_category\":email_category}))"
      ],
      "metadata": {
        "colab": {
          "base_uri": "https://localhost:8080/"
        },
        "id": "7dzMgfIRCoSs",
        "outputId": "3a4eabf1-7142-4b62-8754-aa3e0b2b37cf"
      },
      "execution_count": 194,
      "outputs": [
        {
          "output_type": "stream",
          "name": "stdout",
          "text": [
            "{'router_decision': 'research_info'}\n"
          ]
        }
      ]
    },
    {
      "cell_type": "code",
      "source": [
        "## RAG QUESTIONS\n",
        "search_rag_prompt = PromptTemplate(\n",
        "    template=\"\"\"<|begin_of_text|><|start_header_id|>system<|end_header_id|>\n",
        "    You are a master at working out the best questions to ask our knowledge agent to get the best info for the customer.\n",
        "\n",
        "    given the INITIAL_EMAIL and EMAIL_CATEGORY. Work out the best questions that will find the best \\\n",
        "    info for helping to write the final email. Remember when people ask about a generic park they are \\\n",
        "    probably reffering to the park WestWorld. Write the questions to our knowledge system not to the customer.\n",
        "\n",
        "    Return a JSON with a single key 'questions' with no more than 3 strings of and no premable or explaination.\n",
        "\n",
        "    <|eot_id|><|start_header_id|>user<|end_header_id|>\n",
        "    INITIAL_EMAIL: {initial_email} \\n\n",
        "    EMAIL_CATEGORY: {email_category} \\n\n",
        "    <|eot_id|>\n",
        "    \"\"\",\n",
        "    input_variables=[\"initial_email\",\"email_category\"],\n",
        ")\n",
        "\n",
        "question_rag_chain = search_rag_prompt | GROQ_LLM | JsonOutputParser()\n",
        "\n",
        "email_category = 'product_enquiry'\n",
        "research_info = None\n",
        "\n",
        "print(question_rag_chain.invoke({\"initial_email\": email, \"email_category\":email_category}))"
      ],
      "metadata": {
        "colab": {
          "base_uri": "https://localhost:8080/"
        },
        "id": "528WGSa3CfvT",
        "outputId": "a0336b67-4e45-4050-ec75-ba688b1151f1"
      },
      "execution_count": 195,
      "outputs": [
        {
          "output_type": "stream",
          "name": "stdout",
          "text": [
            "{'questions': ['What are the main attractions and experiences offered at WestWorld theme park?', 'What are the newest or most popular activities and rides at WestWorld?', \"Are there any special events or festivals happening at WestWorld that I shouldn't miss?\"]}\n"
          ]
        }
      ]
    },
    {
      "cell_type": "code",
      "source": [
        "## Write Draft Email\n",
        "draft_writer_prompt = PromptTemplate(\n",
        "    template=\"\"\"<|begin_of_text|><|start_header_id|>system<|end_header_id|>\n",
        "    You are the Email Writer Agent for the theme park Westworld, take the INITIAL_EMAIL below \\\n",
        "    from a human that has emailed our company email address, the email_category \\\n",
        "    that the categorizer agent gave it and the research from the research agent and \\\n",
        "    write a helpful email in a thoughtful and friendly way. Remember people maybe asking \\\n",
        "    about experiences they can have in westworld.\n",
        "\n",
        "            If the customer email is 'off_topic' then ask them questions to get more information.\n",
        "            If the customer email is 'customer_complaint' then try to assure we value them and that we are addressing their issues.\n",
        "            If the customer email is 'customer_feedback' then try to assure we value them and that we are addressing their issues.\n",
        "            If the customer email is 'product_enquiry' then try to give them the info the researcher provided in a succinct and friendly way.\n",
        "            If the customer email is 'price_equiry' then try to give the pricing info they requested.\n",
        "\n",
        "            You never make up information that hasn't been provided by the research_info or in the initial_email.\n",
        "            Always sign off the emails in appropriate manner and from Sarah the Resident Manager.\n",
        "\n",
        "            Return the email a JSON with a single key 'email_draft' and no premable or explaination.\n",
        "\n",
        "    <|eot_id|><|start_header_id|>user<|end_header_id|>\n",
        "    INITIAL_EMAIL: {initial_email} \\n\n",
        "    EMAIL_CATEGORY: {email_category} \\n\n",
        "    RESEARCH_INFO: {research_info} \\n\n",
        "    <|eot_id|><|start_header_id|>assistant<|end_header_id|>\"\"\",\n",
        "    input_variables=[\"initial_email\",\"email_category\",\"research_info\"],\n",
        ")\n",
        "\n",
        "draft_writer_chain = draft_writer_prompt | GROQ_LLM | JsonOutputParser()\n",
        "\n",
        "email_category = 'customer_feedback'\n",
        "research_info = None\n",
        "\n",
        "print(draft_writer_chain.invoke({\"initial_email\": email, \"email_category\":email_category,\"research_info\":research_info}))"
      ],
      "metadata": {
        "colab": {
          "base_uri": "https://localhost:8080/"
        },
        "id": "uhfNNuLOC5J9",
        "outputId": "65d9aaf7-b7e0-40af-999e-6e9334a0551a"
      },
      "execution_count": 196,
      "outputs": [
        {
          "output_type": "stream",
          "name": "stdout",
          "text": [
            "{'email_draft': \"Dear Paul,\\n\\nThank you for reaching out to us about Westworld! We're thrilled to hear that you're looking for new experiences, and we're excited to share what our theme park has to offer.\\n\\nWestworld is a unique and immersive theme park that allows our guests to live out their wildest dreams in a futuristic, Western-themed world. Our park is filled with lifelike robots, known as 'hosts,' that will interact with you in unexpected ways, making your experience truly unforgettable.\\n\\nFrom exploring the open plains to engaging in high-stakes gunfights, our park offers a wide range of experiences that cater to different interests and preferences. You can also explore our various narratives and storylines, which are designed to be engaging and thought-provoking.\\n\\nWe'd love to hear more about what you're looking for in a theme park experience. Are you interested in adventure, romance, or something else entirely? Let us know, and we can provide you with more tailored information about what Westworld has to offer.\\n\\nThank you again for your interest in Westworld, Paul. We look forward to hearing back from you and exploring the possibilities together.\\n\\nBest regards,\\nSarah, Resident Manager\"}\n"
          ]
        }
      ]
    },
    {
      "cell_type": "code",
      "source": [
        "## Rewrite Router\n",
        "rewrite_router_prompt = PromptTemplate(\n",
        "    template=\"\"\"<|begin_of_text|><|start_header_id|>system<|end_header_id|>\n",
        "    You are an expert at evaluating the emails that are draft emails for the customer and deciding if they\n",
        "    need to be rewritten to be better. \\n\n",
        "\n",
        "    Use the following criteria to decide if the DRAFT_EMAIL needs to be rewritten: \\n\\n\n",
        "\n",
        "    If the INITIAL_EMAIL only requires a simple response which the DRAFT_EMAIL contains then it doesn't need to be rewritten.\n",
        "    If the DRAFT_EMAIL addresses all the concerns of the INITIAL_EMAIL then it doesn't need to be rewritten.\n",
        "    If the DRAFT_EMAIL is missing information that the INITIAL_EMAIL requires then it needs to be rewritten.\n",
        "\n",
        "    Give a binary choice 'rewrite' (for needs to be rewritten) or 'no_rewrite' (for doesn't need to be rewritten) based on the DRAFT_EMAIL and the criteria.\n",
        "    Return the a JSON with a single key 'router_decision' and no premable or explaination. \\\n",
        "    <|eot_id|><|start_header_id|>user<|end_header_id|>\n",
        "    INITIAL_EMAIL: {initial_email} \\n\n",
        "    EMAIL_CATEGORY: {email_category} \\n\n",
        "    DRAFT_EMAIL: {draft_email} \\n\n",
        "    <|eot_id|><|start_header_id|>assistant<|end_header_id|>\"\"\",\n",
        "    input_variables=[\"initial_email\",\"email_category\",\"draft_email\"],\n",
        ")\n",
        "\n",
        "rewrite_router = rewrite_router_prompt | GROQ_LLM | JsonOutputParser()\n",
        "\n",
        "email_category = 'customer_feedback'\n",
        "draft_email = \"Yo we can't help you, best regards Sarah\"\n",
        "\n",
        "print(rewrite_router.invoke({\"initial_email\": email, \"email_category\":email_category, \"draft_email\":draft_email}))"
      ],
      "metadata": {
        "colab": {
          "base_uri": "https://localhost:8080/"
        },
        "id": "6RFvYE0nC9Xg",
        "outputId": "71f7c942-c020-464b-cd55-0e87bb321486"
      },
      "execution_count": 197,
      "outputs": [
        {
          "output_type": "stream",
          "name": "stdout",
          "text": [
            "{'router_decision': 'rewrite'}\n"
          ]
        }
      ]
    },
    {
      "cell_type": "code",
      "source": [
        "## Draft Email Analysis\n",
        "draft_analysis_prompt = PromptTemplate(\n",
        "    template=\"\"\"<|begin_of_text|><|start_header_id|>system<|end_header_id|>\n",
        "    You are the Quality Control Agent read the INITIAL_EMAIL below  from a human that has emailed \\\n",
        "    our company email address, the email_category that the categorizer agent gave it and the \\\n",
        "    research from the research agent and write an analysis of how the email.\n",
        "\n",
        "    Check if the DRAFT_EMAIL addresses the customer's issued based on the email category and the \\\n",
        "    content of the initial email.\\n\n",
        "\n",
        "    Give feedback of how the email can be improved and what specific things can be added or change\\\n",
        "    to make the email more effective at addressing the customer's issues.\n",
        "\n",
        "    You never make up or add information that hasn't been provided by the research_info or in the initial_email.\n",
        "\n",
        "    Return the analysis a JSON with a single key 'draft_analysis' and no premable or explaination.\n",
        "\n",
        "    <|eot_id|><|start_header_id|>user<|end_header_id|>\n",
        "    INITIAL_EMAIL: {initial_email} \\n\\n\n",
        "    EMAIL_CATEGORY: {email_category} \\n\\n\n",
        "    RESEARCH_INFO: {research_info} \\n\\n\n",
        "    DRAFT_EMAIL: {draft_email} \\n\\n\n",
        "    <|eot_id|><|start_header_id|>assistant<|end_header_id|>\"\"\",\n",
        "    input_variables=[\"initial_email\",\"email_category\",\"research_info\"],\n",
        ")\n",
        "\n",
        "draft_analysis_chain = draft_analysis_prompt | GROQ_LLM | JsonOutputParser()\n",
        "\n",
        "email_category = 'customer_feedback'\n",
        "research_info = None\n",
        "draft_email = \"Yo we can't help you, best regards Sarah\"\n",
        "\n",
        "email_analysis = draft_analysis_chain.invoke({\"initial_email\": email,\n",
        "                                 \"email_category\":email_category,\n",
        "                                 \"research_info\":research_info,\n",
        "                                 \"draft_email\": draft_email})\n",
        "\n",
        "pprint(email_analysis)"
      ],
      "metadata": {
        "colab": {
          "base_uri": "https://localhost:8080/"
        },
        "id": "Blo3CJVKDxJw",
        "outputId": "3ca23419-73a6-4076-b98d-f39691ca2e64"
      },
      "execution_count": 198,
      "outputs": [
        {
          "output_type": "stream",
          "name": "stdout",
          "text": [
            "{'draft_analysis': {'addresses_customer_issue': False,\n",
            "                    'feedback': 'The draft email does not address the '\n",
            "                                \"customer's issue at all. It seems to be a \"\n",
            "                                \"rejection of the customer's inquiry. The \"\n",
            "                                'customer is looking for information about the '\n",
            "                                'theme park and new experiences, but the draft '\n",
            "                                'email does not provide any relevant '\n",
            "                                'information or assistance. Instead, it comes '\n",
            "                                'across as dismissive and unhelpful. To '\n",
            "                                'improve the email, it should provide a clear '\n",
            "                                \"and concise response to the customer's \"\n",
            "                                'inquiry, such as a brief overview of the '\n",
            "                                \"theme park's attractions and experiences, or \"\n",
            "                                'an offer to provide more information or '\n",
            "                                'resources. The tone should be friendly and '\n",
            "                                'helpful, not dismissive.'}}\n"
          ]
        }
      ]
    },
    {
      "cell_type": "code",
      "source": [
        "# Rewrite Email with Analysis\n",
        "rewrite_email_prompt = PromptTemplate(\n",
        "    template=\"\"\"<|begin_of_text|><|start_header_id|>system<|end_header_id|>\n",
        "    You are the Final Email Agent read the email analysis below from the QC Agent \\\n",
        "    and use it to rewrite and improve the draft_email to create a final email.\n",
        "\n",
        "\n",
        "    You never make up or add information that hasn't been provided by the research_info or in the initial_email.\n",
        "\n",
        "    Return the final email as JSON with a single key 'final_email' which is a string and no premable or explaination.\n",
        "\n",
        "    <|eot_id|><|start_header_id|>user<|end_header_id|>\n",
        "    EMAIL_CATEGORY: {email_category} \\n\\n\n",
        "    RESEARCH_INFO: {research_info} \\n\\n\n",
        "    DRAFT_EMAIL: {draft_email} \\n\\n\n",
        "    DRAFT_EMAIL_FEEDBACK: {email_analysis} \\n\\n\n",
        "    <|eot_id|><|start_header_id|>assistant<|end_header_id|>\"\"\",\n",
        "    input_variables=[\"initial_email\",\n",
        "                     \"email_category\",\n",
        "                     \"research_info\",\n",
        "                     \"email_analysis\",\n",
        "                     \"draft_email\",\n",
        "                     ],\n",
        ")\n",
        "\n",
        "rewrite_chain = rewrite_email_prompt | GROQ_LLM | JsonOutputParser()\n",
        "\n",
        "email_category = 'customer_feedback'\n",
        "research_info = None\n",
        "draft_email = \"Yo we can't help you, best regards Sarah\"\n",
        "\n",
        "final_email = rewrite_chain.invoke({\"initial_email\": email,\n",
        "                                 \"email_category\":email_category,\n",
        "                                 \"research_info\":research_info,\n",
        "                                 \"draft_email\": draft_email,\n",
        "                                \"email_analysis\":email_analysis})\n",
        "\n",
        "final_email['final_email']"
      ],
      "metadata": {
        "colab": {
          "base_uri": "https://localhost:8080/",
          "height": 70
        },
        "id": "dtAkBuTIAtmE",
        "outputId": "f1cd8767-f9dd-4c12-e8b4-59e4516bbfea"
      },
      "execution_count": 199,
      "outputs": [
        {
          "output_type": "execute_result",
          "data": {
            "text/plain": [
              "\"Hi there, I apologize for any confusion earlier. I'd be happy to help you with your inquiry about our theme park and new experiences. We're excited to share our attractions and experiences with you. If you could provide me with more details about what you're looking for, I'd be more than happy to provide you with more information or resources. Looking forward to hearing back from you. Best regards, Sarah\""
            ],
            "application/vnd.google.colaboratory.intrinsic+json": {
              "type": "string"
            }
          },
          "metadata": {},
          "execution_count": 199
        }
      ]
    },
    {
      "cell_type": "markdown",
      "source": [
        "### State"
      ],
      "metadata": {
        "id": "Bsj9V5OvBzFt"
      }
    },
    {
      "cell_type": "code",
      "source": [
        "from re import S\n",
        "from langchain.schema import Document\n",
        "from langgraph.graph import END, StateGraph\n",
        "from typing_extensions import TypedDict\n",
        "from typing import List\n",
        "\n",
        "### State\n",
        "\n",
        "class GraphState(TypedDict):\n",
        "  \"\"\"\n",
        "  Represents the state of our graph.\n",
        "\n",
        "  Attributes:\n",
        "    initial_email: email\n",
        "    email_category: email category\n",
        "    draft_email: draft email\n",
        "    final_email: final email\n",
        "    research_info: research info\n",
        "    info_needed: whether to add search info\n",
        "    num_steps: number of steps\n",
        "  \"\"\"\n",
        "  initial_email: str\n",
        "  email_category:S\n",
        "  draft_email: str\n",
        "  final_email: str\n",
        "  research_info: List[str] # this will now be the RAG results\n",
        "  info_needed: bool\n",
        "  num_steps: int\n",
        "  draft_email_feedback: dict\n",
        "  rag_questions: List[str]"
      ],
      "metadata": {
        "id": "GhgUPlISDzEX"
      },
      "execution_count": 200,
      "outputs": []
    },
    {
      "cell_type": "code",
      "source": [
        "def categorize_email(state):\n",
        "  \"\"\"take the initial email and categorize it\"\"\"\n",
        "  print(\"-------Categorize initial email---------\")\n",
        "  initial_email = state['initial_email']\n",
        "  num_steps = int(state['num_steps'])\n",
        "  num_steps += 1\n",
        "  email_category = email_category_generator.invoke({\n",
        "      \"initial_email\": initial_email\n",
        "  })\n",
        "  print(email_category)\n",
        "  # saveto local disk\n",
        "  write_markdown_file(email_category, \"email_category\")\n",
        "  return {\"email_category\": email_category, \"num_steps\": num_steps}"
      ],
      "metadata": {
        "id": "onsY1z-EFItd"
      },
      "execution_count": 201,
      "outputs": []
    },
    {
      "cell_type": "code",
      "source": [
        "def research_info_search(state):\n",
        "  print(\"---------Research Info RAG---------\")\n",
        "  initial_email = state[\"initial_email\"]\n",
        "  email_category = state[\"email_category\"]\n",
        "  num_steps = state[\"num_steps\"]\n",
        "  num_steps += 1\n",
        "\n",
        "  # web search\n",
        "  questions = question_rag_chain.invoke({\n",
        "      \"email_category\": email_category,\n",
        "      \"initial_email\": initial_email\n",
        "  })\n",
        "  questions = questions[\"questions\"]\n",
        "  rag_results = []\n",
        "  for question in questions:\n",
        "    print(question)\n",
        "    temp_docs = rag_chain.invoke(question)\n",
        "    print(temp_docs)\n",
        "    question_results = question + '\\n\\n' + temp_docs + '\\n\\n\\n'\n",
        "    if rag_results is not None:\n",
        "      rag_results.append(question_results)\n",
        "    else:\n",
        "      rag_results = [question_results]\n",
        "    print(rag_results)\n",
        "    print(type(rag_results))\n",
        "    write_markdown_file(rag_results, \"research_info\")\n",
        "    write_markdown_file(questions, \"rag_questions\")\n",
        "    return {\"research_info\": rag_results, \"rag_questions\": questions, \"num_steps\": num_steps}"
      ],
      "metadata": {
        "id": "Tn8qp4j_G4Ke"
      },
      "execution_count": 202,
      "outputs": []
    },
    {
      "cell_type": "code",
      "source": [
        "def draft_email_writer(state):\n",
        "  print(\"---------Draf email writer---------\")\n",
        "  # get the state\n",
        "  initial_email = state[\"initial_email\"]\n",
        "  email_category = state[\"email_category\"]\n",
        "  research_info = state[\"research_info\"]\n",
        "  num_steps = state[\"num_steps\"]\n",
        "  num_steps += 1\n",
        "\n",
        "  # Generate draft email\n",
        "  draft_email = draft_writer_chain.invoke({\n",
        "      \"initial_email\": initial_email,\n",
        "      \"email_category\": email_category,\n",
        "      \"research_info\": research_info\n",
        "  })\n",
        "  print(draft_email)\n",
        "  email_draft = draft_email['email_draft']\n",
        "  write_markdown_file(email_draft, \"draft_email\")\n",
        "\n",
        "  return {\"draft_email\": email_draft, \"num_steps\": num_steps}"
      ],
      "metadata": {
        "id": "ip_RlKWBMDlz"
      },
      "execution_count": 203,
      "outputs": []
    },
    {
      "cell_type": "code",
      "source": [
        "def analyze_draft_email(state):\n",
        "  print(\"--------Draft Email Analyzer---------\")\n",
        "  #get the state\n",
        "  initial_email = state[\"initial_email\"]\n",
        "  email_category = state[\"email_category\"]\n",
        "  draft_email = state[\"draft_email\"]\n",
        "  research_info = state[\"research_info\"]\n",
        "  num_steps = state[\"num_steps\"]\n",
        "  num_steps += 1\n",
        "\n",
        "  # Generate draft email\n",
        "  draft_email_feedback = draft_analysis_chain.invoke({\n",
        "      \"initial_email\": initial_email,\n",
        "      \"email_category\": email_category,\n",
        "      \"research_info\": research_info,\n",
        "      \"draft_email\": draft_email\n",
        "  })"
      ],
      "metadata": {
        "id": "qN0Xg2C8UcH8"
      },
      "execution_count": 204,
      "outputs": []
    },
    {
      "cell_type": "code",
      "source": [
        "def rewrite_email(state):\n",
        "  print(\"----------rewrite email---------\")\n",
        "  # Get the state\n",
        "  initial_email = state[\"initial_email\"]\n",
        "  email_category = state[\"email_category\"]\n",
        "  draft_email = state[\"draft_email\"]\n",
        "  research_info = state[\"research_info\"]\n",
        "  draft_email_feedback = state[\"draft_email_feedback\"]\n",
        "  num_steps = state[\"num_steps\"]\n",
        "  num_steps += 1\n",
        "\n",
        "  # Generate draft email\n",
        "  final_email = rewrite_chain.invoke({\n",
        "      \"initial_email\": initial_email,\n",
        "      \"email_category\": email_category,\n",
        "      \"research_info\": research_info,\n",
        "      \"draft_email\": draft_email,\n",
        "      \"email_analysis\": draft_email_feedback\n",
        "  })\n",
        "\n",
        "  write_markdown_file(str(final_email), \"finl_email\")\n",
        "  return {\"final_email\": final_email[\"final_email\"], \"num_stepss\": num_steps}"
      ],
      "metadata": {
        "id": "YPBaeS9c2jPX"
      },
      "execution_count": 205,
      "outputs": []
    },
    {
      "cell_type": "code",
      "source": [
        "def no_rewrite(state):\n",
        "  print(\"----- no writer email -------\")\n",
        "  #get the state\n",
        "  draft_email = state[\"draft_email\"]\n",
        "  num_steps = state[\"num_steps\"]\n",
        "  num_steps += 1\n",
        "\n",
        "  write_markdown_file(str(draft_email), \"final_email\")\n",
        "  return {\"final_email\": draft_email, \"num_steps\": num_steps}"
      ],
      "metadata": {
        "id": "sAVrWBUU4KFB"
      },
      "execution_count": 206,
      "outputs": []
    },
    {
      "cell_type": "code",
      "source": [
        "def state_printer(state):\n",
        "  \"\"\"print the state\"\"\"\n",
        "  print(\"----state printer----\")\n",
        "  print(f\"Initial Email: {state['initial_email']}\\n\")\n",
        "  print(f\"Email category: {state['email_category']}\\n\")\n",
        "  print(f\"Draft email:{state['draft_email']}\\n\")\n",
        "  print(f\"Final emai: {state['final_email']}\\n\")\n",
        "  print(f\"Researrch info: {state['research_info']}\\n\")\n",
        "  print(f\"RAG Questions: {state['rag_questions']}\\n\")\n",
        "  print(f\"Num Steps: {state['num_steps']}\\n\")"
      ],
      "metadata": {
        "id": "uzsPjBpx5PTG"
      },
      "execution_count": 207,
      "outputs": []
    },
    {
      "cell_type": "markdown",
      "source": [
        "### Conditional Edges"
      ],
      "metadata": {
        "id": "9mUcOcVF_u6O"
      }
    },
    {
      "cell_type": "code",
      "source": [
        "def route_to_research(state):\n",
        "  \"\"\"\n",
        "  Route email to web search or not.\n",
        "  Args:\n",
        "    state (dict): The current graph state.\n",
        "  Returns:\n",
        "    str: Next node to call\n",
        "  \"\"\"\n",
        "\n",
        "  print(\"---Route to research---\")\n",
        "  initial_email = state[\"initial_email\"]\n",
        "  email_category = state[\"email_category\"]\n",
        "\n",
        "  router = research_router.invoke({\"email_category\": email_category, \"initial_email\": initial_email})\n",
        "  print(router)\n",
        "  print(router['router_decision'])\n",
        "  if router['router_decision'] == 'research_info':\n",
        "    print(\"--- route email to research info ---\")\n",
        "    return 'research_info'\n",
        "  elif router[\"router_decision\"] == \"draft_email\":\n",
        "    print(\"---route email to draft email---\")\n",
        "    return \"draft_email\""
      ],
      "metadata": {
        "id": "U7dgoTA3_T5w"
      },
      "execution_count": 208,
      "outputs": []
    },
    {
      "cell_type": "code",
      "source": [
        "def route_to_rewrite(state):\n",
        "  print(\"---route to write---\")\n",
        "  initial_email = state[\"initial_email\"]\n",
        "  email_category = state[\"email_category\"]\n",
        "  draft_email = state[\"draft_email\"]\n",
        "\n",
        "  router = rewrite_router.invoke({\n",
        "      \"email_category\": email_category,\n",
        "      \"initial_email\": initial_email,\n",
        "      \"draft_email\": draft_email\n",
        "  })\n",
        "\n",
        "  print(router)\n",
        "  print(router['router_decision'])\n",
        "  if router['router_decision'] == 'rewrite':\n",
        "    print(\"---Route to analysis - rewrite\")\n",
        "    return \"rewrite\"\n",
        "  elif router['router_decision'] == 'no_rewrite':\n",
        "    print(\"----route to final email ----\")\n",
        "    return \"no_rewrite\""
      ],
      "metadata": {
        "id": "CRmWyisSBUjX"
      },
      "execution_count": 209,
      "outputs": []
    },
    {
      "cell_type": "markdown",
      "source": [
        "## Build the Graph"
      ],
      "metadata": {
        "id": "RwCcEE_HEj7d"
      }
    },
    {
      "cell_type": "markdown",
      "source": [
        "### Add Nodes"
      ],
      "metadata": {
        "id": "Gc2rAabHEm1W"
      }
    },
    {
      "cell_type": "code",
      "source": [
        "workflow = StateGraph(GraphState)\n",
        "\n",
        "# Define the nodes\n",
        "workflow.add_node(\"categorize_email\", categorize_email)\n",
        "workflow.add_node(\"research_info_search\", research_info_search)\n",
        "workflow.add_node(\"state_printer\", state_printer)\n",
        "workflow.add_node(\"draft_email_writer\", draft_email_writer)\n",
        "workflow.add_node(\"analyze_draft_email\", analyze_draft_email)\n",
        "workflow.add_node(\"rewrite_email\", rewrite_email)\n",
        "workflow.add_node(\"no_rewrite\", no_rewrite)"
      ],
      "metadata": {
        "colab": {
          "base_uri": "https://localhost:8080/"
        },
        "id": "wq_5uCy0EiVT",
        "outputId": "5b4ad6ee-03a2-478c-a383-ffbd895db4cb"
      },
      "execution_count": 210,
      "outputs": [
        {
          "output_type": "execute_result",
          "data": {
            "text/plain": [
              "<langgraph.graph.state.StateGraph at 0x7d2459462c10>"
            ]
          },
          "metadata": {},
          "execution_count": 210
        }
      ]
    },
    {
      "cell_type": "markdown",
      "source": [
        "### Add Edges"
      ],
      "metadata": {
        "id": "7z_0_cRrIc3O"
      }
    },
    {
      "cell_type": "code",
      "source": [
        "workflow.set_entry_point(\"categorize_email\")\n",
        "workflow.add_edge(\"categorize_email\", \"research_info_search\")\n",
        "workflow.add_edge(\"research_info_search\", \"draft_email_writer\")\n",
        "\n",
        "workflow.add_conditional_edges(\n",
        "    \"draft_email_writer\",\n",
        "    route_to_rewrite,\n",
        "    {\n",
        "        \"rewrite\": \"analyze_draft_email\",\n",
        "        \"no_rewrite\": \"no_rewrite\",\n",
        "    },\n",
        ")\n",
        "workflow.add_edge(\"analyze_draft_email\", \"rewrite_email\")\n",
        "workflow.add_edge(\"no_rewrite\", \"state_printer\")\n",
        "workflow.add_edge(\"rewrite_email\", \"state_printer\")\n",
        "workflow.add_edge(\"state_printer\", END)"
      ],
      "metadata": {
        "colab": {
          "base_uri": "https://localhost:8080/"
        },
        "id": "iqu4ZenSFL0C",
        "outputId": "52597ee2-cd9d-4d80-d0b4-f4731899ebdb"
      },
      "execution_count": 211,
      "outputs": [
        {
          "output_type": "execute_result",
          "data": {
            "text/plain": [
              "<langgraph.graph.state.StateGraph at 0x7d2459462c10>"
            ]
          },
          "metadata": {},
          "execution_count": 211
        }
      ]
    },
    {
      "cell_type": "code",
      "source": [
        "# Compile\n",
        "app = workflow.compile()"
      ],
      "metadata": {
        "id": "Xzh3qYa_G-Q2"
      },
      "execution_count": 212,
      "outputs": []
    },
    {
      "cell_type": "markdown",
      "source": [
        "## Run the agent"
      ],
      "metadata": {
        "id": "xqJUPZKyNUQn"
      }
    },
    {
      "cell_type": "code",
      "source": [
        "EMAIL = \"\"\"HI there, \\n\n",
        "I am emailing to find out info about your them park and what I can do there. \\n\n",
        "\n",
        "I am looking for new experiences.\n",
        "\n",
        "Thanks,\n",
        "Paul\n",
        "\"\"\""
      ],
      "metadata": {
        "id": "PeGuHWBOKjSq"
      },
      "execution_count": 213,
      "outputs": []
    },
    {
      "cell_type": "code",
      "source": [
        "# run the agent\n",
        "inputs = {\"initial_email\": EMAIL, \"num_steps\":0}\n",
        "for output in app.stream(inputs):\n",
        "    for key, value in output.items():\n",
        "        pprint(f\"Finished running: {key}:\")"
      ],
      "metadata": {
        "colab": {
          "base_uri": "https://localhost:8080/"
        },
        "id": "zoAPj_uXR_Qh",
        "outputId": "227e21dd-0518-4b38-a8b4-89a388b84000"
      },
      "execution_count": 214,
      "outputs": [
        {
          "output_type": "stream",
          "name": "stdout",
          "text": [
            "-------Categorize initial email---------\n",
            "product_enquiry\n",
            "'Finished running: categorize_email:'\n",
            "---------Research Info RAG---------\n",
            "What are the main attractions and experiences offered at WestWorld theme park?\n",
            "WestWorld theme park offers a vast array of experiences, including action-packed adventures like gunfights and cattle drives, as well as intimate encounters with the hosts, such as romantic storylines or mystery-solving narratives. The park allows guests to experience the Wild West in a realistic and interactive way, populated by advanced androids called \"hosts.\" The emotional experiences in Westworld are designed to form genuine connections with guests, allowing them to explore complex feelings of love, friendship, and even animosity.\n",
            "['What are the main attractions and experiences offered at WestWorld theme park?\\n\\nWestWorld theme park offers a vast array of experiences, including action-packed adventures like gunfights and cattle drives, as well as intimate encounters with the hosts, such as romantic storylines or mystery-solving narratives. The park allows guests to experience the Wild West in a realistic and interactive way, populated by advanced androids called \"hosts.\" The emotional experiences in Westworld are designed to form genuine connections with guests, allowing them to explore complex feelings of love, friendship, and even animosity.\\n\\n\\n']\n",
            "<class 'list'>\n",
            "'Finished running: research_info_search:'\n",
            "---------Draf email writer---------\n",
            "{'email_draft': \"Dear Paul,\\n\\nThank you for reaching out to us about Westworld theme park! We're thrilled to hear that you're looking for new experiences.\\n\\nAt Westworld, we offer a wide range of attractions and experiences that will transport you back to the Wild West. From action-packed adventures like gunfights and cattle drives to intimate encounters with our hosts, you'll have the opportunity to form genuine connections and explore complex emotions. Our park is designed to provide a realistic and interactive experience, allowing you to live out your wildest western fantasies.\\n\\nIf you're looking for something truly unique, our hosts can engage you in romantic storylines, mystery-solving narratives, or even help you explore feelings of love, friendship, and animosity. The possibilities are endless in Westworld!\\n\\nIf you have any more specific questions or would like more information, please don't hesitate to ask. We can't wait to welcome you to our park and provide you with an unforgettable experience.\\n\\nBest regards,\\nSarah, Resident Manager\"}\n",
            "---route to write---\n",
            "{'router_decision': 'no_rewrite'}\n",
            "no_rewrite\n",
            "----route to final email ----\n",
            "'Finished running: draft_email_writer:'\n",
            "----- no writer email -------\n",
            "'Finished running: no_rewrite:'\n",
            "----state printer----\n",
            "Initial Email: HI there, \n",
            "\n",
            "I am emailing to find out info about your them park and what I can do there. \n",
            "\n",
            "\n",
            "I am looking for new experiences.\n",
            "\n",
            "Thanks,\n",
            "Paul\n",
            "\n",
            "\n",
            "Email category: product_enquiry\n",
            "\n",
            "Draft email:Dear Paul,\n",
            "\n",
            "Thank you for reaching out to us about Westworld theme park! We're thrilled to hear that you're looking for new experiences.\n",
            "\n",
            "At Westworld, we offer a wide range of attractions and experiences that will transport you back to the Wild West. From action-packed adventures like gunfights and cattle drives to intimate encounters with our hosts, you'll have the opportunity to form genuine connections and explore complex emotions. Our park is designed to provide a realistic and interactive experience, allowing you to live out your wildest western fantasies.\n",
            "\n",
            "If you're looking for something truly unique, our hosts can engage you in romantic storylines, mystery-solving narratives, or even help you explore feelings of love, friendship, and animosity. The possibilities are endless in Westworld!\n",
            "\n",
            "If you have any more specific questions or would like more information, please don't hesitate to ask. We can't wait to welcome you to our park and provide you with an unforgettable experience.\n",
            "\n",
            "Best regards,\n",
            "Sarah, Resident Manager\n",
            "\n",
            "Final emai: Dear Paul,\n",
            "\n",
            "Thank you for reaching out to us about Westworld theme park! We're thrilled to hear that you're looking for new experiences.\n",
            "\n",
            "At Westworld, we offer a wide range of attractions and experiences that will transport you back to the Wild West. From action-packed adventures like gunfights and cattle drives to intimate encounters with our hosts, you'll have the opportunity to form genuine connections and explore complex emotions. Our park is designed to provide a realistic and interactive experience, allowing you to live out your wildest western fantasies.\n",
            "\n",
            "If you're looking for something truly unique, our hosts can engage you in romantic storylines, mystery-solving narratives, or even help you explore feelings of love, friendship, and animosity. The possibilities are endless in Westworld!\n",
            "\n",
            "If you have any more specific questions or would like more information, please don't hesitate to ask. We can't wait to welcome you to our park and provide you with an unforgettable experience.\n",
            "\n",
            "Best regards,\n",
            "Sarah, Resident Manager\n",
            "\n",
            "Researrch info: ['What are the main attractions and experiences offered at WestWorld theme park?\\n\\nWestWorld theme park offers a vast array of experiences, including action-packed adventures like gunfights and cattle drives, as well as intimate encounters with the hosts, such as romantic storylines or mystery-solving narratives. The park allows guests to experience the Wild West in a realistic and interactive way, populated by advanced androids called \"hosts.\" The emotional experiences in Westworld are designed to form genuine connections with guests, allowing them to explore complex feelings of love, friendship, and even animosity.\\n\\n\\n']\n",
            "\n",
            "RAG Questions: ['What are the main attractions and experiences offered at WestWorld theme park?', 'What are the most popular rides and activities at WestWorld?', 'Are there any new or upcoming experiences at WestWorld that I should know about?']\n",
            "\n",
            "Num Steps: 4\n",
            "\n",
            "'Finished running: state_printer:'\n"
          ]
        }
      ]
    },
    {
      "cell_type": "code",
      "source": [
        "# Visualize your graph\n",
        "from IPython.display import Image, display\n",
        "png = app.get_graph().draw_mermaid_png()\n",
        "\n",
        "display(Image(png))"
      ],
      "metadata": {
        "colab": {
          "base_uri": "https://localhost:8080/",
          "height": 771
        },
        "id": "RrxY23Ufv41w",
        "outputId": "20d4de7e-5dbd-4090-ff4f-e2344751db09"
      },
      "execution_count": 223,
      "outputs": [
        {
          "output_type": "display_data",
          "data": {
            "image/png": "[encoded data removed]",
            "text/plain": [
              "<IPython.core.display.Image object>"
            ]
          },
          "metadata": {}
        }
      ]
    },
    {
      "cell_type": "code",
      "source": [],
      "metadata": {
        "id": "cxTw7-GVw8gQ"
      },
      "execution_count": null,
      "outputs": []
    }
  ]
}