{
  "nbformat": 4,
  "nbformat_minor": 0,
  "metadata": {
    "colab": {
      "provenance": [],
      "authorship_tag": "ABX9TyMgRa6QYhrxR0pBJtKun0Re",
      "include_colab_link": true
    },
    "kernelspec": {
      "name": "python3",
      "display_name": "Python 3"
    },
    "language_info": {
      "name": "python"
    }
  },
  "cells": [
    {
      "cell_type": "markdown",
      "metadata": {
        "id": "view-in-github",
        "colab_type": "text"
      },
      "source": [
        "<a href=\"https://colab.research.google.com/github/ramahasiba/NLP/blob/LangChain/Build_an_Agent.ipynb\" target=\"_parent\"><img src=\"https://colab.research.google.com/assets/colab-badge.svg\" alt=\"Open In Colab\"/></a>"
      ]
    },
    {
      "cell_type": "markdown",
      "source": [
        "# [Build an agent](https://python.langchain.com/docs/tutorials/agents/)\n",
        "\n",
        "A system uses LLM as reasoning to determine which actions to take and the input necessary to perform the action."
      ],
      "metadata": {
        "id": "9HdyX0Vrienf"
      }
    },
    {
      "cell_type": "markdown",
      "source": [
        "## Installation"
      ],
      "metadata": {
        "id": "RQLdRI0Y2kMj"
      }
    },
    {
      "cell_type": "code",
      "execution_count": null,
      "metadata": {
        "id": "fjAbbtCveZGt"
      },
      "outputs": [],
      "source": [
        "!pip install -qU \"langchain[groq]\"\n",
        "%pip install -U langgraph langchain-tavily langgraph-checkpoint-sqlite -q"
      ]
    },
    {
      "cell_type": "markdown",
      "source": [
        "## Setup"
      ],
      "metadata": {
        "id": "MgI3uutq2oJv"
      }
    },
    {
      "cell_type": "code",
      "source": [
        "!pip install -q dotenv\n",
        "\n",
        "import os\n",
        "from pprint import pprint\n",
        "from dotenv import load_dotenv\n",
        "import getpass\n",
        "\n",
        "try:\n",
        "  load_dotenv('.env')\n",
        "except ImportError:\n",
        "  print('No .env file found')\n",
        "\n",
        "# Setup LangSmith to be able to inspect what exactly goes inside my chain or agent\n",
        "os.environ[\"LANGSMITH_TRACING\"] = \"true\"\n",
        "if \"LANGSMITH_API_KEY\" not in os.environ:\n",
        "  os.environ[\"LANGSMITH_API_KEY\"] = getpass.getpass(\n",
        "      prompt = \"Enter the Langsmith api key:\"\n",
        "  )\n",
        "\n",
        "if \"LANGSMITH_PROJECT\" not in os.environ:\n",
        "  os.environ[\"LANGSMITH_PROJECT\"] = getpass.getpass(\n",
        "      prompt = \"Enter langsmith project name: \"\n",
        "  )\n",
        "  if not os.environ.get(\"LANGSMITH_PROJECT\"):\n",
        "    os.environ[\"LANGSMITH_PROJECT\"] = \"default\"\n",
        "\n",
        "if \"TAVILY_API_KEY\" not in os.environ:\n",
        "  os.environ[\"TAVILY_API_KEY\"] = getpass.getpass(\n",
        "      prompt = \"Enter the Tavily API key:\"\n",
        "  )\n",
        "os.environ[\"GROQ_API_KEY\"] = os.getenv('GROQ_API_KEY')\n",
        "os.environ[\"HF_TOKEN\"] = os.getenv('HF_TOKEN')"
      ],
      "metadata": {
        "colab": {
          "base_uri": "https://localhost:8080/"
        },
        "id": "QL3L7WJEjSAI",
        "outputId": "0b36924f-7673-427b-84c4-5a4b84463a6a"
      },
      "execution_count": null,
      "outputs": [
        {
          "name": "stdout",
          "output_type": "stream",
          "text": [
            "Enter langsmith project name: ··········\n"
          ]
        }
      ]
    },
    {
      "cell_type": "code",
      "source": [
        "from langchain.chat_models import init_chat_model # Chat model is instance of the runnable interface\n",
        "from langchain_tavily import TavilySearch\n",
        "from langgraph.checkpoint.memory import MemorySaver\n",
        "from langgraph.prebuilt import create_react_agent\n",
        "\n",
        "model_name = \"llama3-70b-8192\"\n",
        "\n",
        "# Create the agent\n",
        "memory = MemorySaver()\n",
        "model=init_chat_model(model_name, model_provider=\"groq\")\n",
        "search = TavilySearch(max_results=2)\n",
        "tools = [search]\n",
        "agent_executor = create_react_agent(model, tools, checkpointer=memory)"
      ],
      "metadata": {
        "id": "6GVbrT2ijTlE"
      },
      "execution_count": null,
      "outputs": []
    },
    {
      "cell_type": "code",
      "source": [
        "# Use the agent\n",
        "config = {\"configurable\": {\"thread_id\": \"abc123\"}}\n",
        "\n",
        "input_message ={\n",
        "    \"role\": \"user\",\n",
        "    \"content\": \"Hi, I am Rama I live in Nablus-Palestine.\"\n",
        "}\n",
        "\n",
        "for step in agent_executor.stream(\n",
        "    {\"messages\": [input_message]}, config, stream_mode=\"values\"\n",
        "):\n",
        "  step[\"messages\"][-1].pretty_print()"
      ],
      "metadata": {
        "id": "izQRZ0eljcOM"
      },
      "execution_count": null,
      "outputs": []
    },
    {
      "cell_type": "code",
      "source": [
        "input_message = {\n",
        "    \"role\": \"user\",\n",
        "    \"content\": \"What's the weather where I live?\"\n",
        "}\n",
        "\n",
        "for step in agent_executor.stream(\n",
        "    {\"messages\": [input_message]}, config, stream_mode=\"values\"\n",
        "):\n",
        "  step[\"messages\"][-1].pretty_print()"
      ],
      "metadata": {
        "id": "nhjlZp-Wk-ln"
      },
      "execution_count": null,
      "outputs": []
    },
    {
      "cell_type": "markdown",
      "source": [
        "## Define tools"
      ],
      "metadata": {
        "id": "e08OKBLPnIEP"
      }
    },
    {
      "cell_type": "code",
      "source": [
        "from langchain_tavily import TavilySearch\n",
        "\n",
        "search = TavilySearch(max_results=2)\n",
        "search_results = search.invoke(\"What is the weather in SF?\")\n",
        "print(search_results)\n",
        "\n",
        "tools = [search]"
      ],
      "metadata": {
        "colab": {
          "base_uri": "https://localhost:8080/"
        },
        "id": "AEhM-vyak-gr",
        "outputId": "dfef5b54-772e-45d2-9a4b-ba15c4ee28f5"
      },
      "execution_count": null,
      "outputs": [
        {
          "output_type": "stream",
          "name": "stdout",
          "text": [
            "{'query': 'What is the weather in SF?', 'follow_up_questions': None, 'answer': None, 'images': [], 'results': [{'title': 'Weather in San Francisco', 'url': 'https://www.weatherapi.com/', 'content': \"{'location': {'name': 'San Francisco', 'region': 'California', 'country': 'United States of America', 'lat': 37.775, 'lon': -122.4183, 'tz_id': 'America/Los_Angeles', 'localtime_epoch': 1751098875, 'localtime': '2025-06-28 01:21'}, 'current': {'last_updated_epoch': 1751098500, 'last_updated': '2025-06-28 01:15', 'temp_c': 13.3, 'temp_f': 55.9, 'is_day': 0, 'condition': {'text': 'Mist', 'icon': '//cdn.weatherapi.com/weather/64x64/night/143.png', 'code': 1030}, 'wind_mph': 7.2, 'wind_kph': 11.5, 'wind_degree': 201, 'wind_dir': 'SSW', 'pressure_mb': 1014.0, 'pressure_in': 29.93, 'precip_mm': 0.0, 'precip_in': 0.0, 'humidity': 90, 'cloud': 25, 'feelslike_c': 12.4, 'feelslike_f': 54.3, 'windchill_c': 10.1, 'windchill_f': 50.1, 'heatindex_c': 11.2, 'heatindex_f': 52.2, 'dewpoint_c': 10.6, 'dewpoint_f': 51.1, 'vis_km': 16.0, 'vis_miles': 9.0, 'uv': 0.0, 'gust_mph': 12.3, 'gust_kph': 19.8}}\", 'score': 0.9507693, 'raw_content': None}, {'title': 'Saturday, June 28, 2025. San Francisco, CA - Weather Forecast', 'url': 'https://weathershogun.com/weather/usa/ca/san-francisco/480/june/2025-06-28', 'content': \"Saturday, June 28, 2025. San Francisco, CA - Weather Forecast  San Francisco, CA Image 1: WeatherShogun.com HomeContactBrowse StatesPrivacy PolicyTerms and Conditions °F)°C) TodayTomorrowHourly7 days30 daysJune San Francisco, California Weather:  Saturday, June 28, 2025 Day 64° Night 54° Precipitation 0 % Wind 12 mph UV Index (0 - 11+)11 Sunday *   Hourly *   Today *   Tomorrow *   7 days *   30 days Weather Forecast History Last Year's Weather on This Day (June 28, 2024) ### Day 72° ### Night 52° Please note that while we strive for accuracy, the information provided may not always be correct. Use at your own risk. © Copyright by WeatherShogun.com\", 'score': 0.93978655, 'raw_content': None}], 'response_time': 1.13}\n"
          ]
        }
      ]
    },
    {
      "cell_type": "code",
      "source": [
        "from langchain.chat_models import init_chat_model\n",
        "\n",
        "model = init_chat_model(\"llama3-70b-8192\", model_provider=\"groq\")"
      ],
      "metadata": {
        "id": "Id-7QrlUoD2r"
      },
      "execution_count": null,
      "outputs": []
    },
    {
      "cell_type": "code",
      "source": [
        "query = \"Hello!\"\n",
        "response = model.invoke([{\n",
        "    \"role\": \"user\",\n",
        "    \"content\": query\n",
        "}])\n",
        "response.text()"
      ],
      "metadata": {
        "colab": {
          "base_uri": "https://localhost:8080/",
          "height": 53
        },
        "id": "u3gXsynroDz3",
        "outputId": "694498e6-df9f-4680-aab7-b81c26bdb1a8"
      },
      "execution_count": null,
      "outputs": [
        {
          "output_type": "execute_result",
          "data": {
            "text/plain": [
              "\"Hello! It's nice to meet you. Is there something I can help you with, or would you like to chat?\""
            ],
            "application/vnd.google.colaboratory.intrinsic+json": {
              "type": "string"
            }
          },
          "metadata": {},
          "execution_count": 11
        }
      ]
    },
    {
      "cell_type": "markdown",
      "source": [
        "using .bind_tools() to enable the model to do tool calling, and to give the model those tools."
      ],
      "metadata": {
        "id": "hriy-fuF_h9i"
      }
    },
    {
      "cell_type": "code",
      "source": [
        "model_with_tools = model.bind_tools(tools)"
      ],
      "metadata": {
        "id": "VwRW1bzEoDpK"
      },
      "execution_count": null,
      "outputs": []
    },
    {
      "cell_type": "markdown",
      "source": [
        "Calling the model with a normal message, and then take a look at both the content field as well as the tool_calls field."
      ],
      "metadata": {
        "id": "WIPIdBPnCAXM"
      }
    },
    {
      "cell_type": "code",
      "source": [
        "query = \"Hi!\"\n",
        "response = model_with_tools.invoke([{\"role\": \"user\", \"content\": query}])\n",
        "\n",
        "print(f\"Message content: {response.text()}\\n\")\n",
        "print(f\"Tool call: {response.tool_calls}\")"
      ],
      "metadata": {
        "colab": {
          "base_uri": "https://localhost:8080/"
        },
        "id": "99WhUECXn9FK",
        "outputId": "45f3dc57-a2ae-4684-b587-f11d0c7fd9d5"
      },
      "execution_count": null,
      "outputs": [
        {
          "output_type": "stream",
          "name": "stdout",
          "text": [
            "Message content: Hi! It's nice to meet you. Is there something I can help you with or would you like to chat?\n",
            "\n",
            "Tool call: []\n"
          ]
        }
      ]
    },
    {
      "cell_type": "markdown",
      "source": [
        "Calling the model with some input that would expect a tool to be called."
      ],
      "metadata": {
        "id": "rbC33bzaBtC8"
      }
    },
    {
      "cell_type": "code",
      "source": [
        "query = \"search for the weather in SF\"\n",
        "\n",
        "response = model_with_tools.invoke([{\n",
        "    \"role\": \"user\",\n",
        "    \"content\": query\n",
        "}])\n",
        "\n",
        "print(f\"Message content: {response.text()}\\n\")\n",
        "print(f\"Tool calls: {response.tool_calls}\")"
      ],
      "metadata": {
        "colab": {
          "base_uri": "https://localhost:8080/"
        },
        "id": "h_mLfnLcsGHE",
        "outputId": "0082a769-f860-4904-b5ec-c64284966fe5"
      },
      "execution_count": null,
      "outputs": [
        {
          "output_type": "stream",
          "name": "stdout",
          "text": [
            "Message content: \n",
            "\n",
            "Tool calls: [{'name': 'tavily_search', 'args': {'query': 'weather in SF', 'search_depth': 'basic'}, 'id': 'qe21nw4v1', 'type': 'tool_call'}]\n"
          ]
        }
      ]
    },
    {
      "cell_type": "markdown",
      "source": [
        "As we can see above, the Message content is empty, and this is because we used (model called) the tool without creating the agent.\n"
      ],
      "metadata": {
        "id": "uHvacJDwCcb7"
      }
    },
    {
      "cell_type": "markdown",
      "source": [
        "## Create the Agent"
      ],
      "metadata": {
        "id": "hPnrRKn2De79"
      }
    },
    {
      "cell_type": "code",
      "source": [
        "from langgraph.prebuilt import create_react_agent\n",
        "\n",
        "agent_executor = create_react_agent(model, tools)"
      ],
      "metadata": {
        "id": "xyMogPvYsPEZ"
      },
      "execution_count": null,
      "outputs": []
    },
    {
      "cell_type": "code",
      "source": [
        "input_message = {\"role\": \"user\", \"content\": \"Hi!\"}\n",
        "response = agent_executor.invoke({\"messages\": [input_message]})\n",
        "\n",
        "for message in response[\"messages\"]:\n",
        "  message.pretty_print()"
      ],
      "metadata": {
        "colab": {
          "base_uri": "https://localhost:8080/"
        },
        "id": "0mssXOpbsPB4",
        "outputId": "7a95fba1-030a-464d-888a-9ab6fdb38f28"
      },
      "execution_count": null,
      "outputs": [
        {
          "output_type": "stream",
          "name": "stdout",
          "text": [
            "================================\u001b[1m Human Message \u001b[0m=================================\n",
            "\n",
            "Hi!\n",
            "==================================\u001b[1m Ai Message \u001b[0m==================================\n",
            "\n",
            "Hi! It's nice to meet you. Is there something I can help you with or would you like to chat?\n"
          ]
        }
      ]
    },
    {
      "cell_type": "code",
      "source": [
        "input_message = {\"role\": \"user\", \"content\": \"Search for the weather in SF\"}\n",
        "response =agent_executor.invoke({\"messages\": [input_message]})\n",
        "\n",
        "for message in response[\"messages\"]:\n",
        "  message.pretty_print()"
      ],
      "metadata": {
        "colab": {
          "base_uri": "https://localhost:8080/"
        },
        "id": "qlFdKV3usO_i",
        "outputId": "fb82817d-c52b-43a0-dbd1-c3c1c2a1b31f"
      },
      "execution_count": null,
      "outputs": [
        {
          "output_type": "stream",
          "name": "stdout",
          "text": [
            "================================\u001b[1m Human Message \u001b[0m=================================\n",
            "\n",
            "Search for the weather in SF\n",
            "==================================\u001b[1m Ai Message \u001b[0m==================================\n",
            "Tool Calls:\n",
            "  tavily_search (5spx39p9g)\n",
            " Call ID: 5spx39p9g\n",
            "  Args:\n",
            "    include_images: False\n",
            "    query: weather in SF\n",
            "    search_depth: basic\n",
            "    topic: general\n",
            "=================================\u001b[1m Tool Message \u001b[0m=================================\n",
            "Name: tavily_search\n",
            "\n",
            "{\"query\": \"weather in SF\", \"follow_up_questions\": null, \"answer\": null, \"images\": [], \"results\": [{\"title\": \"Weather in San Francisco\", \"url\": \"https://www.weatherapi.com/\", \"content\": \"{'location': {'name': 'San Francisco', 'region': 'California', 'country': 'United States of America', 'lat': 37.775, 'lon': -122.4183, 'tz_id': 'America/Los_Angeles', 'localtime_epoch': 1751101627, 'localtime': '2025-06-28 02:07'}, 'current': {'last_updated_epoch': 1751101200, 'last_updated': '2025-06-28 02:00', 'temp_c': 13.3, 'temp_f': 55.9, 'is_day': 0, 'condition': {'text': 'Mist', 'icon': '//cdn.weatherapi.com/weather/64x64/night/143.png', 'code': 1030}, 'wind_mph': 6.5, 'wind_kph': 10.4, 'wind_degree': 198, 'wind_dir': 'SSW', 'pressure_mb': 1014.0, 'pressure_in': 29.93, 'precip_mm': 0.0, 'precip_in': 0.0, 'humidity': 90, 'cloud': 25, 'feelslike_c': 12.5, 'feelslike_f': 54.5, 'windchill_c': 10.0, 'windchill_f': 50.0, 'heatindex_c': 11.1, 'heatindex_f': 51.9, 'dewpoint_c': 10.5, 'dewpoint_f': 50.9, 'vis_km': 16.0, 'vis_miles': 9.0, 'uv': 0.0, 'gust_mph': 11.5, 'gust_kph': 18.5}}\", \"score\": 0.87698, \"raw_content\": null}, {\"title\": \"Weather in San Francisco in June 2025\", \"url\": \"https://world-weather.info/forecast/usa/san_francisco/june-2025/\", \"content\": \"Weather in San Francisco in June 2025 (California) - Detailed Weather Forecast for a Month *   Weather in San Francisco Weather in San Francisco in June 2025 *   1 +63° +55° *   2 +66° +54° *   3 +66° +55° *   4 +66° +54° *   5 +66° +55° *   6 +66° +57° *   7 +64° +55° *   8 +63° +55° *   9 +63° +54° *   10 +59° +54° *   11 +59° +54° *   12 +61° +54° *   13 +63° +54° Weather in Washington, D.C.**+75°** Redwood City**+59°** San Leandro**+57°** San Mateo**+55°** San Rafael**+59°** San Ramon**+55°** South San Francisco**+55°** Pacifica**+52°** Daly City**+54°** world's temperature today Goulburn day+50°F night+23°F Rustaq day+117°F night+93°F Weather forecast on your site Install _San Francisco_ +55° Temperature units\", \"score\": 0.8452414, \"raw_content\": null}], \"response_time\": 2.29}\n",
            "==================================\u001b[1m Ai Message \u001b[0m==================================\n",
            "\n",
            "The weather in San Francisco is currently 13.3°C (55.9°F) with mist.\n"
          ]
        }
      ]
    },
    {
      "cell_type": "code",
      "source": [
        "for step in agent_executor.stream({\"messages\": [input_message]}, stream_mode=\"values\"):\n",
        "  step[\"messages\"][-1].pretty_print()"
      ],
      "metadata": {
        "colab": {
          "base_uri": "https://localhost:8080/"
        },
        "id": "aLCplutcsO9C",
        "outputId": "3213a50a-b176-4300-d862-ff23cd4497ca"
      },
      "execution_count": null,
      "outputs": [
        {
          "output_type": "stream",
          "name": "stdout",
          "text": [
            "================================\u001b[1m Human Message \u001b[0m=================================\n",
            "\n",
            "Search for the weather in SF\n",
            "==================================\u001b[1m Ai Message \u001b[0m==================================\n",
            "Tool Calls:\n",
            "  tavily_search (4qbexpkgx)\n",
            " Call ID: 4qbexpkgx\n",
            "  Args:\n",
            "    query: weather san francisco\n",
            "=================================\u001b[1m Tool Message \u001b[0m=================================\n",
            "Name: tavily_search\n",
            "\n",
            "{\"query\": \"weather san francisco\", \"follow_up_questions\": null, \"answer\": null, \"images\": [], \"results\": [{\"title\": \"Weather in San Francisco, California\", \"url\": \"https://www.weatherapi.com/\", \"content\": \"{'location': {'name': 'San Francisco', 'region': 'California', 'country': 'United States of America', 'lat': 37.775, 'lon': -122.4183, 'tz_id': 'America/Los_Angeles', 'localtime_epoch': 1751101831, 'localtime': '2025-06-28 02:10'}, 'current': {'last_updated_epoch': 1751101200, 'last_updated': '2025-06-28 02:00', 'temp_c': 13.3, 'temp_f': 55.9, 'is_day': 0, 'condition': {'text': 'Mist', 'icon': '//cdn.weatherapi.com/weather/64x64/night/143.png', 'code': 1030}, 'wind_mph': 6.5, 'wind_kph': 10.4, 'wind_degree': 198, 'wind_dir': 'SSW', 'pressure_mb': 1014.0, 'pressure_in': 29.93, 'precip_mm': 0.0, 'precip_in': 0.0, 'humidity': 90, 'cloud': 25, 'feelslike_c': 12.5, 'feelslike_f': 54.5, 'windchill_c': 10.0, 'windchill_f': 50.0, 'heatindex_c': 11.1, 'heatindex_f': 51.9, 'dewpoint_c': 10.5, 'dewpoint_f': 50.9, 'vis_km': 16.0, 'vis_miles': 9.0, 'uv': 0.0, 'gust_mph': 11.5, 'gust_kph': 18.5}}\", \"score\": 0.9662338, \"raw_content\": null}, {\"title\": \"Saturday, June 28, 2025. San Francisco, CA - Weather Forecast\", \"url\": \"https://weathershogun.com/weather/usa/ca/san-francisco/480/june/2025-06-28\", \"content\": \"Saturday, June 28, 2025. San Francisco, CA - Weather Forecast  San Francisco, CA Image 1: WeatherShogun.com HomeContactBrowse StatesPrivacy PolicyTerms and Conditions °F)°C) TodayTomorrowHourly7 days30 daysJune San Francisco, California Weather:  Saturday, June 28, 2025 Day 64° Night 54° Precipitation 0 % Wind 12 mph UV Index (0 - 11+)11 Sunday *   Hourly *   Today *   Tomorrow *   7 days *   30 days Weather Forecast History Last Year's Weather on This Day (June 28, 2024) ### Day 72° ### Night 52° Please note that while we strive for accuracy, the information provided may not always be correct. Use at your own risk. © Copyright by WeatherShogun.com\", \"score\": 0.95132804, \"raw_content\": null}], \"response_time\": 1.98}\n",
            "==================================\u001b[1m Ai Message \u001b[0m==================================\n",
            "\n",
            "The weather in San Francisco is currently 13.3°C (55.9°F) with mist.\n"
          ]
        }
      ]
    },
    {
      "cell_type": "markdown",
      "source": [
        "## Streaming Tokens"
      ],
      "metadata": {
        "id": "U_e2pyuxGeQn"
      }
    },
    {
      "cell_type": "code",
      "source": [
        "for step, metadata in agent_executor.stream({\"messages\": [input_message]}, stream_mode=\"messages\"):\n",
        "  if metadata[\"langgraph_node\"] == \"agent\" and (text := step.text()):\n",
        "    print(text, end=\"|\")\n"
      ],
      "metadata": {
        "colab": {
          "base_uri": "https://localhost:8080/"
        },
        "id": "_8YXMQhCsO6T",
        "outputId": "d22c9a1f-f585-4cb1-892f-94fc731ed8f5"
      },
      "execution_count": null,
      "outputs": [
        {
          "output_type": "stream",
          "name": "stdout",
          "text": [
            "The| weather| in| San| Francisco| is| expected| to| be| mild|,| with| highs| ranging| from| the| |60|s| at| the| coast| to| the| |80|s| inland|.| There| is| a| deep| marine| layer| that| will| keep| the| coast| over|cast| all| day|,| with| afternoon| clearing| expected| along| the| Highway| |101| and| Interstate| |280| corridors|.|"
          ]
        }
      ]
    },
    {
      "cell_type": "markdown",
      "source": [
        "## Adding in Memory\n",
        "Here we pass a checkpointer to give the agent an memory to make it statefull instead of being stateless."
      ],
      "metadata": {
        "id": "6JbdW4tqHHj8"
      }
    },
    {
      "cell_type": "code",
      "source": [
        "from langgraph.checkpoint.memory import MemorySaver\n",
        "\n",
        "memory = MemorySaver()"
      ],
      "metadata": {
        "id": "VYiPfN4BwqQM"
      },
      "execution_count": null,
      "outputs": []
    },
    {
      "cell_type": "code",
      "source": [
        "agent_executor = create_react_agent(model, tools, checkpointer=memory)\n",
        "config = {\"configurable\": {\"thread_id\": \"abc123\"}}"
      ],
      "metadata": {
        "id": "a6CjykthwqNq"
      },
      "execution_count": null,
      "outputs": []
    },
    {
      "cell_type": "code",
      "source": [
        "input_message={\"role\": \"user\", \"content\": \"Hi, I am Rama\"}\n",
        "for step in agent_executor.stream(\n",
        "    {\"messages\": [input_message]}, config, stream_mode=\"values\"\n",
        "):\n",
        "  step[\"messages\"][-1].pretty_print()"
      ],
      "metadata": {
        "colab": {
          "base_uri": "https://localhost:8080/"
        },
        "id": "fUeHHMC_wqLS",
        "outputId": "2b56789b-b732-43ff-b0c1-a28a677d21e3"
      },
      "execution_count": null,
      "outputs": [
        {
          "output_type": "stream",
          "name": "stdout",
          "text": [
            "================================\u001b[1m Human Message \u001b[0m=================================\n",
            "\n",
            "Hi, I am Rama\n",
            "==================================\u001b[1m Ai Message \u001b[0m==================================\n",
            "\n",
            "Hi Rama, it's nice to meet you! Is there something I can help you with or would you like to chat?\n"
          ]
        }
      ]
    },
    {
      "cell_type": "markdown",
      "source": [
        "## Streaming Messages"
      ],
      "metadata": {
        "id": "IH6vVRe0GyWf"
      }
    },
    {
      "cell_type": "code",
      "source": [
        "input_message = {\"role\": \"user\", \"content\": \"What's my name?\"}\n",
        "for step in agent_executor.stream(\n",
        "    {\"messages\": [input_message]}, config, stream_mode=\"values\"\n",
        "):\n",
        "    step[\"messages\"][-1].pretty_print()"
      ],
      "metadata": {
        "colab": {
          "base_uri": "https://localhost:8080/"
        },
        "id": "b1H3FXG028yu",
        "outputId": "74a89d20-827b-44b7-bcbf-5f3733b09a46"
      },
      "execution_count": null,
      "outputs": [
        {
          "output_type": "stream",
          "name": "stdout",
          "text": [
            "================================\u001b[1m Human Message \u001b[0m=================================\n",
            "\n",
            "What's my name?\n",
            "==================================\u001b[1m Ai Message \u001b[0m==================================\n",
            "\n",
            "Your name is Rama.\n"
          ]
        }
      ]
    }
  ]
}