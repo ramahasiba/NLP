{
  "nbformat": 4,
  "nbformat_minor": 0,
  "metadata": {
    "colab": {
      "provenance": [],
      "authorship_tag": "ABX9TyO8UTTw8cPqvLJex015fkzn",
      "include_colab_link": true
    },
    "kernelspec": {
      "name": "python3",
      "display_name": "Python 3"
    },
    "language_info": {
      "name": "python"
    }
  },
  "cells": [
    {
      "cell_type": "markdown",
      "metadata": {
        "id": "view-in-github",
        "colab_type": "text"
      },
      "source": [
        "<a href=\"https://colab.research.google.com/github/ramahasiba/NLP/blob/langGraph/Build_a_Question_Answering_System_Over_SQL_Data.ipynb\" target=\"_parent\"><img src=\"https://colab.research.google.com/assets/colab-badge.svg\" alt=\"Open In Colab\"/></a>"
      ]
    },
    {
      "cell_type": "markdown",
      "source": [
        "# [Build a Question Answering System Over SQL Data](https://python.langchain.com/docs/tutorials/sql_qa/)"
      ],
      "metadata": {
        "id": "XBUYe0Qadcck"
      }
    },
    {
      "cell_type": "code",
      "source": [
        "!apt-get update && apt-get install -y sqlite3 -q"
      ],
      "metadata": {
        "id": "GoG5B8lXaLHh"
      },
      "execution_count": null,
      "outputs": []
    },
    {
      "cell_type": "code",
      "execution_count": null,
      "metadata": {
        "id": "0i1pf0GqW0tV"
      },
      "outputs": [],
      "source": [
        "!curl -s https://raw.githubusercontent.com/lerocha/chinook-database/master/ChinookDatabase/DataSources/Chinook_Sqlite.sql | sqlite3 Chinook.db"
      ]
    },
    {
      "cell_type": "code",
      "source": [
        "%%capture --no-stderr\n",
        "%pip install --upgrade --quiet langchain-community langgraph"
      ],
      "metadata": {
        "id": "qN4LzhpDZWVW"
      },
      "execution_count": null,
      "outputs": []
    },
    {
      "cell_type": "code",
      "metadata": {
        "id": "c81f00b7"
      },
      "source": [
        "!pip install dotenv -q\n",
        "from dotenv import load_dotenv\n",
        "try:\n",
        "  load_dotenv('.env')\n",
        "except ImportError:\n",
        "  print('No .env file found')"
      ],
      "execution_count": null,
      "outputs": []
    },
    {
      "cell_type": "code",
      "source": [
        "import getpass\n",
        "import os\n",
        "\n",
        "os.environ[\"LANGSMITH_TRACING\"] = \"true\"\n",
        "os.environ[\"LANGSMITH_API_KEY\"] = os.environ.get(\"LANGSMITH_API_KEY\")"
      ],
      "metadata": {
        "id": "Hjke3R4maA6L"
      },
      "execution_count": null,
      "outputs": []
    },
    {
      "cell_type": "code",
      "source": [
        "!pip install -qU \"langchain[groq]\"\n",
        "os.environ[\"GROQ_API_KEY\"]=os.environ.get(\"GROQ_API_KEY\")\n",
        "\n",
        "model_name = \"llama3-70b-8192\"\n",
        "\n",
        "from langchain.chat_models import init_chat_model\n",
        "llm=init_chat_model(model_name, model_provider=\"groq\")"
      ],
      "metadata": {
        "id": "Dvzs91xqaAqX"
      },
      "execution_count": null,
      "outputs": []
    },
    {
      "cell_type": "code",
      "source": [
        "!pip install -qU langchain-huggingface\n",
        "\n",
        "from langchain_huggingface import HuggingFaceEmbeddings\n",
        "\n",
        "embeddings = HuggingFaceEmbeddings(model_name=\"sentence-transformers/all-mpnet-base-v2\")"
      ],
      "metadata": {
        "id": "FFOc6xDHelPq"
      },
      "execution_count": null,
      "outputs": []
    },
    {
      "cell_type": "code",
      "source": [
        "!pip install -qU langchain-chroma\n",
        "\n",
        "from langchain_chroma import Chroma\n",
        "\n",
        "vector_store = Chroma(\n",
        "    collection_name=\"example_collection\",\n",
        "    embedding_function=embeddings,\n",
        "    persist_directory=\"./chroma_langchain_db\",  # Where to save data locally, remove if not necessary\n",
        ")"
      ],
      "metadata": {
        "id": "hpbq-Cl0eqKI"
      },
      "execution_count": null,
      "outputs": []
    },
    {
      "cell_type": "code",
      "source": [
        "from langchain_community.utilities import SQLDatabase\n",
        "\n",
        "db = SQLDatabase.from_uri(\"sqlite:///Chinook.db\")\n",
        "print(db.dialect)\n",
        "print(db.get_usable_table_names())\n",
        "db.run(\"SELECT * FROM Artist LIMIT 10;\")"
      ],
      "metadata": {
        "id": "eKDxn38deuzQ"
      },
      "execution_count": null,
      "outputs": []
    },
    {
      "cell_type": "code",
      "source": [
        "from typing_extensions import TypedDict\n",
        "\n",
        "class State(TypedDict):\n",
        "  question: str\n",
        "  query: str\n",
        "  result: str\n",
        "  answer: str"
      ],
      "metadata": {
        "id": "-56_XkMioQiA"
      },
      "execution_count": null,
      "outputs": []
    },
    {
      "cell_type": "code",
      "source": [
        "from langchain_core.prompts import ChatPromptTemplate\n",
        "\n",
        "system_message = \"\"\"\n",
        "Given an input question, create a syntactically correct {dialect} query to\n",
        "run to help find the answer. Unless the user specifies in his question a\n",
        "specific number of examples they wish to obtain, always limit your query to\n",
        "at most {top_k} results. You can order the results by a relevant column to\n",
        "return the most interesting examples in the database.\n",
        "\n",
        "Never query for all the columns from a specific table, only ask for a the\n",
        "few relevant columns given the question.\n",
        "\n",
        "Pay attention to use only the column names that you can see in the schema\n",
        "description. Be careful to not query for columns that do not exist. Also,\n",
        "pay attention to which column is in which table.\n",
        "\n",
        "Only use the following tables:\n",
        "{table_info}\n",
        "\"\"\"\n",
        "\n",
        "user_prompt = \"Question: {input}\"\n",
        "\n",
        "query_prompt_template = ChatPromptTemplate(\n",
        "    [(\"system\", system_message), (\"user\", user_prompt)]\n",
        ")\n",
        "\n",
        "for message in query_prompt_template.messages:\n",
        "  message.pretty_print()"
      ],
      "metadata": {
        "id": "dpk29sG_qcNp"
      },
      "execution_count": null,
      "outputs": []
    },
    {
      "cell_type": "code",
      "source": [
        "from typing_extensions import Annotated, TypedDict\n",
        "class QueryOutput(TypedDict):\n",
        "  \"\"\"Generated SQL query.\"\"\"\n",
        "  query: Annotated[str, ..., \"Syntactically valid SQL query.\"]\n",
        "\n",
        "def write_query(state: State):\n",
        "  \"\"\"Generate SQL query to fetch information.\"\"\"\n",
        "  prompt = query_prompt_template.invoke(\n",
        "      {\n",
        "          \"dialect\": db.dialect,\n",
        "          \"top_k\": 10,\n",
        "          \"table_info\": db.get_table_info(),\n",
        "          \"input\": state[\"question\"],\n",
        "      }\n",
        "  )\n",
        "  structured_llm = llm.with_structured_output(QueryOutput)\n",
        "  result = structured_llm.invoke(prompt)\n",
        "  return {\"query\": result[\"query\"]}"
      ],
      "metadata": {
        "id": "lA25tycoqcKR"
      },
      "execution_count": null,
      "outputs": []
    },
    {
      "cell_type": "code",
      "source": [
        "write_query({\"question\": \"How many Employees are there?\"})"
      ],
      "metadata": {
        "id": "3gBAsLBxqcG2"
      },
      "execution_count": null,
      "outputs": []
    },
    {
      "cell_type": "code",
      "source": [
        "from langchain_community.tools.sql_database.tool import QuerySQLDatabaseTool\n",
        "\n",
        "def execute_query(state: State):\n",
        "  \"\"\"Execute SQL query.\"\"\"\n",
        "  execute_query_tool = QuerySQLDatabaseTool(db=db)\n",
        "  return {\"result\": execute_query_tool.invoke(state[\"query\"])}"
      ],
      "metadata": {
        "id": "yCdsgl3w0tC2"
      },
      "execution_count": null,
      "outputs": []
    },
    {
      "cell_type": "code",
      "source": [
        "execute_query({\"query\": \"SELECT COUNT(EmployeeId) AS EmployeeCount FROM Employee;\"})"
      ],
      "metadata": {
        "id": "LBbd5Ob70tAI"
      },
      "execution_count": null,
      "outputs": []
    },
    {
      "cell_type": "code",
      "source": [
        "def generate_answer(state: State):\n",
        "  \"\"\"Answer question using retrieved information as context.\"\"\"\n",
        "  prompt = (\n",
        "      \"Given the following user question, corresponding SQL query,\"\n",
        "      \"and SQL result, answer the user question. \\n\\n\"\n",
        "      f\"Question: {state['question']}\\n\"\n",
        "      f\"SQL Query: {state['query']}\\n\"\n",
        "      f\"SQL Result: {state['result']}\\n\"\n",
        "  )\n",
        "  response = llm.invoke(prompt)\n",
        "  return {\"answer\": response.content}"
      ],
      "metadata": {
        "id": "CkmcjyYG0s9W"
      },
      "execution_count": null,
      "outputs": []
    },
    {
      "cell_type": "code",
      "source": [
        "from langgraph.graph import START, StateGraph\n",
        "\n",
        "graph_builder = StateGraph(State).add_sequence(\n",
        "    [write_query, execute_query, generate_answer]\n",
        ")\n",
        "graph_builder.add_edge(START, \"write_query\")\n",
        "graph = graph_builder.compile()"
      ],
      "metadata": {
        "id": "8D_KC29d0s6p"
      },
      "execution_count": null,
      "outputs": []
    },
    {
      "cell_type": "code",
      "source": [
        "graph"
      ],
      "metadata": {
        "id": "M9DUs1mDqcD_"
      },
      "execution_count": null,
      "outputs": []
    },
    {
      "cell_type": "code",
      "source": [
        "for step in graph.stream(\n",
        "    {\"question\": \"How many employees are there?\"}, stream_mode=\"updates\"\n",
        "):\n",
        "  print(step)"
      ],
      "metadata": {
        "id": "SkIQZUeEoQZf"
      },
      "execution_count": null,
      "outputs": []
    },
    {
      "cell_type": "code",
      "source": [
        "from langgraph.checkpoint.memory import MemorySaver\n",
        "\n",
        "memory = MemorySaver()\n",
        "graph = graph_builder.compile(checkpointer=memory, interrupt_before=[\"execute_query\"])\n",
        "\n",
        "config = {\"configurable\": {\"thread_id\": \"1\"}}"
      ],
      "metadata": {
        "id": "e84dQ0aqoQWy"
      },
      "execution_count": null,
      "outputs": []
    },
    {
      "cell_type": "code",
      "source": [
        "graph"
      ],
      "metadata": {
        "id": "7DlzgAbwoQTb"
      },
      "execution_count": null,
      "outputs": []
    },
    {
      "cell_type": "code",
      "source": [
        "for step in graph.stream(\n",
        "  {\"question\": \"How amny employees are there?\"},\n",
        "  config,\n",
        "  stream_mode=\"updates\"\n",
        "):\n",
        "  print(step)\n",
        "\n",
        "try:\n",
        "  user_approval = input(\"Do you want to go to execute query? (yes/no):\")\n",
        "except Exception:\n",
        "  user_approval = \"no\"\n",
        "\n",
        "if user_approval.lower() == \"yes\":\n",
        "  # If approved, continue the graph ExecutionContext\n",
        "  for step in graph.stream(None, config, stream_mode=\"updates\"):\n",
        "    print(step)\n",
        "else:\n",
        "  print(\"Operation cancelled by user.\")"
      ],
      "metadata": {
        "id": "z-MLOdLpm_id"
      },
      "execution_count": null,
      "outputs": []
    },
    {
      "cell_type": "code",
      "source": [
        "from langchain_community.agent_toolkits import SQLDatabaseToolkit\n",
        "\n",
        "toolkit = SQLDatabaseToolkit(db=db, llm=llm)\n",
        "\n",
        "tools = toolkit.get_tools()\n",
        "\n",
        "tools"
      ],
      "metadata": {
        "id": "fNDRDqvOvEya"
      },
      "execution_count": null,
      "outputs": []
    },
    {
      "cell_type": "code",
      "source": [
        "system_message = \"\"\"\n",
        "You are an agent designed to interact with a SQL database.\n",
        "Given an input question, create a syntactically correct {dialect} query to run,\n",
        "then look at the results of the query and return the answer. Unless the user\n",
        "specifies a specific number of examples they wish to obtain, always limit your\n",
        "query to at most {top_k} results.\n",
        "\n",
        "You can order the results by a relevant column to return the most interesting\n",
        "examples in the database. Never query for all the columns from a specific table,\n",
        "only ask for the relevant columns given the question.\n",
        "\n",
        "You MUST double check your query before executing it. If you get an error while\n",
        "executing a query, rewrite the query and try again.\n",
        "\n",
        "DO NOT make any DML statements (INSERT, UPDATE, DELETE, DROP etc.) to the\n",
        "database.\n",
        "\n",
        "To start you should ALWAYS look at the tables in the database to see what you\n",
        "can query. Do NOT skip this step.\n",
        "\n",
        "Then you should query the schema of the most relevant tables.\n",
        "\"\"\".format(\n",
        "    dialect=\"SQLite\",\n",
        "    top_k=5,\n",
        ")"
      ],
      "metadata": {
        "id": "3lpzn-gmvEvy"
      },
      "execution_count": null,
      "outputs": []
    },
    {
      "cell_type": "code",
      "source": [
        "from langchain_core.messages import HumanMessage\n",
        "from langgraph.prebuilt import create_react_agent\n",
        "\n",
        "agent_executor = create_react_agent(llm, tools, prompt=system_message)"
      ],
      "metadata": {
        "id": "NfGQ89cUvEtK"
      },
      "execution_count": null,
      "outputs": []
    },
    {
      "cell_type": "code",
      "source": [
        "question = \"Which country's customers spent the most?\"\n",
        "\n",
        "for step in agent_executor.stream(\n",
        "    {\"messages\": [{\"role\": \"user\", \"content\": question}]},\n",
        "    stream_mode=\"values\",\n",
        "):\n",
        "  step[\"messages\"][-1].pretty_print()"
      ],
      "metadata": {
        "id": "uyzd70LuvEqb"
      },
      "execution_count": null,
      "outputs": []
    },
    {
      "cell_type": "code",
      "source": [
        "for step in agent_executor.stream(\n",
        "    {\"messages\": [{\"role\": \"user\", \"content\": question}]},\n",
        "    stream_mode=\"values\",\n",
        "):\n",
        "  print(f\"{step}\\n\\n----------------\\n\")"
      ],
      "metadata": {
        "id": "E2WqIVgNvEne"
      },
      "execution_count": null,
      "outputs": []
    },
    {
      "cell_type": "code",
      "source": [
        "import ast\n",
        "import re\n",
        "\n",
        "def query_as_list(db, query):\n",
        "  res = db.run(query)\n",
        "  res = [el for sub in ast.literal_eval(res) for el in sub if el]\n",
        "  res = [re.sub(r\"\\b\\d+\\b\", \"\", string).strip() for string in res]\n",
        "  return list(set(res))\n",
        "\n",
        "artists = query_as_list(db, \"SELECT Name FROM Artist\")\n",
        "albums = query_as_list(db, \"SELECT Title FROM Album\")\n",
        "albums[:5]"
      ],
      "metadata": {
        "id": "xhhZlnudvEk6"
      },
      "execution_count": null,
      "outputs": []
    },
    {
      "cell_type": "code",
      "source": [
        "!pip install -qU langchain-chroma"
      ],
      "metadata": {
        "id": "rK-7t9Mv9kLM"
      },
      "execution_count": null,
      "outputs": []
    },
    {
      "cell_type": "code",
      "source": [
        "from langchain_chroma import Chroma\n",
        "\n",
        "vector_store = Chroma(\n",
        "    collection_name=\"SQL_Agent\",\n",
        "    embedding_function=embeddings,\n",
        "    persist_directory=\"./db\",  # Where to save data locally, remove if not necessary\n",
        ")"
      ],
      "metadata": {
        "id": "NpRH1sb59kG9"
      },
      "execution_count": null,
      "outputs": []
    },
    {
      "cell_type": "code",
      "source": [
        "from langchain.agents.agent_toolkits import create_retriever_tool\n",
        "\n",
        "_ = vector_store.add_texts(artists + albums)\n",
        "retriever = vector_store.as_retriever(search_kwargs={\"k\": 5})\n",
        "description = (\n",
        "    \"Use to look up values to filter on. Input is an approximate spelling \"\n",
        "    \"of the proper noun, output is valid proper nouns. Use the noun most \"\n",
        "    \"similar to the search.\"\n",
        ")\n",
        "\n",
        "retriever_tool = create_retriever_tool(\n",
        "    retriever,\n",
        "    name=\"search_proper_nouns\",\n",
        "    description=description,\n",
        ")"
      ],
      "metadata": {
        "id": "w9R0iBLy9kEc"
      },
      "execution_count": null,
      "outputs": []
    },
    {
      "cell_type": "code",
      "source": [
        "print(retriever_tool.invoke(\"Alice Chains\"))"
      ],
      "metadata": {
        "id": "XScvilCFLbei"
      },
      "execution_count": null,
      "outputs": []
    },
    {
      "cell_type": "code",
      "source": [
        "# Add to system message\n",
        "suffix = (\n",
        "    \"If you need to filter on a proper noun like a Name, you must ALWAYS first look up \"\n",
        "    \"the filter value using the 'search_proper_nouns' tool! Do not try to \"\n",
        "    \"guess at the proper name - use this function to find similar ones.\"\n",
        ")\n",
        "\n",
        "system = f\"{system_message}\\n\\n{suffix}\"\n",
        "\n",
        "tools.append(retriever_tool)\n",
        "\n",
        "agent = create_react_agent(llm, tools, prompt=system)"
      ],
      "metadata": {
        "id": "g_K1H5_NLbcC"
      },
      "execution_count": null,
      "outputs": []
    },
    {
      "cell_type": "code",
      "source": [
        "question = \"How many albums does Aisha Duo in chain have?\"\n",
        "\n",
        "for step in agent.stream(\n",
        "    {\"messages\": [{\"role\": \"user\", \"content\": question}]},\n",
        "    stream_mode=\"values\",\n",
        "):\n",
        "    step[\"messages\"][-1].pretty_print()"
      ],
      "metadata": {
        "id": "Pq11JsMDLbEB"
      },
      "execution_count": null,
      "outputs": []
    },
    {
      "cell_type": "code",
      "metadata": {
        "id": "4fd9f170"
      },
      "source": [
        "print(retriever_tool.invoke(\"Alis\"))"
      ],
      "execution_count": null,
      "outputs": []
    },
    {
      "cell_type": "code",
      "metadata": {
        "id": "6d98e45b"
      },
      "source": [
        "# Get the list of all tables\n",
        "tables = db.get_usable_table_names()\n",
        "\n",
        "# Loop through each table and display a few rows\n",
        "for table_name in tables:\n",
        "    print(f\"\\n--- Sample rows from table: {table_name} ---\")\n",
        "    try:\n",
        "        # Limit to 5 rows for brevity\n",
        "        query = f\"SELECT * FROM {table_name} LIMIT 5;\"\n",
        "        rows = db.run(query)\n",
        "        print(rows)\n",
        "    except Exception as e:\n",
        "        print(f\"Could not retrieve data from {table_name}: {e}\")"
      ],
      "execution_count": null,
      "outputs": []
    },
    {
      "cell_type": "code",
      "source": [
        "print(db.run(\"SELECT * FROM Artist;\"))"
      ],
      "metadata": {
        "id": "IbQAkJAoQRsp"
      },
      "execution_count": null,
      "outputs": []
    },
    {
      "cell_type": "code",
      "source": [
        "question = \"How many artists are there?\"\n",
        "artists_number_response = agent.invoke(\n",
        "    {\"messages\": [{\"role\": \"user\", \"content\": question}]}\n",
        "    )"
      ],
      "metadata": {
        "id": "HQiEzThSQVAC"
      },
      "execution_count": null,
      "outputs": []
    },
    {
      "cell_type": "code",
      "source": [
        "artists_number_response[\"messages\"][-1]"
      ],
      "metadata": {
        "id": "ARqc1a-BQpOi"
      },
      "execution_count": null,
      "outputs": []
    },
    {
      "cell_type": "code",
      "source": [
        "agent"
      ],
      "metadata": {
        "id": "ka0ToT6SRm-e"
      },
      "execution_count": null,
      "outputs": []
    }
  ]
}