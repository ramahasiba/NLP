{
  "nbformat": 4,
  "nbformat_minor": 0,
  "metadata": {
    "colab": {
      "provenance": [],
      "authorship_tag": "ABX9TyMeOtgtXhR2C9FXxK4n2O//",
      "include_colab_link": true
    },
    "kernelspec": {
      "name": "python3",
      "display_name": "Python 3"
    },
    "language_info": {
      "name": "python"
    }
  },
  "cells": [
    {
      "cell_type": "markdown",
      "metadata": {
        "id": "view-in-github",
        "colab_type": "text"
      },
      "source": [
        "<a href=\"https://colab.research.google.com/github/ramahasiba/NLP/blob/LangChain/Build_a_Semantic_Search_Engine.ipynb\" target=\"_parent\"><img src=\"https://colab.research.google.com/assets/colab-badge.svg\" alt=\"Open In Colab\"/></a>"
      ]
    },
    {
      "cell_type": "markdown",
      "source": [
        "# [Build a Semantic Search Engine](https://python.langchain.com/docs/tutorials/retrievers/)"
      ],
      "metadata": {
        "id": "8iapj6s6LEuy"
      }
    },
    {
      "cell_type": "code",
      "source": [
        "!pip install -qU langchain-chroma"
      ],
      "metadata": {
        "id": "l5S3KByzboMJ"
      },
      "execution_count": null,
      "outputs": []
    },
    {
      "cell_type": "code",
      "execution_count": null,
      "metadata": {
        "id": "Jlhrl8m64ncA"
      },
      "outputs": [],
      "source": [
        "!pip install langchain-community pypdf -q"
      ]
    },
    {
      "cell_type": "markdown",
      "source": [
        "## Setup"
      ],
      "metadata": {
        "id": "axt4dCo7AZvy"
      }
    },
    {
      "cell_type": "code",
      "source": [
        "import os\n",
        "from pprint import pprint\n",
        "from dotenv import load_dotenv\n",
        "import getpass\n",
        "\n",
        "try:\n",
        "  load_dotenv('.env')\n",
        "except ImportError:\n",
        "  print('No .env file found')\n",
        "\n",
        "# Setup LangSmith to be able to inspect what exactly goes inside my chain or agent\n",
        "os.environ[\"LANGSMITH_TRACING\"] = \"true\"\n",
        "if \"LANGSMITH_API_KEY\" not in os.environ:\n",
        "  os.environ[\"LANGSMITH_API_KEY\"] = getpass.getpass(\n",
        "      prompt = \"Enter the Langsmith api key:\"\n",
        "  )\n",
        "\n",
        "if \"LANGSMITH_PROJECT\" not in os.environ:\n",
        "  os.environ[\"LANGSMITH_PROJECT\"] = getpass.getpass(\n",
        "      prompt = \"Enter langsmith project name: \"\n",
        "  )\n",
        "  if not os.environ.get(\"LANGSMITH_PROJECT\"):\n",
        "    os.environ[\"LANGSMITH_PROJECT\"] = \"default\"\n",
        "\n",
        "os.environ[\"GROQ_API_KEY\"] = os.getenv('GROQ_API_KEY')\n",
        "os.environ[\"HF_TOKEN\"] = os.getenv('HF_TOKEN')"
      ],
      "metadata": {
        "id": "chhdS2p6OaQx"
      },
      "execution_count": null,
      "outputs": []
    },
    {
      "cell_type": "markdown",
      "source": [
        "## Documents and Document Loader"
      ],
      "metadata": {
        "id": "W3xJgdxeAlqf"
      }
    },
    {
      "cell_type": "code",
      "source": [
        "from langchain_core.documents import Document\n",
        "\n",
        "# generate a sample documents\n",
        "documents = [\n",
        "    Document(\n",
        "        page_content=\"Dogs are great companies, known for their loyalty and friendliness.\",\n",
        "        metadata={\"source\": \"mammal-pets-doc\"},\n",
        "    ),\n",
        "    Document(\n",
        "        page_content=\"Cats are independent pets that often enjoy their own space.\",\n",
        "        metadata={\"source\": \"mammal-pets-doc\"}\n",
        "    ),\n",
        "]"
      ],
      "metadata": {
        "id": "vhnPbmqHOm0i"
      },
      "execution_count": null,
      "outputs": []
    },
    {
      "cell_type": "markdown",
      "source": [
        "## Loading Documents"
      ],
      "metadata": {
        "id": "o2KPDWgoCcY9"
      }
    },
    {
      "cell_type": "code",
      "source": [
        "from langchain_community.document_loaders import PyPDFLoader\n",
        "\n",
        "# loading the PDF into a sequence of documents objects, PyPDFLoader selected to it's fairly lightweight\n",
        "file_path = \"/content/nke-10k-2023.pdf\"\n",
        "loader = PyPDFLoader(file_path)\n",
        "\n",
        "docs = loader.load() # Load one Document object per PDF page\n",
        "\n",
        "print(len(docs))"
      ],
      "metadata": {
        "id": "_rnKJK_gTjnH"
      },
      "execution_count": null,
      "outputs": []
    },
    {
      "cell_type": "code",
      "source": [
        "print(f\"{docs[0].page_content[:200]}\\n\")\n",
        "print(docs[0].metadata) # metadata contains file name, page number and other information"
      ],
      "metadata": {
        "id": "oHPkQMquHZIF"
      },
      "execution_count": null,
      "outputs": []
    },
    {
      "cell_type": "markdown",
      "source": [
        "The PyPDFLoader loads one Document object per PDF page."
      ],
      "metadata": {
        "id": "suktUT8AUKqn"
      }
    },
    {
      "cell_type": "markdown",
      "source": [
        "## Splitting"
      ],
      "metadata": {
        "id": "9nQSULDRH6UX"
      }
    },
    {
      "cell_type": "code",
      "source": [
        "from langchain_text_splitters import RecursiveCharacterTextSplitter\n",
        "\n",
        "# Partition text based on characters\n",
        "text_splitter = RecursiveCharacterTextSplitter(\n",
        "    chunk_size=1000,\n",
        "    chunk_overlap=200,\n",
        "    add_start_index=True, # set this to true to preserve the character index where the split document starts\n",
        ")\n",
        "all_splits = text_splitter.split_documents(docs)\n",
        "\n",
        "len(all_splits)"
      ],
      "metadata": {
        "id": "4Fz8K_RjSHR9"
      },
      "execution_count": null,
      "outputs": []
    },
    {
      "cell_type": "markdown",
      "source": [
        "## Embeddings"
      ],
      "metadata": {
        "id": "4r9WooIh9TaX"
      }
    },
    {
      "cell_type": "code",
      "source": [
        "from langchain.embeddings import HuggingFaceEmbeddings\n",
        "\n",
        "model_name = \"sentence-transformers/all-mpnet-base-v2\"\n",
        "embeddings = HuggingFaceEmbeddings(model_name=\"sentence-transformers/all-mpnet-base-v2\")"
      ],
      "metadata": {
        "id": "4PXAaZKVP3qE"
      },
      "execution_count": null,
      "outputs": []
    },
    {
      "cell_type": "markdown",
      "source": [
        "## Vector Stores"
      ],
      "metadata": {
        "id": "SJ5qU6My_M5_"
      }
    },
    {
      "cell_type": "code",
      "source": [
        "from langchain_chroma import Chroma\n",
        "\n",
        "# instantiate the vector store\n",
        "vector_store = Chroma(\n",
        "    collection_name = \"nike\",\n",
        "    embedding_function=embeddings,\n",
        "    persist_directory=\"./db\"\n",
        ")"
      ],
      "metadata": {
        "id": "h1ihG4efdcjj"
      },
      "execution_count": null,
      "outputs": []
    },
    {
      "cell_type": "code",
      "source": [
        "# index the documents into the vector store\n",
        "idx = vector_store.add_documents(documents=all_splits)"
      ],
      "metadata": {
        "id": "trCiN28WeKWj"
      },
      "execution_count": null,
      "outputs": []
    },
    {
      "cell_type": "code",
      "source": [
        "results = vector_store.similarity_search(\n",
        "    \"How many distribution centers does Nike have in the US?\"\n",
        ")\n",
        "\n",
        "print(results[0])"
      ],
      "metadata": {
        "id": "gaZ_JOS-ec3w"
      },
      "execution_count": null,
      "outputs": []
    },
    {
      "cell_type": "markdown",
      "source": [
        "Async query:"
      ],
      "metadata": {
        "id": "zKVwmH3uBTR3"
      }
    },
    {
      "cell_type": "code",
      "source": [
        "results = await vector_store.asimilarity_search(\"When was Nike incorporated?\")\n",
        "\n",
        "print(results[0])"
      ],
      "metadata": {
        "id": "lOhLmmVJffAn"
      },
      "execution_count": null,
      "outputs": []
    },
    {
      "cell_type": "markdown",
      "source": [
        "Return with scores:"
      ],
      "metadata": {
        "id": "okiY58JWBXpp"
      }
    },
    {
      "cell_type": "code",
      "source": [
        "# different providers generate different scores\n",
        "\n",
        "results = vector_store.similarity_search_with_score(\"What was Nike's revenue in 2023?\")\n",
        "doc, score = results[0]\n",
        "print(f\"Score: {score}\\n\")\n",
        "print(doc)"
      ],
      "metadata": {
        "id": "UDaSM5EFgbfY"
      },
      "execution_count": null,
      "outputs": []
    },
    {
      "cell_type": "markdown",
      "source": [
        "Return documents based on similarity to an embedded query:"
      ],
      "metadata": {
        "id": "igJ9c-tDBgV4"
      }
    },
    {
      "cell_type": "code",
      "source": [
        "embedding = embeddings.embed_query(\"How were Nike's margins impacted in 2023?\")\n",
        "\n",
        "results = vector_store.similarity_search_by_vector(embedding)\n",
        "print(results[0])"
      ],
      "metadata": {
        "id": "x7i7xZCwv03m"
      },
      "execution_count": null,
      "outputs": []
    },
    {
      "cell_type": "markdown",
      "source": [
        "## Retrievers"
      ],
      "metadata": {
        "id": "xa4q8DnwBo3I"
      }
    },
    {
      "cell_type": "code",
      "source": [
        "from typing import List\n",
        "\n",
        "from langchain_core.documents import Document\n",
        "from langchain_core.runnables import chain\n",
        "\n",
        "# creating a simple version of the retriever without subclassing Retriever\n",
        "# building one around the similarity search method\n",
        "@chain\n",
        "def retriever(query: str) -> List[Document]:\n",
        "  return vector_store.similarity_search(query, k=1)\n",
        "\n",
        "retriever.batch([\n",
        "    \"How many distribution centers does Nike have in the US?\",\n",
        "    \"When was Nike incorporated?\"\n",
        "])\n",
        "\n",
        "# ------------------ Above code replication ------------------\n",
        "retriever = vector_store.as_retriever(\n",
        "    search_type=\"similarity\",\n",
        "    searh_kwargs={\"k\": 1}\n",
        ")\n",
        "\n",
        "retriever.batch([\n",
        "    \"How many distribution centers does Nike have in the US?\",\n",
        "    \"When was Nike incorporated?\"\n",
        "])"
      ],
      "metadata": {
        "id": "Clc2T2hFzYhB"
      },
      "execution_count": null,
      "outputs": []
    }
  ]
}