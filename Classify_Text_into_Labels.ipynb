{
  "nbformat": 4,
  "nbformat_minor": 0,
  "metadata": {
    "colab": {
      "provenance": [],
      "authorship_tag": "ABX9TyNBAJyorxZtIbQWeKx+I+Xf",
      "include_colab_link": true
    },
    "kernelspec": {
      "name": "python3",
      "display_name": "Python 3"
    },
    "language_info": {
      "name": "python"
    }
  },
  "cells": [
    {
      "cell_type": "markdown",
      "metadata": {
        "id": "view-in-github",
        "colab_type": "text"
      },
      "source": [
        "<a href=\"https://colab.research.google.com/github/ramahasiba/NLP/blob/LangChain/Classify_Text_into_Labels.ipynb\" target=\"_parent\"><img src=\"https://colab.research.google.com/assets/colab-badge.svg\" alt=\"Open In Colab\"/></a>"
      ]
    },
    {
      "cell_type": "markdown",
      "source": [
        "# [Classify Text into Labels](https://python.langchain.com/docs/tutorials/classification/)"
      ],
      "metadata": {
        "id": "Kt_-Ibkr6Hz1"
      }
    },
    {
      "cell_type": "code",
      "execution_count": 1,
      "metadata": {
        "id": "_49JkDTq5sYc"
      },
      "outputs": [],
      "source": [
        "!pip install --upgrade -q langchain-core"
      ]
    },
    {
      "cell_type": "code",
      "source": [
        "!pip install -q dotenv"
      ],
      "metadata": {
        "id": "lBJbGCki8l1r"
      },
      "execution_count": 2,
      "outputs": []
    },
    {
      "cell_type": "code",
      "source": [
        "!pip install langchain_openai -q"
      ],
      "metadata": {
        "id": "eBkvVSzp9KBs"
      },
      "execution_count": 5,
      "outputs": []
    },
    {
      "cell_type": "code",
      "source": [
        "!pip install -U langchain-groq -q"
      ],
      "metadata": {
        "colab": {
          "base_uri": "https://localhost:8080/"
        },
        "id": "oxbxqKxA_pPS",
        "outputId": "7f804f96-50a1-4212-bdb8-b132c40a1bd5"
      },
      "execution_count": 7,
      "outputs": [
        {
          "output_type": "stream",
          "name": "stdout",
          "text": [
            "\u001b[?25l   \u001b[90m━━━━━━━━━━━━━━━━━━━━━━━━━━━━━━━━━━━━━━━━\u001b[0m \u001b[32m0.0/130.8 kB\u001b[0m \u001b[31m?\u001b[0m eta \u001b[36m-:--:--\u001b[0m\r\u001b[2K   \u001b[90m━━━━━━━━━━━━━━━━━━━━━━━━━━━━━━━━━━━━━━━━\u001b[0m \u001b[32m130.8/130.8 kB\u001b[0m \u001b[31m3.9 MB/s\u001b[0m eta \u001b[36m0:00:00\u001b[0m\n",
            "\u001b[?25h"
          ]
        }
      ]
    },
    {
      "cell_type": "markdown",
      "source": [
        "## Setup"
      ],
      "metadata": {
        "id": "h48N4vcwPT5K"
      }
    },
    {
      "cell_type": "code",
      "source": [
        "import os\n",
        "from pprint import pprint\n",
        "from dotenv import load_dotenv\n",
        "import getpass\n",
        "\n",
        "try:\n",
        "  load_dotenv('.env')\n",
        "except ImportError:\n",
        "  print('No .env file found')\n",
        "\n",
        "# Setup LangSmith to be able to inspect what exactly goes inside my chain or agent\n",
        "os.environ[\"LANGSMITH_TRACING\"] = \"true\"\n",
        "if \"LANGSMITH_API_KEY\" not in os.environ:\n",
        "  os.environ[\"LANGSMITH_API_KEY\"] = getpass.getpass(\n",
        "      prompt = \"Enter the Langsmith api key:\"\n",
        "  )\n",
        "\n",
        "if \"LANGSMITH_PROJECT\" not in os.environ:\n",
        "  os.environ[\"LANGSMITH_PROJECT\"] = getpass.getpass(\n",
        "      prompt = \"Enter langsmith project name: \"\n",
        "  )\n",
        "  if not os.environ.get(\"LANGSMITH_PROJECT\"):\n",
        "    os.environ[\"LANGSMITH_PROJECT\"] = \"default\"\n",
        "\n",
        "os.environ[\"GROQ_API_KEY\"] = os.getenv('GROQ_API_KEY')\n",
        "os.environ[\"HF_TOKEN\"] = os.getenv('HF_TOKEN')"
      ],
      "metadata": {
        "colab": {
          "base_uri": "https://localhost:8080/"
        },
        "id": "i_xVP8ma8HZ5",
        "outputId": "f0cb47d2-bdc0-4f88-cc57-15747a003b2c"
      },
      "execution_count": 3,
      "outputs": [
        {
          "name": "stdout",
          "output_type": "stream",
          "text": [
            "Enter langsmith project name: ··········\n"
          ]
        }
      ]
    },
    {
      "cell_type": "code",
      "source": [
        "from langchain.chat_models import init_chat_model # Chat model is unstance of the runnable interface\n",
        "model_name = \"llama3-70b-8192\"\n",
        "\n",
        "llm=init_chat_model(model_name, model_provider=\"groq\")"
      ],
      "metadata": {
        "id": "zdE2QYyU_QXq"
      },
      "execution_count": 8,
      "outputs": []
    },
    {
      "cell_type": "markdown",
      "source": [
        "## Define a Pydantic model with properties and their expectedtype in the schema"
      ],
      "metadata": {
        "id": "HAgCKekViSl5"
      }
    },
    {
      "cell_type": "code",
      "source": [
        "from langchain_core.prompts import ChatPromptTemplate\n",
        "from langchain_openai import ChatOpenAI\n",
        "from pydantic import BaseModel, Field\n",
        "\n",
        "tagging_prompt = ChatPromptTemplate.from_template(\n",
        "    \"\"\"\n",
        "    Extract the desired information from the following passage.\n",
        "\n",
        "    Only extract the properties mentioned in the 'Classification' function.\n",
        "\n",
        "    passage: {input}\n",
        "    \"\"\"\n",
        ")\n",
        "\n",
        "class Classification(BaseModel):\n",
        "  sentiment: str = Field(description=\"The sentiment of the text\")\n",
        "  aggressiveness: int = Field(\n",
        "      description=\"How aggressive the text is on a scale from 1 to 10\"\n",
        "  )\n",
        "  language: str = Field(description=\"The language the text is written in\")\n",
        "\n",
        "# Structured LLM\n",
        "structured_llm = llm.with_structured_output(Classification)"
      ],
      "metadata": {
        "id": "YR4yqdgd8q37"
      },
      "execution_count": 9,
      "outputs": []
    },
    {
      "cell_type": "markdown",
      "source": [
        "the `with_structured_output` method takes a schema, which can be specified as a TypedDict class, JSON Schema or a Pydantic class, the method specifies the names, types, and descriptions of the desired output attributes. it returns a model like runnable."
      ],
      "metadata": {
        "id": "SmrlXgvESWV6"
      }
    },
    {
      "cell_type": "code",
      "source": [
        "inp =  \"Estoy increiblemente contento de haberte conocido! Creo que seremos muy buenos amigos!\"\n",
        "prompt = tagging_prompt.invoke({\n",
        "    \"input\": inp\n",
        "})"
      ],
      "metadata": {
        "id": "KRpeCRXY_2Yq"
      },
      "execution_count": 10,
      "outputs": []
    },
    {
      "cell_type": "code",
      "source": [
        "response  = structured_llm.invoke(prompt)\n",
        "response"
      ],
      "metadata": {
        "colab": {
          "base_uri": "https://localhost:8080/"
        },
        "id": "N4lN_4c2_0ci",
        "outputId": "bdf4423e-e8cf-4daf-8804-7e492f3a8eac"
      },
      "execution_count": 11,
      "outputs": [
        {
          "output_type": "execute_result",
          "data": {
            "text/plain": [
              "Classification(sentiment='Positive', aggressiveness=1, language='Spanish')"
            ]
          },
          "metadata": {},
          "execution_count": 11
        }
      ]
    },
    {
      "cell_type": "markdown",
      "source": [
        "if any of the attributes is missed or have wrong type, then the Pydantic schema will raise an error."
      ],
      "metadata": {
        "id": "cQc1CZkPXxI5"
      }
    },
    {
      "cell_type": "markdown",
      "source": [
        "### Generate a dictionary output"
      ],
      "metadata": {
        "id": "kkLEo01liwS_"
      }
    },
    {
      "cell_type": "code",
      "source": [
        "inp = \"Estoy muy enojado con vos! Te voy a dar tu merecido!\"\n",
        "prompt = tagging_prompt.invoke({\"input\": inp})\n",
        "response = structured_llm.invoke(prompt)\n",
        "\n",
        "response.model_dump()"
      ],
      "metadata": {
        "colab": {
          "base_uri": "https://localhost:8080/"
        },
        "id": "FAA3FvPn_0Jq",
        "outputId": "eb64e3e4-efaf-4592-aa65-92f6bcdbc34f"
      },
      "execution_count": 13,
      "outputs": [
        {
          "output_type": "execute_result",
          "data": {
            "text/plain": [
              "{'sentiment': 'angry', 'aggressiveness': 10, 'language': 'Spanish'}"
            ]
          },
          "metadata": {},
          "execution_count": 13
        }
      ]
    },
    {
      "cell_type": "markdown",
      "source": [
        "## Finer Control\n",
        "we do this control to get more accurate result, where careful schema definition gives us more control over the model's output. We can define:\n",
        "- possible values for each property\n",
        "- Description to make sure that the model understands the property.\n",
        "- Required properties to be returned\n"
      ],
      "metadata": {
        "id": "bFcwe44li5QA"
      }
    },
    {
      "cell_type": "code",
      "source": [
        "class Classification(BaseModel):\n",
        "  sentiment: str = Field(..., enum=[\"happy\", \"neutral\", \"sad\"])\n",
        "  aggressiveness: int = Field(\n",
        "      ...,\n",
        "      description = \"describe how aggressive the statement is, the higher the number the more aggressive\",\n",
        "      enum=[1, 2, 3, 4, 5]\n",
        "  )\n",
        "  language: str = Field(\n",
        "      ...,\n",
        "      enum=[\"spanish\", \"english\", 'french', \"german\", \"italian\"]\n",
        "  )"
      ],
      "metadata": {
        "id": "Kb4DTq9o_0Gq"
      },
      "execution_count": null,
      "outputs": []
    },
    {
      "cell_type": "code",
      "source": [
        "tagging_prompt = ChatPromptTemplate.from_template(\n",
        "    \"\"\"\n",
        "    Extract the desired information from the following passage.\n",
        "\n",
        "    Only extract the properties mentioned int the 'Classification' function.\n",
        "\n",
        "    Passage: {input}\n",
        "    \"\"\"\n",
        ")\n",
        "\n",
        "structured_llm = llm.with_structured_output(Classification)"
      ],
      "metadata": {
        "id": "ia5c8rFo_zAx"
      },
      "execution_count": 14,
      "outputs": []
    },
    {
      "cell_type": "code",
      "source": [
        "inp = \"Estoy increiblemente contento de haberte conocido! Creo que seremos muy buenos amigos!\"\n",
        "prompt = tagging_prompt.invoke({\"input\": inp})\n",
        "structured_llm.invoke(prompt)"
      ],
      "metadata": {
        "colab": {
          "base_uri": "https://localhost:8080/"
        },
        "id": "VAx-hxXmLvsO",
        "outputId": "af87792c-ebd9-43d3-b286-482cfd2750a6"
      },
      "execution_count": 16,
      "outputs": [
        {
          "output_type": "execute_result",
          "data": {
            "text/plain": [
              "Classification(sentiment='Positive', aggressiveness=1, language='Spanish')"
            ]
          },
          "metadata": {},
          "execution_count": 16
        }
      ]
    },
    {
      "cell_type": "code",
      "source": [
        "inp = \"Estoy muy enojado con vos! Te voy a dar tu merecido!\"\n",
        "prompt = tagging_prompt.invoke({\"input\": inp})\n",
        "structured_llm.invoke(prompt)"
      ],
      "metadata": {
        "colab": {
          "base_uri": "https://localhost:8080/"
        },
        "id": "m99rN5N9Lykx",
        "outputId": "e79741cc-75fa-4dc6-f0f7-de66707e013e"
      },
      "execution_count": 18,
      "outputs": [
        {
          "output_type": "execute_result",
          "data": {
            "text/plain": [
              "Classification(sentiment='Angry', aggressiveness=10, language='Spanish')"
            ]
          },
          "metadata": {},
          "execution_count": 18
        }
      ]
    },
    {
      "cell_type": "code",
      "source": [
        "inp = \"Weather is ok here, I can go outside without much more than a coat\"\n",
        "prompt = tagging_prompt.invoke({\"input\": inp})\n",
        "structured_llm.invoke(prompt)"
      ],
      "metadata": {
        "colab": {
          "base_uri": "https://localhost:8080/"
        },
        "id": "XiTcfo3FLyia",
        "outputId": "1c2e81e4-5996-4bd6-f693-6e6877b8f330"
      },
      "execution_count": 20,
      "outputs": [
        {
          "output_type": "execute_result",
          "data": {
            "text/plain": [
              "Classification(sentiment='neutral', aggressiveness=5, language='English')"
            ]
          },
          "metadata": {},
          "execution_count": 20
        }
      ]
    }
  ]
}